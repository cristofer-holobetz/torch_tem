{
 "cells": [
  {
   "cell_type": "code",
   "execution_count": 1,
   "id": "51317da6-b9d1-42c0-aa50-ea5f0365447b",
   "metadata": {},
   "outputs": [],
   "source": [
    "def print_proper_time(seconds):\n",
    "    # hours\n",
    "    if seconds > 3600:\n",
    "        output_str = '{0} hours'.format(seconds / 3600)\n",
    "    # minutes\n",
    "    elif seconds > 60:\n",
    "        output_str = '{0} minutes'.format(seconds / 60)\n",
    "    # seconds\n",
    "    else:\n",
    "        output_str = '{0} seconds'.format(seconds)\n",
    "    return 'Finished running in ' + output_str"
   ]
  },
  {
   "cell_type": "code",
   "execution_count": 2,
   "id": "6316e053-f533-48cf-aee6-aec269d1c504",
   "metadata": {},
   "outputs": [],
   "source": [
    "#import utils"
   ]
  },
  {
   "cell_type": "code",
   "execution_count": 3,
   "id": "82cc6ba1-8f38-45be-8c78-35ebda191565",
   "metadata": {},
   "outputs": [],
   "source": [
    "from time import time\n",
    "#import utils\n",
    "#import analyse\n",
    "#import run"
   ]
  },
  {
   "cell_type": "code",
   "execution_count": 4,
   "id": "248aa1d8-3270-4953-9549-729c6a77f9cf",
   "metadata": {},
   "outputs": [],
   "source": [
    "#import importlib\n",
    "#importlib.reload(run)"
   ]
  },
  {
   "cell_type": "code",
   "execution_count": 5,
   "id": "efe05d95-0739-4886-b0a3-bc406669d537",
   "metadata": {},
   "outputs": [],
   "source": [
    "#reload(utils)"
   ]
  },
  {
   "cell_type": "markdown",
   "id": "a1ba4cde-09ee-4822-9a1a-e5f9fb6b12bd",
   "metadata": {},
   "source": [
    "### Run in 10x10 environment"
   ]
  },
  {
   "cell_type": "code",
   "execution_count": null,
   "id": "6d154daa-9c7b-4088-8a20-c28f38bb03c2",
   "metadata": {},
   "outputs": [],
   "source": [
    "time0 = time()\n",
    "\n",
    "%run run.py\n",
    "\n",
    "print_proper_time(time() - time0)"
   ]
  },
  {
   "cell_type": "code",
   "execution_count": null,
   "id": "11938591-2d16-4238-aaf2-73f2b620bb99",
   "metadata": {},
   "outputs": [],
   "source": []
  }
 ],
 "metadata": {
  "kernelspec": {
   "display_name": "Python 3",
   "language": "python",
   "name": "python3"
  },
  "language_info": {
   "codemirror_mode": {
    "name": "ipython",
    "version": 3
   },
   "file_extension": ".py",
   "mimetype": "text/x-python",
   "name": "python",
   "nbconvert_exporter": "python",
   "pygments_lexer": "ipython3",
   "version": "3.9.7"
  }
 },
 "nbformat": 4,
 "nbformat_minor": 5
}
