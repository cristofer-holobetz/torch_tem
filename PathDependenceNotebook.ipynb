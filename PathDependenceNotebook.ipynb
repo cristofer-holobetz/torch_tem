{
 "cells": [
  {
   "cell_type": "code",
   "execution_count": 1,
   "id": "65503b4e-8836-43cf-8616-c5878851de59",
   "metadata": {},
   "outputs": [],
   "source": [
    "import torch\n",
    "import numpy as np\n",
    "import test\n",
    "import matplotlib.pyplot as plt\n",
    "from matplotlib import cm\n",
    "from time import time\n",
    "import analyse\n",
    "from importlib import reload\n",
    "from itertools import permutations\n",
    "import world\n",
    "import glob\n",
    "import plot\n",
    "from scipy.sparse.csgraph import shortest_path\n",
    "from copy import deepcopy"
   ]
  },
  {
   "cell_type": "code",
   "execution_count": 2,
   "id": "06a619b1-f445-45fb-b1f6-db5bb483a3e0",
   "metadata": {},
   "outputs": [],
   "source": [
    "def trajectory_len(trajectory):\n",
    "    return abs(trajectory[1] - trajectory[0]) * 2 + 6"
   ]
  },
  {
   "cell_type": "code",
   "execution_count": 3,
   "id": "16caeebe-d9d5-4279-95a6-30888c55c470",
   "metadata": {},
   "outputs": [],
   "source": [
    "def make_trajectory_dict():\n",
    "    trajectories = permutations(np.arange(6), r=2)\n",
    "    trajectory_dict = {}\n",
    "    for traj_idx, traj in enumerate(trajectories):\n",
    "        trajectory_dict[traj] = traj_idx\n",
    "    return trajectory_dict"
   ]
  },
  {
   "cell_type": "code",
   "execution_count": 4,
   "id": "95713f9f-1e22-41a3-869b-7a0d40db104e",
   "metadata": {},
   "outputs": [],
   "source": [
    "def locations_in_trajectory(trajectory, environment):\n",
    "    \n",
    "    adjacency = np.array(self.adjacency) \n",
    "    dists, pred = shortest_path(adjacency, directed=False, method='FW', return_predecessors=True)\n",
    "\n",
    "    trajectory_locs = [environment.locations[state_id] for state_id in self.get_path(pred, curr_arm_end_state, new_arm_end_state)][1:]\n",
    "    "
   ]
  },
  {
   "cell_type": "code",
   "execution_count": 5,
   "id": "94e9e0e6-9bd8-4661-be7d-6442a8296977",
   "metadata": {},
   "outputs": [],
   "source": [
    "def print_proper_time(seconds):\n",
    "    # hours\n",
    "    if seconds > 3600:\n",
    "        output_str = '{0} hours'.format(seconds / 3600)\n",
    "    # minutes\n",
    "    elif seconds > 60:\n",
    "        output_str = '{0} minutes'.format(seconds / 60)\n",
    "    # seconds\n",
    "    else:\n",
    "        output_str = '{0} seconds'.format(seconds)\n",
    "    return 'Finished running in ' + output_str"
   ]
  },
  {
   "cell_type": "code",
   "execution_count": 16,
   "id": "38b74c50-0eff-4cd5-af20-748ba8e03283",
   "metadata": {},
   "outputs": [],
   "source": [
    "IDX = '19000'"
   ]
  },
  {
   "cell_type": "code",
   "execution_count": 17,
   "id": "d5acb60f-50ad-450d-aedf-f175a0a40916",
   "metadata": {},
   "outputs": [],
   "source": [
    "# 2022-04-21; run0 uses purely sweeping policy\n",
    "DATE = '2022-08-02'\n",
    "RUN = '0'\n",
    "PATH = '/cumulus/cristofer/TEM_data/{0}/run{1}/model/'.format(DATE, RUN)\n",
    "SAVE_DIR = '/cumulus/cristofer/TEM_figs/{0}/run{1}/'.format(DATE, RUN)"
   ]
  },
  {
   "cell_type": "code",
   "execution_count": 18,
   "id": "ac456e63-b551-46a6-8b1f-e43e35541552",
   "metadata": {},
   "outputs": [],
   "source": [
    "params = torch.load('/cumulus/cristofer/TEM_data/' + DATE + '/run' + RUN + '/model/params_' + IDX + '.pt')\n",
    "\n",
    "# Make list of all the environments that this model was trained on\n",
    "env_list = list(glob.iglob('/cumulus/cristofer/TEM_data/' + DATE + '/run' + RUN + '/script/envs/*'))\n",
    "\n",
    "# Set which environments will include shiny objects\n",
    "shiny_envs = [False, False, False, False]\n",
    "# Set the number of walks to execute in parallel (batch size)\n",
    "n_walks = len(shiny_envs)\n",
    "# Select environments from the environments included in training\n",
    "environments = [world.World(graph, randomise_observations=params['randomise_observations'], shiny=(params['shiny'] if shiny_envs[env_i] else None), specify_behavior=params['specify_behavior'], behavior_type=params['behavior_type'], seed=0) for env_i, graph in enumerate(np.random.choice(env_list, n_walks))]\n"
   ]
  },
  {
   "cell_type": "code",
   "execution_count": 19,
   "id": "92c6453c-9335-4523-b69f-a76cb6b4bec9",
   "metadata": {},
   "outputs": [],
   "source": [
    "fwd, mod, envs = test.get_forward(date=DATE, run=RUN, env_to_plot=0, index=IDX, seed=0)"
   ]
  },
  {
   "cell_type": "code",
   "execution_count": 20,
   "id": "7f524145-105c-4d81-97b7-49f09029666f",
   "metadata": {
    "scrolled": true,
    "tags": []
   },
   "outputs": [],
   "source": [
    "all_g_sweep, all_p_sweep = analyse.trajectories_rate_maps(fwd, mod, envs)"
   ]
  },
  {
   "cell_type": "code",
   "execution_count": null,
   "id": "e5add646-0292-4b98-b922-55735b55e354",
   "metadata": {},
   "outputs": [],
   "source": []
  }
 ],
 "metadata": {
  "kernelspec": {
   "display_name": "Python 3",
   "language": "python",
   "name": "python3"
  },
  "language_info": {
   "codemirror_mode": {
    "name": "ipython",
    "version": 3
   },
   "file_extension": ".py",
   "mimetype": "text/x-python",
   "name": "python",
   "nbconvert_exporter": "python",
   "pygments_lexer": "ipython3",
   "version": "3.9.7"
  }
 },
 "nbformat": 4,
 "nbformat_minor": 5
}
