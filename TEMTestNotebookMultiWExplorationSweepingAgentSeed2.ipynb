{
 "cells": [
  {
   "cell_type": "markdown",
   "id": "efac14f5-e8b3-48a4-b3fe-0c733d6bb1dd",
   "metadata": {},
   "source": [
    "## MultiWExploration on 2022-08-02 with batch_size=16 and n_rollout=50 and sweeping policy"
   ]
  },
  {
   "cell_type": "code",
   "execution_count": 1,
   "id": "951870fa-d340-4439-9399-5b00d311d56a",
   "metadata": {},
   "outputs": [],
   "source": [
    "from time import time\n",
    "import utils\n",
    "import plot\n",
    "import test\n",
    "import analyse\n",
    "import model\n",
    "import numpy as np\n",
    "import torch"
   ]
  },
  {
   "cell_type": "code",
   "execution_count": 2,
   "id": "f99753e6-e5a2-49b3-b0a9-2cc8b9f5abf2",
   "metadata": {},
   "outputs": [],
   "source": [
    "DATE = '2022-08-04'\n",
    "RUN = '0'\n",
    "PATH = '/cumulus/cristofer/TEM_data/{0}/run{1}/model/'.format(DATE, RUN)\n",
    "SAVE_DIR = '/cumulus/cristofer/TEM_figs/{0}/run{1}/'.format(DATE, RUN)"
   ]
  },
  {
   "cell_type": "code",
   "execution_count": 3,
   "id": "c31d8165-ddd4-440c-bab5-83c20564713b",
   "metadata": {},
   "outputs": [],
   "source": [
    "ALREADY_TESTED = []"
   ]
  },
  {
   "cell_type": "code",
   "execution_count": null,
   "id": "3622f8a5-b66d-49c6-80b5-28919a2f251c",
   "metadata": {
    "tags": []
   },
   "outputs": [
    {
     "name": "stdout",
     "output_type": "stream",
     "text": [
      "Found these untested indexes: ['0']\n",
      "Attempting to test all at 16:52:56, 2022-08-02\n"
     ]
    }
   ],
   "source": [
    "finished_testing = test.test_recurring(save_dir=SAVE_DIR, model_directory_path=PATH, date=DATE, run=RUN, env_to_plot=0, which_plots=['zero-shot', 'rate_maps'], seed=0, columns=13, already_tested=ALREADY_TESTED, test_period=172800, test_interval=18000)"
   ]
  },
  {
   "cell_type": "code",
   "execution_count": null,
   "id": "a7af973a-2335-4fbb-938e-d4dd76390beb",
   "metadata": {},
   "outputs": [],
   "source": [
    "finished_testing"
   ]
  },
  {
   "cell_type": "code",
   "execution_count": null,
   "id": "7472c8b3-3836-40f7-aaef-6ea0da19b5ca",
   "metadata": {},
   "outputs": [],
   "source": []
  }
 ],
 "metadata": {
  "kernelspec": {
   "display_name": "Python 3",
   "language": "python",
   "name": "python3"
  },
  "language_info": {
   "codemirror_mode": {
    "name": "ipython",
    "version": 3
   },
   "file_extension": ".py",
   "mimetype": "text/x-python",
   "name": "python",
   "nbconvert_exporter": "python",
   "pygments_lexer": "ipython3",
   "version": "3.9.7"
  }
 },
 "nbformat": 4,
 "nbformat_minor": 5
}
