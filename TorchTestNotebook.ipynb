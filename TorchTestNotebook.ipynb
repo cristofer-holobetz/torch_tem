{
 "cells": [
  {
   "cell_type": "code",
   "execution_count": null,
   "id": "f88e7b11-af98-4d52-9939-88eb321cffb6",
   "metadata": {},
   "outputs": [],
   "source": [
    "import torch\n",
    "import numpy as np\n",
    "import test\n",
    "import matplotlib.pyplot as plt\n",
    "from matplotlib import cm\n",
    "from time import time\n",
    "import analyse\n",
    "from importlib import reload\n",
    "from itertools import permutations\n",
    "import world\n",
    "import glob\n",
    "import plot\n",
    "from scipy.sparse.csgraph import shortest_path\n",
    "from copy import deepcopy"
   ]
  },
  {
   "cell_type": "code",
   "execution_count": null,
   "id": "2ef059c1-498b-4e46-898f-ef924a3f509c",
   "metadata": {},
   "outputs": [],
   "source": [
    "def trajectory_len(trajectory):\n",
    "    return abs(trajectory[1] - trajectory[0]) * 2 + 6"
   ]
  },
  {
   "cell_type": "code",
   "execution_count": null,
   "id": "72c622ea-c9f7-445c-8e38-0e2076c46ad7",
   "metadata": {},
   "outputs": [],
   "source": [
    "def make_trajectory_dict():\n",
    "    trajectories = permutations(np.arange(6), r=2)\n",
    "    trajectory_dict = {}\n",
    "    for traj_idx, traj in enumerate(trajectories):\n",
    "        trajectory_dict[traj] = traj_idx\n",
    "    return trajectory_dict"
   ]
  },
  {
   "cell_type": "code",
   "execution_count": null,
   "id": "8a3ded79-95ff-4c4f-8541-db6064c4cc77",
   "metadata": {},
   "outputs": [],
   "source": [
    "def locations_in_trajectory(trajectory, environment):\n",
    "    \n",
    "    adjacency = np.array(self.adjacency) \n",
    "    dists, pred = shortest_path(adjacency, directed=False, method='FW', return_predecessors=True)\n",
    "\n",
    "    trajectory_locs = [environment.locations[state_id] for state_id in self.get_path(pred, curr_arm_end_state, new_arm_end_state)][1:]\n",
    "    "
   ]
  },
  {
   "cell_type": "code",
   "execution_count": null,
   "id": "b882a252-00e5-4df1-ba0e-5b884dcdde6c",
   "metadata": {},
   "outputs": [],
   "source": [
    "def print_proper_time(seconds):\n",
    "    # hours\n",
    "    if seconds > 3600:\n",
    "        output_str = '{0} hours'.format(seconds / 3600)\n",
    "    # minutes\n",
    "    elif seconds > 60:\n",
    "        output_str = '{0} minutes'.format(seconds / 60)\n",
    "    # seconds\n",
    "    else:\n",
    "        output_str = '{0} seconds'.format(seconds)\n",
    "    return 'Finished running in ' + output_str"
   ]
  },
  {
   "cell_type": "code",
   "execution_count": null,
   "id": "f1f58d3b-6c9f-4fb8-a857-472f6ad67ad1",
   "metadata": {},
   "outputs": [],
   "source": [
    "IDX = '47000'"
   ]
  },
  {
   "cell_type": "code",
   "execution_count": null,
   "id": "117b9e26-9e72-4141-82a0-c0c67addde6f",
   "metadata": {},
   "outputs": [],
   "source": [
    "# 2022-04-21; run0 uses purely sweeping policy\n",
    "DATE = '2022-04-21'\n",
    "RUN = '0'\n",
    "PATH = '/cumulus/cristofer/TEM_data/{0}/run{1}/model/'.format(DATE, RUN)\n",
    "SAVE_DIR = '/cumulus/cristofer/TEM_figs/{0}/run{1}/'.format(DATE, RUN)"
   ]
  },
  {
   "cell_type": "code",
   "execution_count": null,
   "id": "64514b87-0c1c-4377-b96c-256def481495",
   "metadata": {},
   "outputs": [],
   "source": [
    "params = torch.load('/cumulus/cristofer/TEM_data/' + DATE + '/run' + RUN + '/model/params_' + IDX + '.pt')\n",
    "\n",
    "# Make list of all the environments that this model was trained on\n",
    "env_list = list(glob.iglob('/cumulus/cristofer/TEM_data/' + DATE + '/run' + RUN + '/script/envs/*'))\n",
    "\n",
    "# Set which environments will include shiny objects\n",
    "shiny_envs = [False, False, False, False]\n",
    "# Set the number of walks to execute in parallel (batch size)\n",
    "n_walks = len(shiny_envs)\n",
    "# Select environments from the environments included in training\n",
    "environments = [world.World(graph, randomise_observations=params['randomise_observations'], shiny=(params['shiny'] if shiny_envs[env_i] else None), specify_behavior=params['specify_behavior'], behavior_type=params['behavior_type'], seed=0) for env_i, graph in enumerate(np.random.choice(env_list, n_walks))]\n"
   ]
  },
  {
   "cell_type": "code",
   "execution_count": null,
   "id": "e5c0a704-b57b-45be-bc5a-d06c893b106a",
   "metadata": {},
   "outputs": [],
   "source": [
    "fwd, mod, envs = test.get_forward(date=DATE, run=RUN, env_to_plot=0, index=IDX, seed=0)"
   ]
  },
  {
   "cell_type": "code",
   "execution_count": null,
   "id": "915f3678-557a-432f-a69f-938ce0286f6b",
   "metadata": {
    "tags": []
   },
   "outputs": [],
   "source": [
    "all_g_sweep, all_p_sweep = analyse.trajectories_rate_maps(fwd, mod, envs)"
   ]
  },
  {
   "cell_type": "code",
   "execution_count": null,
   "id": "0d1ef98a-3f0e-46c0-8677-130a77f812ba",
   "metadata": {},
   "outputs": [],
   "source": [
    "np.array(all_p_sweep[0][0][0])[:, 0]"
   ]
  },
  {
   "cell_type": "code",
   "execution_count": null,
   "id": "ca1dbd93-85d4-49fd-98b9-cb709364a31d",
   "metadata": {
    "tags": []
   },
   "outputs": [],
   "source": [
    "fig, ax = plt.subplots()#figsize=(100, 100))\n",
    "\n",
    "im = plt.imread(SAVE_DIR + 'index_{0}_seed_0_performance.png'.format(IDX))\n",
    "\n",
    "ax.imshow(im)"
   ]
  },
  {
   "cell_type": "code",
   "execution_count": null,
   "id": "a1a2c5a7-a180-47b5-8b0b-6265781508a8",
   "metadata": {
    "tags": []
   },
   "outputs": [],
   "source": [
    "fig, ax = plt.subplots(figsize=(100, 100))\n",
    "\n",
    "im = plt.imread(SAVE_DIR + 'index_{0}_seed_0_Hippocampal_cells.png'.format(IDX))\n",
    "\n",
    "ax.imshow(im)"
   ]
  },
  {
   "cell_type": "code",
   "execution_count": null,
   "id": "7dc651c7-ae21-4b4e-bdff-717747b84724",
   "metadata": {
    "tags": []
   },
   "outputs": [],
   "source": [
    "FREQUENCY = 0\n",
    "plot.plot_single_frequency_all_cells_all_trajectories(all_p_sweep[0], frequency=FREQUENCY, environment=environments[0])"
   ]
  },
  {
   "cell_type": "code",
   "execution_count": null,
   "id": "4ac7486a-6ae6-4cde-9a4d-d866de253f15",
   "metadata": {
    "tags": []
   },
   "outputs": [],
   "source": [
    "FREQUENCY = 1\n",
    "plot.plot_single_frequency_all_cells_all_trajectories(all_p_sweep[0], frequency=FREQUENCY, environment=environments[0])"
   ]
  },
  {
   "cell_type": "code",
   "execution_count": null,
   "id": "c691c9de-f958-4bce-a719-9cfdf1db5678",
   "metadata": {
    "tags": []
   },
   "outputs": [],
   "source": [
    "FREQUENCY = 2\n",
    "plot.plot_single_frequency_all_cells_all_trajectories(all_p_sweep[0], frequency=FREQUENCY, environment=environments[0])"
   ]
  },
  {
   "cell_type": "code",
   "execution_count": null,
   "id": "c1b79851-305a-48e1-afd2-64db037392f8",
   "metadata": {
    "tags": []
   },
   "outputs": [],
   "source": [
    "FREQUENCY = 3\n",
    "plot.plot_single_frequency_all_cells_all_trajectories(all_p_sweep[0], frequency=FREQUENCY, environment=environments[0])"
   ]
  },
  {
   "cell_type": "code",
   "execution_count": null,
   "id": "48dbb7ec-9765-4fc8-84de-be1eada48193",
   "metadata": {
    "tags": []
   },
   "outputs": [],
   "source": [
    "FREQUENCY = 4\n",
    "plot.plot_single_frequency_all_cells_all_trajectories(all_p_sweep[0], frequency=FREQUENCY, environment=environments[0])"
   ]
  },
  {
   "cell_type": "code",
   "execution_count": null,
   "id": "a61529b9-fbd2-474d-a228-3e49986c4d32",
   "metadata": {},
   "outputs": [],
   "source": [
    "IDX2 = '39000'"
   ]
  },
  {
   "cell_type": "code",
   "execution_count": null,
   "id": "73815290-e86d-46d0-99ec-eafea4d563e9",
   "metadata": {},
   "outputs": [],
   "source": [
    "# 2022-04-21; run1 uses random arm policy\n",
    "DATE = '2022-04-21'\n",
    "RUN = '1'\n",
    "PATH = '/cumulus/cristofer/TEM_data/{0}/run{1}/model/'.format(DATE, RUN)\n",
    "SAVE_DIR = '/cumulus/cristofer/TEM_figs/{0}/run{1}/'.format(DATE, RUN)"
   ]
  },
  {
   "cell_type": "code",
   "execution_count": null,
   "id": "c7ad47af-319c-4ea1-8f16-458279db8cc2",
   "metadata": {},
   "outputs": [],
   "source": [
    "params = torch.load('/cumulus/cristofer/TEM_data/' + DATE + '/run' + RUN + '/model/params_' + IDX2 + '.pt')\n",
    "\n",
    "# Make list of all the environments that this model was trained on\n",
    "env_list = list(glob.iglob('/cumulus/cristofer/TEM_data/' + DATE + '/run' + RUN + '/script/envs/*'))\n",
    "\n",
    "# Set which environments will include shiny objects\n",
    "shiny_envs = [False, False, False, False]\n",
    "# Set the number of walks to execute in parallel (batch size)\n",
    "n_walks = len(shiny_envs)\n",
    "# Select environments from the environments included in training\n",
    "environments = [world.World(graph, randomise_observations=params['randomise_observations'], shiny=(params['shiny'] if shiny_envs[env_i] else None), specify_behavior=params['specify_behavior'], behavior_type=params['behavior_type'], seed=0) for env_i, graph in enumerate(np.random.choice(env_list, n_walks))]\n",
    "\n"
   ]
  },
  {
   "cell_type": "code",
   "execution_count": null,
   "id": "3a168a63-7b0e-4880-a8ab-da7258e6160d",
   "metadata": {},
   "outputs": [],
   "source": [
    "fwd, mod, envs = test.get_forward(date=DATE, run=RUN, env_to_plot=0, index=IDX2, seed=0)"
   ]
  },
  {
   "cell_type": "code",
   "execution_count": null,
   "id": "ba83f4f5-bb17-41b6-90e3-567b1562d646",
   "metadata": {
    "tags": []
   },
   "outputs": [],
   "source": [
    "all_g_random, all_p_random = analyse.trajectories_rate_maps(fwd, mod, envs)"
   ]
  },
  {
   "cell_type": "code",
   "execution_count": null,
   "id": "64e5a7a7-d24b-4b6b-b2cf-79e868b40ee6",
   "metadata": {},
   "outputs": [],
   "source": [
    "np.array(all_p_random[0][0][0])[:, 0]"
   ]
  },
  {
   "cell_type": "code",
   "execution_count": null,
   "id": "eb932b59-27bd-4ef0-84c4-01cc6183c760",
   "metadata": {},
   "outputs": [],
   "source": [
    "fig, ax = plt.subplots()#figsize=(100, 100))\n",
    "\n",
    "im = plt.imread(SAVE_DIR + 'index_{0}_seed_0_performance.png'.format(IDX2))\n",
    "\n",
    "ax.imshow(im)"
   ]
  },
  {
   "cell_type": "code",
   "execution_count": null,
   "id": "955e9e43-2a8f-42be-9f38-b1ce5c167e53",
   "metadata": {
    "tags": []
   },
   "outputs": [],
   "source": [
    "fig, ax = plt.subplots(figsize=(100, 100))\n",
    "\n",
    "im = plt.imread(SAVE_DIR + 'index_{0}_seed_0_Hippocampal_cells.png'.format(IDX2))\n",
    "\n",
    "ax.imshow(im)"
   ]
  },
  {
   "cell_type": "code",
   "execution_count": null,
   "id": "004b1009-98ae-47aa-a9a7-72173c04d71c",
   "metadata": {
    "tags": []
   },
   "outputs": [],
   "source": [
    "FREQUENCY = 0\n",
    "plot.plot_single_frequency_all_cells_all_trajectories(all_p_random[0], frequency=FREQUENCY, environment=environments[0])"
   ]
  },
  {
   "cell_type": "code",
   "execution_count": null,
   "id": "100e8601-cb9e-4beb-90cc-f43ae945b524",
   "metadata": {
    "tags": []
   },
   "outputs": [],
   "source": [
    "FREQUENCY = 1\n",
    "plot.plot_single_frequency_all_cells_all_trajectories(all_p_random[0], frequency=FREQUENCY, environment=environments[0])"
   ]
  },
  {
   "cell_type": "code",
   "execution_count": null,
   "id": "9471ddac-9446-41b1-b2d5-e445491f5596",
   "metadata": {
    "tags": []
   },
   "outputs": [],
   "source": [
    "FREQUENCY = 2\n",
    "plot.plot_single_frequency_all_cells_all_trajectories(all_p_random[0], frequency=FREQUENCY, environment=environments[0])"
   ]
  },
  {
   "cell_type": "code",
   "execution_count": null,
   "id": "cbc0a5ac-5757-4ae8-9a17-edb47c45e78c",
   "metadata": {
    "tags": []
   },
   "outputs": [],
   "source": [
    "FREQUENCY = 3\n",
    "plot.plot_single_frequency_all_cells_all_trajectories(all_p_random[0], frequency=FREQUENCY, environment=environments[0])"
   ]
  },
  {
   "cell_type": "code",
   "execution_count": null,
   "id": "c888682b-b3b3-44b1-a820-949f15427141",
   "metadata": {
    "tags": []
   },
   "outputs": [],
   "source": [
    "FREQUENCY = 4\n",
    "plot.plot_single_frequency_all_cells_all_trajectories(all_p_random[0], frequency=FREQUENCY, environment=environments[0])"
   ]
  },
  {
   "cell_type": "code",
   "execution_count": null,
   "id": "f779b209-5c40-4d35-89f0-127270dd90db",
   "metadata": {},
   "outputs": [],
   "source": [
    "trajectories = list(permutations(np.arange(6), r=2))"
   ]
  },
  {
   "cell_type": "code",
   "execution_count": null,
   "id": "1fc14cbb-8b2a-42ea-93b3-fccf9e69e728",
   "metadata": {},
   "outputs": [],
   "source": [
    "trajectories"
   ]
  },
  {
   "cell_type": "code",
   "execution_count": null,
   "id": "3ba3e046-18a1-4f24-a96e-7f863822cc67",
   "metadata": {},
   "outputs": [],
   "source": [
    "def get_path(pred, start, goal):\n",
    "    path = [goal]\n",
    "    k = goal\n",
    "    while pred[start, k] != -9999:\n",
    "        path.append(pred[start, k])\n",
    "        k = pred[start, k]\n",
    "    return path[::-1]"
   ]
  },
  {
   "cell_type": "code",
   "execution_count": null,
   "id": "a9e234b5-182b-4457-8373-c69868f1bfe8",
   "metadata": {},
   "outputs": [],
   "source": [
    "def get_trajectory_states(trajectory, environment):\n",
    "    \n",
    "    trajectory_dict = analyse.make_trajectory_dict()\n",
    "    # Calculate graph properties for shortest path calculation between arms\n",
    "    adjacency = np.array(environment.adjacency) \n",
    "    dists, pred = shortest_path(adjacency, directed=False, method='FW', return_predecessors=True)\n",
    "\n",
    "    curr_arm_end_state = trajectory[0] * 5\n",
    "    new_arm_end_state = trajectory[1] * 5\n",
    "    # Using the adjacency matrix, create a trajectory using a shortest path traversal from end of curr_arm to end of new_arm\n",
    "    #trajectory = self.get_path(pred, curr_arm_end_state, new_arm_end_state)[1:]\n",
    "    #print(trajectory)\n",
    "    \n",
    "    return [environment.locations[state_id]['id'] for state_id in get_path(pred, curr_arm_end_state, new_arm_end_state)][1:]"
   ]
  },
  {
   "cell_type": "code",
   "execution_count": null,
   "id": "2dac3222-7a05-45bf-9a47-3e976f3cc752",
   "metadata": {},
   "outputs": [],
   "source": [
    "state_seq_a = np.array(get_trajectory_states((1, 0), envs[0]))\n",
    "state_seq_b = np.array(get_trajectory_states((1, 2), envs[0]))\n",
    "unambiguous_locs = state_seq_a != state_seq_b\n",
    "print(state_seq_a)\n",
    "print(state_seq_b)\n",
    "print(state_seq_a[unambiguous_locs])\n",
    "print(state_seq_b[unambiguous_locs])"
   ]
  },
  {
   "cell_type": "code",
   "execution_count": null,
   "id": "39d9f1d9-8c84-4ab7-862c-19efeb5658eb",
   "metadata": {},
   "outputs": [],
   "source": [
    "def linearize_trajectory(p_env, frequency, trajectory, cell_num, environment):\n",
    "\n",
    "    trajectory_states = get_trajectory_states(trajectory, environment)\n",
    "    trajectory_i = trajectory_dict[trajectory]\n",
    "    \n",
    "    linearized_rate = np.array(p_env[frequency][trajectory_i])[:, cell_num][trajectory_states]\n",
    "    \n",
    "    return linearized_rate"
   ]
  },
  {
   "cell_type": "code",
   "execution_count": null,
   "id": "5056a50c-2d05-41e1-b7c7-836b23d89aef",
   "metadata": {},
   "outputs": [],
   "source": [
    "def linearize_neighbor_trajectories(p_env, frequency, cell_num, environment):\n",
    "    \n",
    "    all_trajectories = analyse.make_trajectory_dict()\n",
    "    neighbor_trajectories = [trajectory for trajectory in all_trajectories if abs(trajectory[0] - trajectory[1]) == 1]\n",
    "    \n",
    "    linearized_dict = {}\n",
    "    \n",
    "    for trajectory in neighbor_trajectories:\n",
    "        linearized_dict[trajectory] = linearize_trajectory(p_env, frequency,  trajectory, cell_num, environment)\n",
    "    \n",
    "    return linearized_dict"
   ]
  },
  {
   "cell_type": "code",
   "execution_count": null,
   "id": "bdcccdb1-c5d9-4e91-9b79-ec635571fa15",
   "metadata": {},
   "outputs": [],
   "source": [
    "ld_sweep = linearize_neighbor_trajectories(all_p_sweep[0], 4, 36, environments[0])"
   ]
  },
  {
   "cell_type": "code",
   "execution_count": null,
   "id": "68552836-87cc-4a85-9f11-4aab28991257",
   "metadata": {},
   "outputs": [],
   "source": [
    "all_trajectories = analyse.make_trajectory_dict()\n",
    "neighbor_trajectories = [trajectory for trajectory in all_trajectories if abs(trajectory[0] - trajectory[1]) == 1]\n"
   ]
  },
  {
   "cell_type": "code",
   "execution_count": null,
   "id": "ea1999e0-496b-47d2-91ee-384c26089c51",
   "metadata": {
    "tags": []
   },
   "outputs": [],
   "source": [
    "all_p_sweep_nonnegative = analyse.make_all_p_nonnegative(all_p_sweep[0])\n",
    "all_p_random_nonnegative = analyse.make_all_p_nonnegative(all_p_random[0])"
   ]
  },
  {
   "cell_type": "code",
   "execution_count": null,
   "id": "fadaee5f-5b48-4e3d-ab6c-51ba39461b9d",
   "metadata": {},
   "outputs": [],
   "source": [
    "plot.plot_single_cell_all_trajectories(all_p_random[0], frequency=0, cell_num=44, environment=environments[0])"
   ]
  },
  {
   "cell_type": "code",
   "execution_count": null,
   "id": "ba106caa-5cf3-44de-8513-87a3d4d1b9e0",
   "metadata": {},
   "outputs": [],
   "source": [
    "# Make a list of all neighbor_trajectories"
   ]
  },
  {
   "cell_type": "code",
   "execution_count": null,
   "id": "3bcc00d3-7f53-4a55-ad6b-5dba99bcedf4",
   "metadata": {},
   "outputs": [],
   "source": [
    "all_trajectories = analyse.make_trajectory_dict()\n",
    "neighbor_trajectories = [trajectory for trajectory in all_trajectories if abs(trajectory[0] - trajectory[1]) == 1]\n"
   ]
  },
  {
   "cell_type": "code",
   "execution_count": null,
   "id": "88e1dc58-819a-4947-af6f-b59582da7bca",
   "metadata": {
    "tags": []
   },
   "outputs": [],
   "source": [
    "FREQUENCY = 0\n",
    "\n",
    "fig, axs = plt.subplots(all_p_random[0][FREQUENCY][0][0].shape[0], 2, figsize=(20, 350))\n",
    "for cell_num in np.arange(all_p_random[0][FREQUENCY][0][0].shape[0]):\n",
    "    \n",
    "    ld_sweep_i = linearize_neighbor_trajectories(all_p_sweep[0], FREQUENCY, cell_num, environments[0])    \n",
    "    ld_random_i = linearize_neighbor_trajectories(all_p_random[0], FREQUENCY, cell_num, environments[0])\n",
    "\n",
    "    for trajectory in neighbor_trajectories:\n",
    "        \n",
    "        axs[cell_num, 0].plot(ld_sweep_i[trajectory], label='{0}'.format((trajectory[0]+1, trajectory[1]+1)))\n",
    "        axs[cell_num, 0].set_title('cell_num: {0}.{1}'.format(FREQUENCY, cell_num))\n",
    "        axs[cell_num, 0].legend(bbox_to_anchor=(1, 1))\n",
    "        \n",
    "        axs[cell_num, 1].plot(ld_random_i[trajectory], label='{0}'.format((trajectory[0]+1, trajectory[1]+1)))\n",
    "        axs[cell_num, 1].set_title('cell_num: {0}.{1}'.format(FREQUENCY, cell_num))\n",
    "        axs[cell_num, 1].legend(bbox_to_anchor=(1, 1))"
   ]
  },
  {
   "cell_type": "code",
   "execution_count": null,
   "id": "8b816b78-910a-4ac0-a7e4-8bf6eb70d602",
   "metadata": {
    "tags": []
   },
   "outputs": [],
   "source": [
    "FREQUENCY = 1\n",
    "\n",
    "fig, axs = plt.subplots(all_p_random[0][FREQUENCY][0][0].shape[0], 2, figsize=(20, 350))\n",
    "for cell_num in np.arange(all_p_random[0][FREQUENCY][0][0].shape[0]):\n",
    "    \n",
    "    ld_sweep_i = linearize_neighbor_trajectories(all_p_sweep[0], FREQUENCY, cell_num, environments[0])    \n",
    "    ld_random_i = linearize_neighbor_trajectories(all_p_random[0], FREQUENCY, cell_num, environments[0])\n",
    "\n",
    "    for trajectory in neighbor_trajectories:\n",
    "        \n",
    "        axs[cell_num, 0].plot(ld_sweep_i[trajectory], label='{0}'.format((trajectory[0]+1, trajectory[1]+1)))\n",
    "        axs[cell_num, 0].set_title('cell_num: {0}.{1}'.format(FREQUENCY, cell_num))\n",
    "        axs[cell_num, 0].legend(bbox_to_anchor=(1, 1))\n",
    "        \n",
    "        axs[cell_num, 1].plot(ld_random_i[trajectory], label='{0}'.format((trajectory[0]+1, trajectory[1]+1)))\n",
    "        axs[cell_num, 1].set_title('cell_num: {0}.{1}'.format(FREQUENCY, cell_num))\n",
    "        axs[cell_num, 1].legend(bbox_to_anchor=(1, 1))"
   ]
  },
  {
   "cell_type": "code",
   "execution_count": null,
   "id": "3d6c680c-474e-459f-8009-97c2a04791a2",
   "metadata": {
    "tags": []
   },
   "outputs": [],
   "source": [
    "FREQUENCY = 2\n",
    "\n",
    "fig, axs = plt.subplots(all_p_random[0][FREQUENCY][0][0].shape[0], 2, figsize=(20, 350))\n",
    "for cell_num in np.arange(all_p_random[0][FREQUENCY][0][0].shape[0]):\n",
    "    \n",
    "    ld_sweep_i = linearize_neighbor_trajectories(all_p_sweep[0], FREQUENCY, cell_num, environments[0])    \n",
    "    ld_random_i = linearize_neighbor_trajectories(all_p_random[0], FREQUENCY, cell_num, environments[0])\n",
    "\n",
    "    for trajectory in neighbor_trajectories:\n",
    "        \n",
    "        axs[cell_num, 0].plot(ld_sweep_i[trajectory], label='{0}'.format((trajectory[0]+1, trajectory[1]+1)))\n",
    "        axs[cell_num, 0].set_title('cell_num: {0}.{1}'.format(FREQUENCY, cell_num))\n",
    "        axs[cell_num, 0].legend(bbox_to_anchor=(1, 1))\n",
    "        \n",
    "        axs[cell_num, 1].plot(ld_random_i[trajectory], label='{0}'.format((trajectory[0]+1, trajectory[1]+1)))\n",
    "        axs[cell_num, 1].set_title('cell_num: {0}.{1}'.format(FREQUENCY, cell_num))\n",
    "        axs[cell_num, 1].legend(bbox_to_anchor=(1, 1))"
   ]
  },
  {
   "cell_type": "code",
   "execution_count": null,
   "id": "f6ef2d70-5410-4e6a-908f-461c3c88f641",
   "metadata": {
    "tags": []
   },
   "outputs": [],
   "source": [
    "FREQUENCY = 3\n",
    "\n",
    "fig, axs = plt.subplots(all_p_random[0][FREQUENCY][0][0].shape[0], 2, figsize=(20, 350))\n",
    "for cell_num in np.arange(all_p_random[0][FREQUENCY][0][0].shape[0]):\n",
    "    \n",
    "    ld_sweep_i = linearize_neighbor_trajectories(all_p_sweep[0], FREQUENCY, cell_num, environments[0])    \n",
    "    ld_random_i = linearize_neighbor_trajectories(all_p_random[0], FREQUENCY, cell_num, environments[0])\n",
    "\n",
    "    for trajectory in neighbor_trajectories:\n",
    "        \n",
    "        axs[cell_num, 0].plot(ld_sweep_i[trajectory], label='{0}'.format((trajectory[0]+1, trajectory[1]+1)))\n",
    "        axs[cell_num, 0].set_title('cell_num: {0}.{1}'.format(FREQUENCY, cell_num))\n",
    "        axs[cell_num, 0].legend(bbox_to_anchor=(1, 1))\n",
    "        \n",
    "        axs[cell_num, 1].plot(ld_random_i[trajectory], label='{0}'.format((trajectory[0]+1, trajectory[1]+1)))\n",
    "        axs[cell_num, 1].set_title('cell_num: {0}.{1}'.format(FREQUENCY, cell_num))\n",
    "        axs[cell_num, 1].legend(bbox_to_anchor=(1, 1))"
   ]
  },
  {
   "cell_type": "code",
   "execution_count": null,
   "id": "040bb86f-4bf9-4b9b-9e9e-2d87018aa2b0",
   "metadata": {
    "tags": []
   },
   "outputs": [],
   "source": [
    "FREQUENCY = 4\n",
    "\n",
    "fig, axs = plt.subplots(all_p_random[0][FREQUENCY][0][0].shape[0], 2, figsize=(20, 350))\n",
    "for cell_num in np.arange(all_p_random[0][FREQUENCY][0][0].shape[0]):\n",
    "    \n",
    "    ld_sweep_i = linearize_neighbor_trajectories(all_p_sweep[0], FREQUENCY, cell_num, environments[0])    \n",
    "    ld_random_i = linearize_neighbor_trajectories(all_p_random[0], FREQUENCY, cell_num, environments[0])\n",
    "\n",
    "    for trajectory in neighbor_trajectories:\n",
    "        \n",
    "        axs[cell_num, 0].plot(ld_sweep_i[trajectory], label='{0}'.format((trajectory[0]+1, trajectory[1]+1)))\n",
    "        axs[cell_num, 0].set_title('cell_num: {0}.{1}'.format(FREQUENCY, cell_num))\n",
    "        axs[cell_num, 0].legend(bbox_to_anchor=(1, 1))\n",
    "        #axs[cell_num, 0].set_ylim(0, 1)\n",
    "        \n",
    "        axs[cell_num, 1].plot(ld_random_i[trajectory], label='{0}'.format((trajectory[0]+1, trajectory[1]+1)))\n",
    "        axs[cell_num, 1].set_title('cell_num: {0}.{1}'.format(FREQUENCY, cell_num))\n",
    "        axs[cell_num, 1].legend(bbox_to_anchor=(1, 1))\n",
    "        #axs[cell_num, 1].set_ylim(0, 1)"
   ]
  },
  {
   "cell_type": "code",
   "execution_count": null,
   "id": "94e1ad4f-0d6b-4936-9166-5f7a5ddaf737",
   "metadata": {
    "tags": []
   },
   "outputs": [],
   "source": [
    "## FREQUENCY == 0 flat curves"
   ]
  },
  {
   "cell_type": "code",
   "execution_count": null,
   "id": "fc77adcf-adc6-4b88-8c3a-12e74e029ef4",
   "metadata": {
    "tags": []
   },
   "outputs": [],
   "source": [
    "sweep_flat_val_list = []\n",
    "random_flat_val_list = []\n",
    "\n",
    "FREQUENCY = 0\n",
    "\n",
    "for cell_num in np.arange(all_p_random[0][FREQUENCY][0][0].shape[0]):\n",
    "    \n",
    "    ld_sweep_i = linearize_neighbor_trajectories(all_p_sweep[0], FREQUENCY, cell_num, environments[0])    \n",
    "    ld_random_i = linearize_neighbor_trajectories(all_p_random[0], FREQUENCY, cell_num, environments[0])\n",
    "    #print('{0}.{1}'.format(FREQUENCY, cell_num))\n",
    "    for trajectory in neighbor_trajectories:\n",
    "        if np.var(ld_sweep_i[trajectory]) == 0:\n",
    "            sweep_flat_val_list.append(ld_sweep_i[trajectory][0])\n",
    "        if np.var(ld_random_i[trajectory]) == 0:\n",
    "            random_flat_val_list.append(ld_random_i[trajectory][0])\n",
    "        #print('{0}: {1}\\n'.format((trajectory[0]+1, trajectory[1]+1), ld_sweep_i[trajectory]))\n",
    "                                        "
   ]
  },
  {
   "cell_type": "code",
   "execution_count": null,
   "id": "26419750-c26a-4536-a187-466aeca696ed",
   "metadata": {},
   "outputs": [],
   "source": [
    "print(np.all(np.array(sweep_flat_val_list) == 0))\n",
    "print(np.all(np.array(random_flat_val_list) == 0))"
   ]
  },
  {
   "cell_type": "code",
   "execution_count": null,
   "id": "93c37afa-5272-4699-b7a3-d67dd6321571",
   "metadata": {
    "tags": []
   },
   "outputs": [],
   "source": [
    "FREQUENCY = 0\n",
    "\n",
    "fig, axs = plt.subplots(all_p_random_nonnegative[FREQUENCY][0][0].shape[0], 2, figsize=(20, 350))\n",
    "for cell_num in np.arange(all_p_random_nonnegative[FREQUENCY][0][0].shape[0]):\n",
    "    \n",
    "    ld_sweep_nonnegative_i = linearize_neighbor_trajectories(all_p_sweep_nonnegative, FREQUENCY, cell_num, environments[0])    \n",
    "    ld_random_nonnegative_i = linearize_neighbor_trajectories(all_p_random_nonnegative, FREQUENCY, cell_num, environments[0])\n",
    "\n",
    "    for trajectory_i, trajectory in enumerate(neighbor_trajectories):\n",
    "        \n",
    "        linestyle = 'solid'# if trajectory_i % 2 else 'dashed'\n",
    "        axs[cell_num, 0].plot(ld_sweep_nonnegative_i[trajectory], label='{0}'.format((trajectory[0]+1, trajectory[1]+1)), linestyle=linestyle)#, color=cm.jet(trajectory_i/(len(neighbor_trajectories)/2)))\n",
    "        axs[cell_num, 0].set_title('cell_num: {0}.{1}'.format(FREQUENCY, cell_num))\n",
    "        axs[cell_num, 0].legend(bbox_to_anchor=(1, 1))\n",
    "        axs[cell_num, 0].set_ylim(0, 1)\n",
    "        \n",
    "        axs[cell_num, 1].plot(ld_random_nonnegative_i[trajectory], label='{0}'.format((trajectory[0]+1, trajectory[1]+1)), linestyle=linestyle)#, color=cm.jet(trajectory_i/(len(neighbor_trajectories)/2)))\n",
    "        axs[cell_num, 1].set_title('cell_num: {0}.{1}'.format(FREQUENCY, cell_num))\n",
    "        axs[cell_num, 1].legend(bbox_to_anchor=(1, 1))\n",
    "        axs[cell_num, 1].set_ylim(0, 1)"
   ]
  },
  {
   "cell_type": "code",
   "execution_count": null,
   "id": "3e8a92b3-d471-4fde-912d-d9ba0a854975",
   "metadata": {
    "tags": []
   },
   "outputs": [],
   "source": [
    "FREQUENCY = 1\n",
    "\n",
    "fig, axs = plt.subplots(all_p_random_nonnegative[FREQUENCY][0][0].shape[0], 2, figsize=(20, 350))\n",
    "for cell_num in np.arange(all_p_random_nonnegative[FREQUENCY][0][0].shape[0]):\n",
    "    \n",
    "    ld_sweep_nonnegative_i = linearize_neighbor_trajectories(all_p_sweep_nonnegative, FREQUENCY, cell_num, environments[0])    \n",
    "    ld_random_nonnegative_i = linearize_neighbor_trajectories(all_p_random_nonnegative, FREQUENCY, cell_num, environments[0])\n",
    "\n",
    "    for trajectory_i, trajectory in enumerate(neighbor_trajectories):\n",
    "        \n",
    "        linestyle = 'solid'# if trajectory_i % 2 else 'dashed'\n",
    "        axs[cell_num, 0].plot(ld_sweep_nonnegative_i[trajectory], label='{0}'.format((trajectory[0]+1, trajectory[1]+1)), linestyle=linestyle)\n",
    "        axs[cell_num, 0].set_title('cell_num: {0}.{1}'.format(FREQUENCY, cell_num))\n",
    "        axs[cell_num, 0].legend(bbox_to_anchor=(1, 1))\n",
    "        axs[cell_num, 0].set_ylim(0, 1)\n",
    "        \n",
    "        axs[cell_num, 1].plot(ld_random_nonnegative_i[trajectory], label='{0}'.format((trajectory[0]+1, trajectory[1]+1)), linestyle=linestyle)\n",
    "        axs[cell_num, 1].set_title('cell_num: {0}.{1}'.format(FREQUENCY, cell_num))\n",
    "        axs[cell_num, 1].legend(bbox_to_anchor=(1, 1))\n",
    "        axs[cell_num, 1].set_ylim(0, 1)"
   ]
  },
  {
   "cell_type": "code",
   "execution_count": null,
   "id": "127c80dc-844a-490f-924b-123a42eec751",
   "metadata": {
    "tags": []
   },
   "outputs": [],
   "source": [
    "FREQUENCY = 2\n",
    "\n",
    "fig, axs = plt.subplots(all_p_random_nonnegative[FREQUENCY][0][0].shape[0], 2, figsize=(20, 350))\n",
    "for cell_num in np.arange(all_p_random_nonnegative[FREQUENCY][0][0].shape[0]):\n",
    "    \n",
    "    ld_sweep_nonnegative_i = linearize_neighbor_trajectories(all_p_sweep_nonnegative, FREQUENCY, cell_num, environments[0])    \n",
    "    ld_random_nonnegative_i = linearize_neighbor_trajectories(all_p_random_nonnegative, FREQUENCY, cell_num, environments[0])\n",
    "\n",
    "    for trajectory in neighbor_trajectories:\n",
    "        \n",
    "        axs[cell_num, 0].plot(ld_sweep_nonnegative_i[trajectory], label='{0}'.format((trajectory[0]+1, trajectory[1]+1)))\n",
    "        axs[cell_num, 0].set_title('cell_num: {0}.{1}'.format(FREQUENCY, cell_num))\n",
    "        axs[cell_num, 0].legend(bbox_to_anchor=(1, 1))\n",
    "        axs[cell_num, 0].set_ylim(0, 1)\n",
    "        \n",
    "        axs[cell_num, 1].plot(ld_random_nonnegative_i[trajectory], label='{0}'.format((trajectory[0]+1, trajectory[1]+1)))\n",
    "        axs[cell_num, 1].set_title('cell_num: {0}.{1}'.format(FREQUENCY, cell_num))\n",
    "        axs[cell_num, 1].legend(bbox_to_anchor=(1, 1))\n",
    "        axs[cell_num, 1].set_ylim(0, 1)"
   ]
  },
  {
   "cell_type": "code",
   "execution_count": null,
   "id": "465f7f69-b2a0-4bec-a705-73f74c695420",
   "metadata": {
    "tags": []
   },
   "outputs": [],
   "source": [
    "FREQUENCY = 3\n",
    "\n",
    "fig, axs = plt.subplots(all_p_random_nonnegative[FREQUENCY][0][0].shape[0], 2, figsize=(20, 350))\n",
    "for cell_num in np.arange(all_p_random_nonnegative[FREQUENCY][0][0].shape[0]):\n",
    "    \n",
    "    ld_sweep_nonnegative_i = linearize_neighbor_trajectories(all_p_sweep_nonnegative, FREQUENCY, cell_num, environments[0])    \n",
    "    ld_random_nonnegative_i = linearize_neighbor_trajectories(all_p_random_nonnegative, FREQUENCY, cell_num, environments[0])\n",
    "\n",
    "    for trajectory in neighbor_trajectories:\n",
    "        \n",
    "        axs[cell_num, 0].plot(ld_sweep_nonnegative_i[trajectory], label='{0}'.format((trajectory[0]+1, trajectory[1]+1)))\n",
    "        axs[cell_num, 0].set_title('cell_num: {0}.{1}'.format(FREQUENCY, cell_num))\n",
    "        axs[cell_num, 0].legend(bbox_to_anchor=(1, 1))\n",
    "        axs[cell_num, 0].set_ylim(0, 1)\n",
    "        \n",
    "        axs[cell_num, 1].plot(ld_random_nonnegative_i[trajectory], label='{0}'.format((trajectory[0]+1, trajectory[1]+1)))\n",
    "        axs[cell_num, 1].set_title('cell_num: {0}.{1}'.format(FREQUENCY, cell_num))\n",
    "        axs[cell_num, 1].legend(bbox_to_anchor=(1, 1))\n",
    "        axs[cell_num, 1].set_ylim(0, 1)"
   ]
  },
  {
   "cell_type": "code",
   "execution_count": null,
   "id": "9e93084c-5bed-4a45-881d-43d17d4659c2",
   "metadata": {
    "tags": []
   },
   "outputs": [],
   "source": [
    "FREQUENCY = 4\n",
    "\n",
    "fig, axs = plt.subplots(all_p_random_nonnegative[FREQUENCY][0][0].shape[0], 2, figsize=(20, 350))\n",
    "for cell_num in np.arange(all_p_random_nonnegative[FREQUENCY][0][0].shape[0]):\n",
    "    \n",
    "    ld_sweep_nonnegative_i = linearize_neighbor_trajectories(all_p_sweep_nonnegative, FREQUENCY, cell_num, environments[0])    \n",
    "    ld_random_nonnegative_i = linearize_neighbor_trajectories(all_p_random_nonnegative, FREQUENCY, cell_num, environments[0])\n",
    "\n",
    "    for trajectory in neighbor_trajectories:\n",
    "        \n",
    "        axs[cell_num, 0].plot(ld_sweep_nonnegative_i[trajectory], label='{0}'.format((trajectory[0]+1, trajectory[1]+1)))\n",
    "        axs[cell_num, 0].set_title('cell_num: {0}.{1}'.format(FREQUENCY, cell_num))\n",
    "        axs[cell_num, 0].legend(bbox_to_anchor=(1, 1))\n",
    "        axs[cell_num, 0].set_ylim(0, 1)\n",
    "        \n",
    "        axs[cell_num, 1].plot(ld_random_nonnegative_i[trajectory], label='{0}'.format((trajectory[0]+1, trajectory[1]+1)))\n",
    "        axs[cell_num, 1].set_title('cell_num: {0}.{1}'.format(FREQUENCY, cell_num))\n",
    "        axs[cell_num, 1].legend(bbox_to_anchor=(1, 1))\n",
    "        axs[cell_num, 1].set_ylim(0, 1)"
   ]
  },
  {
   "cell_type": "code",
   "execution_count": null,
   "id": "a781bba7-8e66-4b6b-8514-9d7de2202053",
   "metadata": {},
   "outputs": [],
   "source": [
    "def normalized_overlap(trajectory_a, trajectory_b):\n",
    "    \n",
    "    overlap = np.sum(np.min(np.vstack([trajectory_a, trajectory_b]), axis=0))\n",
    "    area_a, area_b = np.sum(trajectory_a), np.sum(trajectory_b)\n",
    "    \n",
    "    return np.divide(2*overlap, (area_a+area_b))"
   ]
  },
  {
   "cell_type": "code",
   "execution_count": null,
   "id": "05ba38aa-1a7f-41da-9b18-b65c8e308965",
   "metadata": {},
   "outputs": [],
   "source": [
    "rng = np.random.default_rng()\n",
    "\n",
    "trajectory_a, trajectory_b = rng.integers(10, size=10), rng.integers(10, size=10)\n",
    "trajectory_c = trajectory_a\n",
    "overlap = np.min(np.vstack([trajectory_a, trajectory_b]), axis=0)\n",
    "\n",
    "fig, ax = plt.subplots()\n",
    "\n",
    "ax.plot(trajectory_a)\n",
    "ax.plot(trajectory_b)\n",
    "ax.scatter(np.arange(overlap.shape[0]), overlap, color='tab:green')\n",
    "\n",
    "print(normalized_overlap(trajectory_a, trajectory_c))"
   ]
  },
  {
   "cell_type": "code",
   "execution_count": null,
   "id": "c11d0fa9-3014-4794-9a94-f9907ad7d456",
   "metadata": {},
   "outputs": [],
   "source": [
    "#print(type(all_p_random), len(all_p_random))\n",
    "print(type(all_p_random[0]), len(all_p_random[0]))\n",
    "print(type(all_p_random[0][0]), len(all_p_random[0][0]))\n",
    "print(type(all_p_random[0][0][0]), len(all_p_random[0][0][0]))\n",
    "print(type(all_p_random[0][0][0][0]), len(all_p_random[0][0][0][0]))"
   ]
  },
  {
   "cell_type": "code",
   "execution_count": null,
   "id": "90f08549-643b-4622-9484-e581a04fc196",
   "metadata": {},
   "outputs": [],
   "source": [
    "def make_all_p_nonnegative(p_env):\n",
    "    all_p_nonnegative = deepcopy(p_env)\n",
    "    for frequency in range(len(p_env)):\n",
    "        for trajectory in range(len(p_env[frequency])):\n",
    "            for cell_num in range(len(p_env[frequency][trajectory][0])):\n",
    "                traj_by_loc_by_cell = np.array(p_env[frequency])\n",
    "                all_traj_min = np.min(traj_by_loc_by_cell[:, :, cell_num][traj_by_loc_by_cell[:, :, cell_num] != -999])\n",
    "                all_traj_max = np.max(traj_by_loc_by_cell[:, :, cell_num][traj_by_loc_by_cell[:, :, cell_num] != -999] - all_traj_min)\n",
    "                if all_traj_min != 0 and all_traj_max != 0:\n",
    "                    trajectory_loc_by_cell = all_p_nonnegative[frequency][trajectory][:, cell_num]\n",
    "                    # Shift and scale all non -999 values\n",
    "                    trajectory_loc_by_cell[trajectory_loc_by_cell != -999] = trajectory_loc_by_cell[trajectory_loc_by_cell != -999] - all_traj_min\n",
    "                    trajectory_loc_by_cell[trajectory_loc_by_cell != -999] = trajectory_loc_by_cell[trajectory_loc_by_cell != -999] / all_traj_max\n",
    "                    all_p_nonnegative[frequency][trajectory][:, cell_num] = trajectory_loc_by_cell\n",
    "                    #print(trajectory)\n",
    "    return all_p_nonnegative"
   ]
  },
  {
   "cell_type": "code",
   "execution_count": null,
   "id": "4791fa65-2e41-4d7e-b927-bd4541cbe0d9",
   "metadata": {},
   "outputs": [],
   "source": [
    "print(len(all_p_sweep_nonnegative[0]))\n",
    "print(len(all_p_sweep_nonnegative[0][0]))\n",
    "print(len(all_p_sweep_nonnegative[0][0][0]))"
   ]
  },
  {
   "cell_type": "code",
   "execution_count": null,
   "id": "9848e63e-78dd-4220-bbaa-316c0034655e",
   "metadata": {
    "tags": []
   },
   "outputs": [],
   "source": [
    "fig, ax = plt.subplots(all_p_sweep_nonnegative[4][0][0].shape[0], figsize=(8, 250))\n",
    "for cell_num in np.arange(all_p_sweep_nonnegative[4][0][0].shape[0]):\n",
    "    \n",
    "    ld_sweep_nonnegative_i = linearize_neighbor_trajectories(all_p_sweep_nonnegative, 4, cell_num, environments[0])\n",
    "\n",
    "    for trajectory in neighbor_trajectories:\n",
    "\n",
    "        ax[cell_num].plot(ld_sweep_nonnegative_i[trajectory], label='{0}'.format((trajectory[0]+1, trajectory[1]+1)))\n",
    "        ax[cell_num].set_title('cell_num: {0}'.format(cell_num))\n",
    "        \n",
    "        ax[cell_num].legend()"
   ]
  },
  {
   "cell_type": "code",
   "execution_count": null,
   "id": "73bf8e6d-0042-41e9-afc5-5abf7f5bbc1d",
   "metadata": {},
   "outputs": [],
   "source": [
    "def is_neighbor_trajectory(trajectory):\n",
    "    return True if abs(trajectory[0] - trajectory[1]) == 1 else False"
   ]
  },
  {
   "cell_type": "code",
   "execution_count": null,
   "id": "4be5dc30-897d-47d0-915a-e655b174e81b",
   "metadata": {},
   "outputs": [],
   "source": [
    "def is_neighbor_pair(trajectory_pair):\n",
    "    trajectory_a = trajectory_pair[0]\n",
    "    trajectory_b = trajectory_pair[1]\n",
    "    return is_neighbor_trajectory(trajectory_a) and is_neighbor_trajectory(trajectory_b)"
   ]
  },
  {
   "cell_type": "code",
   "execution_count": null,
   "id": "9f0324e1-294a-4dae-8064-d632c76f862f",
   "metadata": {},
   "outputs": [],
   "source": [
    "def make_neighbor_trajectory_dict(trajectory_dict):\n",
    "    neighbor_trajectory_idx = 0\n",
    "    neighbor_trajectory_dict = {}\n",
    "    for trajectory in trajectory_dict:\n",
    "        if is_neighbor_trajectory(trajectory):\n",
    "            neighbor_trajectory_dict[trajectory] = neighbor_trajectory_idx\n",
    "            neighbor_trajectory_idx = neighbor_trajectory_idx + 1\n",
    "    return neighbor_trajectory_dict"
   ]
  },
  {
   "cell_type": "code",
   "execution_count": null,
   "id": "a0780ee7-5d00-4204-bef5-aa1c138a3a04",
   "metadata": {},
   "outputs": [],
   "source": [
    "#[trajectory for trajectory in trajectory_dict.keys() if abs(trajectory[0] - trajectory[1]) == 1]"
   ]
  },
  {
   "cell_type": "code",
   "execution_count": null,
   "id": "c47cb8e3-c568-482e-92f9-c2e2d8c31975",
   "metadata": {},
   "outputs": [],
   "source": [
    "def get_sim_mat(p_env_nonnegative, frequency, cell_num, environment, cell_i=-1, zero_trajectory_threshold=0):\n",
    "    \n",
    "    normalized_overlap_dict = {}\n",
    "    trajectory_dict = analyse.make_trajectory_dict()\n",
    "    neighbor_trajectory_dict = make_neighbor_trajectory_dict(trajectory_dict)\n",
    "    \n",
    "    cell_ld = linearize_neighbor_trajectories(p_env_nonnegative, frequency, cell_num, environment)\n",
    "    trace_peak_sum_list = []\n",
    "    for trajectory_a in trajectory_dict.keys():\n",
    "        for trajectory_b in trajectory_dict.keys():\n",
    "            if abs(trajectory_a[0] - trajectory_a[1]) == 1 and abs(trajectory_b[0] - trajectory_b[1]) == 1 and trajectory_a != trajectory_b:\n",
    "                trace_a = cell_ld[trajectory_a]\n",
    "                trace_b = cell_ld[trajectory_b]\n",
    "                trace_peak_sum_list.append(np.max(trace_a) + np.max(trace_b))\n",
    "                #print(trace_a)\n",
    "                normalized_overlap_dict[(trajectory_a, trajectory_b)] = analyse.normalized_overlap_path_equivalence(trajectory_a, trajectory_b, trace_a, trace_b, environment, zero_trajectory_threshold)\n",
    "\n",
    "    sim_mat = np.zeros((10, 10))\n",
    "\n",
    "    for pair in normalized_overlap_dict.keys():\n",
    "        trajectory_a = pair[0]\n",
    "        trajectory_b = pair[1]\n",
    "        row = neighbor_trajectory_dict[trajectory_a]\n",
    "        col = neighbor_trajectory_dict[trajectory_b]\n",
    "        sim_mat[row, col] = normalized_overlap_dict[pair]\n",
    "\n",
    "    np.fill_diagonal(sim_mat, 0)\n",
    "    \n",
    "    return sim_mat\n",
    "    "
   ]
  },
  {
   "cell_type": "code",
   "execution_count": null,
   "id": "82d48999-7d30-4797-8fe5-97f9ffcf9b28",
   "metadata": {},
   "outputs": [],
   "source": [
    "np.sign([1, -1])"
   ]
  },
  {
   "cell_type": "code",
   "execution_count": null,
   "id": "ade136e2-5156-46f1-9382-74b50a5a4db6",
   "metadata": {},
   "outputs": [],
   "source": [
    "font = {'family' : 'DejaVu Sans',\n",
    "        'weight' : 'normal',\n",
    "        'size'   : 12}\n",
    "\n",
    "plt.rc('font', **font)"
   ]
  },
  {
   "cell_type": "code",
   "execution_count": null,
   "id": "c80ad675-6fbb-42de-a802-0d89a87c4df9",
   "metadata": {},
   "outputs": [],
   "source": [
    "reload(analyse)"
   ]
  },
  {
   "cell_type": "code",
   "execution_count": null,
   "id": "ef1eedb3-5b54-426f-bb18-f77534f57413",
   "metadata": {},
   "outputs": [],
   "source": [
    "ZERO_TRAJECTORY_THRESHOLD = 0"
   ]
  },
  {
   "cell_type": "code",
   "execution_count": null,
   "id": "48f636e1-4d8a-4067-8244-fe6bd3019ec5",
   "metadata": {
    "tags": []
   },
   "outputs": [],
   "source": [
    "FREQUENCY = 0\n",
    "\n",
    "fig, axs = plt.subplots(all_p_sweep[0][FREQUENCY][0][0].shape[0], 2, figsize=(30, 700))\n",
    "\n",
    "for cell_num in np.arange(all_p_sweep[0][FREQUENCY][0][0].shape[0]):\n",
    "    \n",
    "    sim_mat_tuple = plot_sim_mat(all_p_sweep[0], fig, axs, frequency=FREQUENCY, cell_num=cell_num, environment=environments[0], zero_trajectory_threshold=ZERO_TRAJECTORY_THRESHOLD)\n",
    "    axs[cell_num, 0], min_max = sim_mat_tuple[0], (np.min(sim_mat_tuple[1]), np.max(sim_mat_tuple[1]))\n",
    "    \n",
    "    ld_sweep_i = linearize_neighbor_trajectories(all_p_sweep[0], FREQUENCY, cell_num, environments[0])    \n",
    "\n",
    "    for trajectory in neighbor_trajectories:\n",
    "        \n",
    "        axs[cell_num, 1].plot(ld_sweep_i[trajectory], label='{0}'.format((trajectory[0]+1, trajectory[1]+1)))\n",
    "        axs[cell_num, 1].set_title('cell_num: {0}.{1}; (min, max): {2}'.format(FREQUENCY, cell_num, min_max))\n",
    "        axs[cell_num, 1].legend(bbox_to_anchor=(1, 1))"
   ]
  },
  {
   "cell_type": "code",
   "execution_count": null,
   "id": "0051f04a-049f-4ba3-98e0-6d7e2ec39af2",
   "metadata": {
    "tags": []
   },
   "outputs": [],
   "source": [
    "FREQUENCY = 1\n",
    "\n",
    "fig, axs = plt.subplots(all_p_sweep[0][FREQUENCY][0][0].shape[0], 2, figsize=(30, 700))\n",
    "\n",
    "for cell_num in np.arange(all_p_sweep[0][FREQUENCY][0][0].shape[0]):\n",
    "          \n",
    "    sim_mat_tuple = plot_sim_mat(all_p_sweep[0], fig, axs, frequency=FREQUENCY, cell_num=cell_num, environment=environments[0], zero_trajectory_threshold=ZERO_TRAJECTORY_THRESHOLD)\n",
    "    axs[cell_num, 0], min_max = sim_mat_tuple[0], (np.min(sim_mat_tuple[1]), np.max(sim_mat_tuple[1]))\n",
    "    \n",
    "    ld_sweep_i = linearize_neighbor_trajectories(all_p_sweep[0], FREQUENCY, cell_num, environments[0])    \n",
    "\n",
    "    for trajectory in neighbor_trajectories:\n",
    "        \n",
    "        axs[cell_num, 1].plot(ld_sweep_i[trajectory], label='{0}'.format((trajectory[0]+1, trajectory[1]+1)))\n",
    "        axs[cell_num, 1].set_title('cell_num: {0}.{1}; (min, max): {2}'.format(FREQUENCY, cell_num, min_max))\n",
    "        axs[cell_num, 1].legend(bbox_to_anchor=(1, 1))"
   ]
  },
  {
   "cell_type": "code",
   "execution_count": null,
   "id": "b96070b0-a1c0-4ecc-b153-62bda12097d9",
   "metadata": {
    "tags": []
   },
   "outputs": [],
   "source": [
    "FREQUENCY = 2\n",
    "\n",
    "fig, axs = plt.subplots(all_p_sweep[0][FREQUENCY][0][0].shape[0], 2, figsize=(30, 700))\n",
    "\n",
    "for cell_num in np.arange(all_p_sweep[0][FREQUENCY][0][0].shape[0]):\n",
    "          \n",
    "    sim_mat_tuple = plot_sim_mat(all_p_sweep[0], fig, axs, frequency=FREQUENCY, cell_num=cell_num, environment=environments[0], zero_trajectory_threshold=ZERO_TRAJECTORY_THRESHOLD)\n",
    "    axs[cell_num, 0], min_max = sim_mat_tuple[0], (np.min(sim_mat_tuple[1]), np.max(sim_mat_tuple[1]))\n",
    "    \n",
    "    ld_sweep_i = linearize_neighbor_trajectories(all_p_sweep[0], FREQUENCY, cell_num, environments[0])    \n",
    "\n",
    "    for trajectory in neighbor_trajectories:\n",
    "        \n",
    "        axs[cell_num, 1].plot(ld_sweep_i[trajectory], label='{0}'.format((trajectory[0]+1, trajectory[1]+1)))\n",
    "        axs[cell_num, 1].set_title('cell_num: {0}.{1}; (min, max): {2}'.format(FREQUENCY, cell_num, min_max))\n",
    "        axs[cell_num, 1].legend(bbox_to_anchor=(1, 1))"
   ]
  },
  {
   "cell_type": "code",
   "execution_count": null,
   "id": "a7b19b9d-3381-4b47-bdf9-883f9f45a799",
   "metadata": {
    "tags": []
   },
   "outputs": [],
   "source": [
    "FREQUENCY = 3\n",
    "\n",
    "fig, axs = plt.subplots(all_p_sweep[0][FREQUENCY][0][0].shape[0], 2, figsize=(30, 700))\n",
    "\n",
    "for cell_num in np.arange(all_p_sweep[0][FREQUENCY][0][0].shape[0]):\n",
    "          \n",
    "    sim_mat_tuple = plot_sim_mat(all_p_sweep[0], fig, axs, frequency=FREQUENCY, cell_num=cell_num, environment=environments[0], zero_trajectory_threshold=ZERO_TRAJECTORY_THRESHOLD)\n",
    "    axs[cell_num, 0], min_max = sim_mat_tuple[0], (np.min(sim_mat_tuple[1]), np.max(sim_mat_tuple[1]))\n",
    "    \n",
    "    ld_sweep_i = linearize_neighbor_trajectories(all_p_sweep[0], FREQUENCY, cell_num, environments[0])    \n",
    "\n",
    "    for trajectory in neighbor_trajectories:\n",
    "        \n",
    "        axs[cell_num, 1].plot(ld_sweep_i[trajectory], label='{0}'.format((trajectory[0]+1, trajectory[1]+1)))\n",
    "        axs[cell_num, 1].set_title('cell_num: {0}.{1}; (min, max): {2}'.format(FREQUENCY, cell_num, min_max))\n",
    "        axs[cell_num, 1].legend(bbox_to_anchor=(1, 1))"
   ]
  },
  {
   "cell_type": "code",
   "execution_count": null,
   "id": "5400c771-f5ea-467a-ad1b-2448cda48332",
   "metadata": {
    "tags": []
   },
   "outputs": [],
   "source": [
    "FREQUENCY = 4\n",
    "\n",
    "fig, axs = plt.subplots(all_p_sweep[0][FREQUENCY][0][0].shape[0], 2, figsize=(30, 700))\n",
    "\n",
    "for cell_num in np.arange(all_p_sweep[0][FREQUENCY][0][0].shape[0]):\n",
    "          \n",
    "    sim_mat_tuple = plot_sim_mat(all_p_sweep[0], fig, axs, frequency=FREQUENCY, cell_num=cell_num, environment=environments[0], zero_trajectory_threshold=ZERO_TRAJECTORY_THRESHOLD)\n",
    "    axs[cell_num, 0], min_max = sim_mat_tuple[0], (np.min(sim_mat_tuple[1]), np.max(sim_mat_tuple[1]))\n",
    "    \n",
    "    ld_sweep_i = linearize_neighbor_trajectories(all_p_sweep[0], FREQUENCY, cell_num, environments[0])    \n",
    "\n",
    "    for trajectory in neighbor_trajectories:\n",
    "        \n",
    "        axs[cell_num, 1].plot(ld_sweep_i[trajectory], label='{0}'.format((trajectory[0]+1, trajectory[1]+1)))\n",
    "        axs[cell_num, 1].set_title('cell_num: {0}.{1}; (min, max): {2}'.format(FREQUENCY, cell_num, min_max))\n",
    "        axs[cell_num, 1].legend(bbox_to_anchor=(1, 1))"
   ]
  },
  {
   "cell_type": "code",
   "execution_count": null,
   "id": "516b2f3d-a08a-4d0f-ad6a-80955133f284",
   "metadata": {},
   "outputs": [],
   "source": [
    "trajectory_dict = analyse.make_trajectory_dict()\n",
    "trajectory_dict"
   ]
  },
  {
   "cell_type": "code",
   "execution_count": null,
   "id": "4337e1bf-7d6a-429f-b828-79c64f1ab13f",
   "metadata": {},
   "outputs": [],
   "source": [
    "def find_col(value, sim_mat):\n",
    "    \n",
    "    col = np.argwhere(sim_mat == value)[:, 0][0]\n",
    "    \n",
    "    return col\n",
    "\n",
    "def update_available_points(ordered_list, prev_points, available_points, sim_mat):\n",
    "    # Take only the below-diagonal points\n",
    "    all_points = set([point for point in list(permutations(np.arange(10), r=2))])\n",
    "    if len(ordered_list) == 1:\n",
    "        prev_col = prev_points[-1][0]\n",
    "        available_points = [point for point in all_points if point[1] == prev_col]\n",
    "        #print('first')\n",
    "    else:\n",
    "        prev_col = prev_points[-1][0]\n",
    "        # Get all points in new column\n",
    "        new_available_points = [point for point in all_points if point[1] == prev_col]\n",
    "        new_available_points = set([point if (point[0] > point[1]) else point[::-1] for point in all_points])\n",
    "        # Add the new points to the previous points\n",
    "        available_points = set(available_points) | new_available_points\n",
    "        \n",
    "        #print('second')\n",
    "    # remove any points that have already been seen\n",
    "    available_points = [point for point in available_points if not (point in prev_points)]\n",
    "    #print(available_points)\n",
    "    return available_points\n",
    "\n",
    "def order_vector_preserve_location(sim_mat):\n",
    "    \n",
    "    sim_mat_mask = make_sim_mat_mask()\n",
    "    ordered_list = []\n",
    "    prev_points = []\n",
    "    for trajectory_pair_tier in [0, 1, 2, 3]:\n",
    "        # only consider lower triangle\n",
    "        available_points = [point for point in list(permutations(np.arange(10), r=2)) if point[0] > point[1]]\n",
    "        available_points = [point for point in available_points if sim_mat_mask[point] == trajectory_pair_tier]\n",
    "        column_list = []\n",
    "        # Assume no ties for now\n",
    "        for i in np.arange(sim_mat[sim_mat_mask == trajectory_pair_tier].shape[0] / 2):\n",
    "            # Find the initial maximum value\n",
    "            available_sim_mat = np.array([sim_mat[point] for point in available_points])\n",
    "            #print(trajectory_pair_tier, available_sim_mat)\n",
    "            new_max = np.max(available_sim_mat)\n",
    "            # Get the point that leads to max point\n",
    "            new_max_point = [point for point in available_points if sim_mat[point] == new_max][0]\n",
    "            # Find the column where that value came from\n",
    "            new_max_col = new_max_point[0]\n",
    "            # Add the column of this value to the list of columns we can look through\n",
    "            column_list.append(new_max_col)\n",
    "            # Add the max value to our overall sorted list\n",
    "            ordered_list.append(new_max)\n",
    "            prev_points.append(new_max_point)\n",
    "            available_points = update_available_points(ordered_list, prev_points, available_points, sim_mat)\n",
    "            \n",
    "    return ordered_list\n"
   ]
  },
  {
   "cell_type": "code",
   "execution_count": null,
   "id": "8860b274-fd6a-4173-ace0-aa3e5d70fd03",
   "metadata": {},
   "outputs": [],
   "source": [
    "def new_order(similarity_matrix):\n",
    "    similarity_matrix_copy = np.copy(similarity_matrix)\n",
    "    np.fill_diagonal(similarity_matrix_copy, np.min(similarity_matrix_copy - 1))\n",
    "    available_columns = []\n",
    "    already_collected_values = []\n",
    "    first_max = np.max(similarity_matrix_copy)\n",
    "    # This is the one in the upper triangle\n",
    "    first_max_idx = np.argwhere(similarity_matrix_copy == first_max)[0]\n",
    "    # Add first max value\n",
    "    already_collected_values.append(first_max)\n",
    "    # Append both the row and column to available_columns - the column for obvious reasons and the row because this is the column of the other place this value appears.\n",
    "    available_columns.append(first_max_idx[0])\n",
    "    available_columns.append(first_max_idx[1])\n",
    "    # Now go through the rest of the values and repeat this process\n",
    "    for _ in np.arange((((similarity_matrix.shape[0] * similarity_matrix_copy.shape[1]) - similarity_matrix_copy.shape[0]) / 2) - 1):\n",
    "        available_matrix = similarity_matrix_copy[:, available_columns]\n",
    "        available_matrix_not_collected_values = available_matrix[~np.isin(available_matrix, already_collected_values)]\n",
    "        \n",
    "        next_max = np.max(available_matrix_not_collected_values)\n",
    "        # Add new max value\n",
    "        already_collected_values.append(next_max)\n",
    "        next_max_idx = np.argwhere(similarity_matrix_copy == next_max)[0]\n",
    "        # Add idxs to available columns\n",
    "        available_columns.append(next_max_idx[0])\n",
    "        available_columns.append(next_max_idx[1])\n",
    "\n",
    "    return already_collected_values"
   ]
  },
  {
   "cell_type": "code",
   "execution_count": null,
   "id": "fc184ea6-8d94-4274-8634-95aec3cae80f",
   "metadata": {},
   "outputs": [],
   "source": [
    "def decreasing_order_remove_ambiguous_comparisons(sim_mat):\n",
    "    triu = sim_mat[np.triu_indices_from(sim_mat, k=1)]\n",
    "    remove_ambiguous = triu[np.hstack([np.arange(2), np.arange(3, 9), np.arange(10, 19), np.arange(20, 24), np.arange(25, 32), np.arange(33, 35), np.arange(36, 41), np.arange(43, 45)])]\n",
    "    return np.sort(remove_ambiguous)[::-1]"
   ]
  },
  {
   "cell_type": "code",
   "execution_count": null,
   "id": "dcebd460-6143-4349-85b9-dba6964cc985",
   "metadata": {},
   "outputs": [],
   "source": [
    "def decreasing_order(sim_mat):\n",
    "    triu = sim_mat[np.triu_indices_from(sim_mat, k=1)]\n",
    "    return np.sort(triu)[::-1]"
   ]
  },
  {
   "cell_type": "code",
   "execution_count": null,
   "id": "02096248-0f80-4c98-92a9-2e261bb21a2b",
   "metadata": {},
   "outputs": [],
   "source": [
    "fig, axs = plt.subplots(400, 2)\n",
    "\n",
    "sweep_cell_mat_list = []\n",
    "\n",
    "for frequency in np.arange(5):\n",
    "    for cell_num in np.arange(all_p_sweep[0][frequency][0][0].shape[0]):\n",
    "        sweep_cell_mat_list.append(plot_sim_mat(all_p_sweep[0], fig, axs, frequency=frequency, cell_num=cell_num, environment=environments[0], zero_trajectory_threshold=ZERO_TRAJECTORY_THRESHOLD)[1])\n",
    "\n",
    "random_cell_mat_list = []\n",
    "\n",
    "for frequency in np.arange(5):\n",
    "    for cell_num in np.arange(all_p_random[0][frequency][0][0].shape[0]):\n",
    "        random_cell_mat_list.append(plot_sim_mat(all_p_random[0], fig, axs, frequency=frequency, cell_num=cell_num, environment=environments[0], zero_trajectory_threshold=ZERO_TRAJECTORY_THRESHOLD)[1])\n",
    "\n"
   ]
  },
  {
   "cell_type": "code",
   "execution_count": null,
   "id": "5c7fc7dd-85a4-4737-8d48-831745adfd57",
   "metadata": {
    "tags": []
   },
   "outputs": [],
   "source": [
    "sweep_cell_vec_list = []\n",
    "\n",
    "for cell_mat in sweep_cell_mat_list:\n",
    "    sweep_cell_vec_list.append(decreasing_order(cell_mat))\n",
    "    \n",
    "random_cell_vec_list = []\n",
    "\n",
    "for cell_mat in random_cell_mat_list:\n",
    "    random_cell_vec_list.append(decreasing_order(cell_mat))   "
   ]
  },
  {
   "cell_type": "code",
   "execution_count": null,
   "id": "04b8cf76-e1b7-40a8-90c5-0020b1545f22",
   "metadata": {},
   "outputs": [],
   "source": [
    "sweep_cell_vec_list[0]"
   ]
  },
  {
   "cell_type": "code",
   "execution_count": null,
   "id": "02b675ce-ef80-4d42-93bf-dd33c3cecdbf",
   "metadata": {},
   "outputs": [],
   "source": [
    "random_cell_vec_list[0]"
   ]
  },
  {
   "cell_type": "code",
   "execution_count": null,
   "id": "44a82bad-ec2d-43a1-8c63-beeb9a3ddba7",
   "metadata": {},
   "outputs": [],
   "source": [
    "sweep_cell_stack = sweep_cell_vec_list[0]\n",
    "for cell in sweep_cell_vec_list[1:]:\n",
    "    sweep_cell_stack = np.vstack([sweep_cell_stack, cell])\n",
    "\n",
    "random_cell_stack = random_cell_vec_list[0]\n",
    "for cell in random_cell_vec_list[1:]:\n",
    "    random_cell_stack = np.vstack([random_cell_stack, cell])\n",
    "\n",
    "print(sweep_cell_stack.shape)\n",
    "print(random_cell_stack.shape)"
   ]
  },
  {
   "cell_type": "code",
   "execution_count": null,
   "id": "2fde773f-7f48-4056-ab33-44ea57cd917e",
   "metadata": {},
   "outputs": [],
   "source": [
    "sweep_cell_stack"
   ]
  },
  {
   "cell_type": "code",
   "execution_count": null,
   "id": "3d79a04e-fe32-4467-aa3f-cf833ba93ae2",
   "metadata": {},
   "outputs": [],
   "source": [
    "random_cell_stack"
   ]
  },
  {
   "cell_type": "code",
   "execution_count": null,
   "id": "b4498e54-1086-4c8a-a4e4-b155d8d8b8ca",
   "metadata": {},
   "outputs": [],
   "source": [
    "both_policies = np.vstack([sweep_cell_stack, random_cell_stack])"
   ]
  },
  {
   "cell_type": "code",
   "execution_count": null,
   "id": "22ead060-d840-47de-9d24-52aafe5fdb47",
   "metadata": {},
   "outputs": [],
   "source": [
    "center_both_policies = both_policies - np.mean(both_policies, axis=0)"
   ]
  },
  {
   "cell_type": "code",
   "execution_count": null,
   "id": "1bb5e3e5-b1b2-41e5-adf0-28336fcff79d",
   "metadata": {},
   "outputs": [],
   "source": [
    "print(center_both_policies.shape)"
   ]
  },
  {
   "cell_type": "code",
   "execution_count": null,
   "id": "d62c3986-fcf8-4b78-8b2c-1bbd092e5566",
   "metadata": {},
   "outputs": [],
   "source": [
    "U, Sigma, V_T = np.linalg.svd(center_both_policies, full_matrices=True)"
   ]
  },
  {
   "cell_type": "code",
   "execution_count": null,
   "id": "fae76b0d-6521-496d-8c2c-d5276e9f12d6",
   "metadata": {},
   "outputs": [],
   "source": [
    "print(U.shape)\n",
    "print(Sigma.shape)\n",
    "print(V_T.shape)"
   ]
  },
  {
   "cell_type": "code",
   "execution_count": null,
   "id": "293501f2-16f7-4554-a005-a727ef18f780",
   "metadata": {},
   "outputs": [],
   "source": [
    "eigs = Sigma**2\n",
    "eigs_frac = eigs / np.sum(eigs)"
   ]
  },
  {
   "cell_type": "code",
   "execution_count": null,
   "id": "e202da77-cce8-4472-9d92-a0ab5087cda5",
   "metadata": {},
   "outputs": [],
   "source": [
    "fig, ax = plt.subplots()\n",
    "\n",
    "ax.bar(np.arange(eigs_frac[:10].shape[0]) + 1, eigs_frac[:10])\n",
    "ax.set_ylim(0, 1)\n",
    "ax.set_xlim(0, 11)\n",
    "xticks = ax.set_xticks(np.arange(0, 11))"
   ]
  },
  {
   "cell_type": "code",
   "execution_count": null,
   "id": "264056fc-1ac9-457c-865a-d42629a5e00f",
   "metadata": {},
   "outputs": [],
   "source": [
    "fig, ax = plt.subplots(figsize=(15, 8))\n",
    "\n",
    "ax.plot(V_T.T[:, 0])\n",
    "ax.plot(V_T.T[:, 1])\n",
    "x_ticks = ax.set_xticks(np.arange(45))"
   ]
  },
  {
   "cell_type": "code",
   "execution_count": null,
   "id": "88da58aa-29ee-4ffd-a5af-bb18a71729eb",
   "metadata": {},
   "outputs": [],
   "source": [
    "# Separate the vectors from the sweeping and random policies\n",
    "centered_sweep_vecs = center_both_policies[:400, :]\n",
    "centered_random_vecs = center_both_policies[400:, :]\n",
    "\n",
    "# Project onto principal directions\n",
    "projected_sweep_vecs = centered_sweep_vecs @ V_T.T\n",
    "projected_random_vecs = centered_random_vecs @ V_T.T\n",
    "\n",
    "# First two principal components\n",
    "projected_sweep_two = projected_sweep_vecs[:, :2]\n",
    "projected_random_two = projected_random_vecs[:, :2]\n",
    "print(projected_sweep_two.shape)\n",
    "print(projected_random_two.shape)"
   ]
  },
  {
   "cell_type": "code",
   "execution_count": null,
   "id": "71474bab-1bc0-410d-8df7-b315cde00e7b",
   "metadata": {},
   "outputs": [],
   "source": [
    "S = np.zeros((800, 45))\n",
    "S[:45, :45] = np.diag(Sigma)\n",
    "S"
   ]
  },
  {
   "cell_type": "code",
   "execution_count": null,
   "id": "037e916c-d756-4020-b904-5ae28d6746fe",
   "metadata": {},
   "outputs": [],
   "source": [
    "fig, ax = plt.subplots(figsize=(20, 15))\n",
    "\n",
    "ax.scatter(projected_sweep_two[:, 0], projected_sweep_two[:, 1], label='projected_sweep', s=120, alpha=0.8)\n",
    "ax.scatter(projected_random_two[:, 0], projected_random_two[:, 1], label='projected_random', s=120, alpha=0.8)\n",
    "\n",
    "sweep_centroid = np.mean(projected_sweep_two, axis=0)\n",
    "random_centroid = np.mean(projected_random_two, axis=0)\n",
    "ax.scatter(sweep_centroid[0], sweep_centroid[1], s=200, label='sweep_centroid')\n",
    "ax.scatter(random_centroid[0], random_centroid[1], s=200, label='random_centroid')\n",
    "#ax.axvline(1)\n",
    "#ax.axhline(-0.3)\n",
    "ax.legend()"
   ]
  },
  {
   "cell_type": "code",
   "execution_count": null,
   "id": "388c202d-17e5-441a-933a-13592d8b5b11",
   "metadata": {},
   "outputs": [],
   "source": [
    "decreasing_total_variance = np.var(np.vstack([projected_sweep_two[:, 0], projected_random_two[:, 0]])) / eigs_frac[0]\n",
    "decreasing_total_variance"
   ]
  },
  {
   "cell_type": "code",
   "execution_count": null,
   "id": "cdbb327d-d46e-4621-a38d-0dfbd3f8f491",
   "metadata": {},
   "outputs": [],
   "source": [
    "np.var(np.vstack([projected_sweep_two[:, 0], projected_random_two[:, 0]]))"
   ]
  },
  {
   "cell_type": "code",
   "execution_count": null,
   "id": "6c4f45a0-1175-4848-b768-6b25c1e21be3",
   "metadata": {},
   "outputs": [],
   "source": [
    "import seaborn as sns\n",
    "sns.distplot(projected_sweep_two[:, 0], bins=np.linspace(np.min(np.hstack([projected_sweep_two[:, 0], projected_random_two[:, 0]])), np.max(np.hstack([projected_sweep_two[:, 0], projected_random_two[:, 0]])), 20))\n",
    "sns.distplot(projected_random_two[:, 0], bins=np.linspace(np.min(np.hstack([projected_sweep_two[:, 0], projected_random_two[:, 0]])), np.max(np.hstack([projected_sweep_two[:, 0], projected_random_two[:, 0]])), 20))"
   ]
  },
  {
   "cell_type": "code",
   "execution_count": null,
   "id": "280add34-b8aa-41ff-a380-54f3cefc524c",
   "metadata": {},
   "outputs": [],
   "source": [
    "sns.distplot(projected_sweep_two[:, 1], bins=np.linspace(np.min(np.hstack([projected_sweep_two[:, 1], projected_random_two[:, 1]])), np.max(np.hstack([projected_sweep_two[:, 1], projected_random_two[:, 1]])), 20))\n",
    "sns.distplot(projected_random_two[:, 1], bins=np.linspace(np.min(np.hstack([projected_sweep_two[:, 1], projected_random_two[:, 1]])), np.max(np.hstack([projected_sweep_two[:, 1], projected_random_two[:, 1]])), 20))"
   ]
  },
  {
   "cell_type": "code",
   "execution_count": null,
   "id": "2c65a8c8-b0d4-4559-bdc6-00f71d230ff3",
   "metadata": {},
   "outputs": [],
   "source": [
    "fig, axs = plt.subplots(2, figsize=(15, 10))\n",
    "sweep_hist = axs[0].hist(projected_sweep_two[:, 0], bins=np.linspace(np.min(projected_sweep_two[:, 0]), np.max(projected_sweep_two[:, 0]), 16), label='projected_sweep', alpha=0.8)#, histtype='step', cumulative=True, density=True, color='tab:blue')\n",
    "random_arm_hist = axs[0].hist(projected_random_two[:, 0], bins=np.linspace(np.min(projected_sweep_two[:, 0]), np.max(projected_sweep_two[:, 0]), 16), label='projected_random', alpha=0.8)#, histtype='step', cumulative=True, density=True, color='tab:orange')\n",
    "axs[0].set_xlim(np.min(projected_sweep_two[:, 0]), np.max(projected_sweep_two[:, 0]))\n",
    "axs[0].set_title('PC 1')\n",
    "\n",
    "sweep_hist = axs[1].hist(projected_sweep_two[:, 1], bins=np.linspace(np.min(projected_sweep_two[:, 1]), np.max(projected_sweep_two[:, 1]), 16), label='projected_sweep', alpha=0.8)#, histtype='step', cumulative=True, density=True, color='tab:blue')\n",
    "random_arm_hist = axs[1].hist(projected_random_two[:, 1], bins=np.linspace(np.min(projected_sweep_two[:, 1]), np.max(projected_sweep_two[:, 1]), 16), label='projected_random', alpha=0.8)#, histtype='step', cumulative=True, density=True, color='tab:orange')\n",
    "axs[1].set_xlim(np.min(projected_sweep_two[:, 1]), np.max(projected_sweep_two[:, 1]))\n",
    "axs[1].set_title('PC 2')\n"
   ]
  },
  {
   "cell_type": "code",
   "execution_count": null,
   "id": "736fc767-411f-4188-a832-78c3af495fa7",
   "metadata": {},
   "outputs": [],
   "source": [
    "fig, ax = plt.subplots(figsize=(20, 10))\n",
    "\n",
    "ax.hist(projected_sweep_two[:, 0], bins=np.linspace(np.min(projected_sweep_two[:, 0]), np.max(projected_sweep_two[:, 0]), 1000), label='projected_sweep', histtype='step', cumulative=True, density=True, color='tab:blue')\n",
    "ax.hist(projected_random_two[:, 0], bins=np.linspace(np.min(projected_sweep_two[:, 0]), np.max(projected_sweep_two[:, 0]), 1000), label='projected_random', histtype='step', cumulative=True, density=True, color='tab:orange')\n",
    "#ax.set_xticks(np.linspace(np.min(projected_sweep_two), np.max(projected_sweep_two),  21))\n",
    "ax.set_xlim(np.min(projected_sweep_two[:, 0]), np.max(projected_sweep_two[:, 0]))\n",
    "sweep_mean = np.mean(projected_sweep_two[:, 0])#, axis=0)\n",
    "random_mean = np.mean(projected_random_two[:, 0])#, axis=0)\n",
    "#ax.axvline(sweep_mean, label='sweep_mean', color='tab:blue')\n",
    "#ax.axvline(random_mean, label='random_mean', color='tab:orange')\n",
    "#ax.axvline(0.22)\n",
    "#ax.axvline(0.26)\n",
    "ax.set_title('PC1')\n",
    "#ax.axhline(0.85)\n",
    "#ax.axhline(0.92)\n",
    "ax.legend(bbox_to_anchor=(1, 1.1))"
   ]
  },
  {
   "cell_type": "code",
   "execution_count": null,
   "id": "9e73d3c2-03ff-491e-a027-2fbb4b1b3cc6",
   "metadata": {},
   "outputs": [],
   "source": [
    "fig, ax = plt.subplots(figsize=(20, 10))\n",
    "\n",
    "ax.hist(projected_sweep_two[:, 1], bins=np.linspace(np.min(projected_sweep_two[:, 1]), np.max(projected_sweep_two[:, 1]), 1000), label='projected_sweep', histtype='step', cumulative=True, density=True, color='tab:blue')\n",
    "ax.hist(projected_random_two[:, 1], bins=np.linspace(np.min(projected_sweep_two[:, 1]), np.max(projected_sweep_two[:, 1]), 1000), label='projected_random', histtype='step', cumulative=True, density=True, color='tab:orange')\n",
    "#ax.set_xticks(np.linspace(np.min(projected_sweep_two), np.max(projected_sweep_two),  21))\n",
    "ax.set_xlim(np.min(projected_sweep_two[:, 1]), np.max(projected_sweep_two[:, 1]))\n",
    "sweep_mean = np.mean(projected_sweep_two[:, 1])#, axis=0)\n",
    "random_mean = np.mean(projected_random_two[:, 1])#, axis=0)\n",
    "#ax.axvline(sweep_mean, label='sweep_mean', color='tab:blue')\n",
    "#ax.axvline(random_mean, label='random_mean', color='tab:orange')\n",
    "ax.set_title('PC2')\n",
    "#ax.axvline(-0.13, color='tab:green')\n",
    "#ax.axhline(-0.3)\n",
    "ax.legend(bbox_to_anchor=(1, 1.1))"
   ]
  },
  {
   "cell_type": "code",
   "execution_count": null,
   "id": "6aea37af-a7e9-4bbf-8085-ebd0a4bd1553",
   "metadata": {},
   "outputs": [],
   "source": [
    "### np.count_nonzero(np.logical_and((projected_sweep_two[:, 0] >= 1), (projected_sweep_two[:, 1] <= -0.3)))\n"
   ]
  },
  {
   "cell_type": "code",
   "execution_count": null,
   "id": "3b2aa94a-a510-4a5b-9ae4-2b21f07d2971",
   "metadata": {},
   "outputs": [],
   "source": [
    "np.count_nonzero(np.logical_and((projected_random_two[:, 0] >= 1), (projected_random_two[:, 1] <= -0.3)))\n"
   ]
  },
  {
   "cell_type": "code",
   "execution_count": null,
   "id": "3b6b65af-49d5-42c7-9b83-afd95d156f9f",
   "metadata": {},
   "outputs": [],
   "source": [
    "len(all_p_sweep[0][0][0][0])"
   ]
  },
  {
   "cell_type": "code",
   "execution_count": null,
   "id": "a809529e-04b4-4b3b-95f5-aff005ab8903",
   "metadata": {},
   "outputs": [],
   "source": [
    "def convert_cell_num(absolute_cell_num, verbose=False):\n",
    "    \n",
    "    FREQ_0_CUM_CELLS = 100\n",
    "    FREQ_1_CUM_CELLS = 200\n",
    "    FREQ_2_CUM_CELLS = 280\n",
    "    FREQ_3_CUM_CELLS = 340\n",
    "    FREQ_4_CUM_CELLS = 400\n",
    "    freq_module = 0\n",
    "    if verbose:\n",
    "        print(absolute_cell_num)\n",
    "    if absolute_cell_num < FREQ_0_CUM_CELLS:\n",
    "        freq_module = 0\n",
    "        cell_num_within_module = absolute_cell_num\n",
    "    elif absolute_cell_num < FREQ_1_CUM_CELLS:\n",
    "        freq_module = 1\n",
    "        cell_num_within_module = absolute_cell_num - FREQ_0_CUM_CELLS\n",
    "    elif absolute_cell_num < FREQ_2_CUM_CELLS:\n",
    "        freq_module = 2\n",
    "        cell_num_within_module = absolute_cell_num - FREQ_1_CUM_CELLS\n",
    "    elif absolute_cell_num < FREQ_3_CUM_CELLS:\n",
    "        freq_module = 3\n",
    "        cell_num_within_module = absolute_cell_num - FREQ_2_CUM_CELLS\n",
    "    elif absolute_cell_num < FREQ_4_CUM_CELLS:\n",
    "        freq_module = 4\n",
    "        cell_num_within_module = absolute_cell_num - FREQ_3_CUM_CELLS\n",
    "    \n",
    "    \n",
    "    return (freq_module, cell_num_within_module)"
   ]
  },
  {
   "cell_type": "code",
   "execution_count": null,
   "id": "1625ef45-30f9-481c-afb7-232bb53f377f",
   "metadata": {},
   "outputs": [],
   "source": [
    "x = np.sort(projected_random_two[:, 0])[18]\n",
    "x"
   ]
  },
  {
   "cell_type": "code",
   "execution_count": null,
   "id": "d75d1c45-58c6-4161-9da0-57d98ac2e1f8",
   "metadata": {},
   "outputs": [],
   "source": [
    "np.argwhere(projected_random_two[:, 0] == x)[:, 0]"
   ]
  },
  {
   "cell_type": "code",
   "execution_count": null,
   "id": "40b9a0aa-e2a7-481c-85d9-606a09148a44",
   "metadata": {},
   "outputs": [],
   "source": [
    "projected_random_two.shape"
   ]
  },
  {
   "cell_type": "code",
   "execution_count": null,
   "id": "4cb75b3d-9de0-4896-ba93-22e3a5a70ae3",
   "metadata": {
    "tags": []
   },
   "outputs": [],
   "source": [
    "fig, axs = plt.subplots(np.argwhere(projected_random_two[:, 0] == x).shape[0], 3, figsize=(30, 500))\n",
    "\n",
    "for cell_i, absolute_cell_num in enumerate(np.argwhere(projected_random_two[:, 0] == x)[:, 0]):\n",
    "    print('cell_i: {0}, absolute_cell_num: {1}'.format(cell_i, absolute_cell_num))\n",
    "    FREQUENCY, frequency_module_cell_num = convert_cell_num(absolute_cell_num)\n",
    "    print('FREQUENCY.frequency_module_cell_num: {0}.{1}'.format(FREQUENCY, frequency_module_cell_num))\n",
    "    sim_mat_tuple = plot_sim_mat(all_p_random[0], fig, axs, frequency=FREQUENCY, cell_num=frequency_module_cell_num, environment=environments[0], cell_i=cell_i)\n",
    "    print(sim_mat_tuple[1])\n",
    "    axs[cell_i, 0], min_max = sim_mat_tuple[0], (np.min(sim_mat_tuple[1]), np.max(sim_mat_tuple[1]))\n",
    "    axs[cell_i, 1].bar(np.arange(45), np.sort(sim_mat_tuple[1][np.triu_indices_from(sim_mat_tuple[1], k=1)])[::-1])\n",
    "    \n",
    "    ld_sweep_i = linearize_neighbor_trajectories(all_p_random[0], FREQUENCY, frequency_module_cell_num, environments[0])\n",
    "    \n",
    "    for trajectory in neighbor_trajectories:\n",
    "        \n",
    "        axs[cell_i, 2].plot(ld_sweep_i[trajectory], label='{0}'.format((trajectory[0]+1, trajectory[1]+1)))\n",
    "        axs[cell_i, 2].set_title('cell_num: {0}.{1}; PC1_val: {2}'.format(FREQUENCY, frequency_module_cell_num, x))\n",
    "        axs[cell_i, 2].legend(bbox_to_anchor=(1, 1))"
   ]
  },
  {
   "cell_type": "code",
   "execution_count": null,
   "id": "23e743cb-a785-4718-8a9b-ef4e7fc5c0bc",
   "metadata": {
    "tags": []
   },
   "outputs": [],
   "source": [
    "fig, axs = plt.subplots(np.argwhere(projected_sweep_two[:, 0] == x).shape[0], 3, figsize=(30, 500))\n",
    "\n",
    "for cell_i, absolute_cell_num in enumerate(np.argwhere(projected_sweep_two[:, 0] == x)[:, 0]):\n",
    "    print('cell_i: {0}, absolute_cell_num: {1}'.format(cell_i, absolute_cell_num))\n",
    "    FREQUENCY, frequency_module_cell_num = convert_cell_num(absolute_cell_num)\n",
    "    print('FREQUENCY.frequency_module_cell_num: {0}.{1}'.format(FREQUENCY, frequency_module_cell_num))\n",
    "    sim_mat_tuple = plot_sim_mat(all_p_sweep[0], fig, axs, frequency=FREQUENCY, cell_num=frequency_module_cell_num, environment=environments[0], cell_i=cell_i)\n",
    "    print(sim_mat_tuple[1])\n",
    "    axs[cell_i, 0], min_max = sim_mat_tuple[0], (np.min(sim_mat_tuple[1]), np.max(sim_mat_tuple[1]))\n",
    "    axs[cell_i, 1].bar(np.arange(45), np.sort(sim_mat_tuple[1][np.triu_indices_from(sim_mat_tuple[1], k=1)])[::-1])\n",
    "    \n",
    "    ld_sweep_i = linearize_neighbor_trajectories(all_p_sweep[0], FREQUENCY, frequency_module_cell_num, environments[0])\n",
    "    \n",
    "    for trajectory in neighbor_trajectories:\n",
    "        \n",
    "        axs[cell_i, 2].plot(ld_sweep_i[trajectory], label='{0}'.format((trajectory[0]+1, trajectory[1]+1)))\n",
    "        axs[cell_i, 2].set_title('cell_num: {0}.{1}; PC1_val: {2}'.format(FREQUENCY, frequency_module_cell_num, x))\n",
    "        axs[cell_i, 2].legend(bbox_to_anchor=(1, 1))"
   ]
  },
  {
   "cell_type": "code",
   "execution_count": null,
   "id": "28bad8e6-c06b-42ed-af70-1e540e3e860e",
   "metadata": {
    "tags": []
   },
   "outputs": [],
   "source": [
    "# Order the cells in terms of PC1 score. Consider cells from both policies\n",
    "\n",
    "center_both_policies_projected = np.hstack([projected_sweep_two[:, 0], projected_random_two[:, 0]])\n",
    "center_both_policies_projected_arg_sorted = np.argsort(center_both_policies_projected)\n",
    "\n",
    "# Plot cells in increasing order - cells with idx >= 400 are the second policy (random) - keep track of this in order to use the correct numbering system for plotting\n",
    "\n",
    "fig, axs = plt.subplots(400, 3, figsize=(30, 800))\n",
    "\n",
    "# First half\n",
    "\n",
    "for cell_i, cell_idx in enumerate(center_both_policies_projected_arg_sorted[:400]):\n",
    "    \n",
    "    if cell_idx < 400:\n",
    "        \n",
    "        FREQUENCY, frequency_module_cell_num = convert_cell_num(cell_idx)\n",
    "        sim_mat_tuple = plot_sim_mat(all_p_sweep[0], fig, axs, frequency=FREQUENCY, cell_num=frequency_module_cell_num, environment=environments[0], cell_i=cell_i, zero_trajectory_threshold=0)\n",
    "        \n",
    "        axs[cell_i, 0], min_max = sim_mat_tuple[0], (np.min(sim_mat_tuple[1]), np.max(sim_mat_tuple[1]))\n",
    "        path_eq_vals = decreasing_order(sim_mat_tuple[1])\n",
    "        #print(path_eq_vals.shape)\n",
    "        path_eq_colors = ['tab:blue' if x >= 0 else 'tab:orange' for x in path_eq_vals]\n",
    "        axs[cell_i, 1].bar(np.arange(45), path_eq_vals, color=path_eq_colors)\n",
    "        axs[cell_i, 1].set_ylim(-1, 1)\n",
    "        axs[cell_i, 1].set_title('{0}'.format((path_eq_vals - np.mean(both_policies, axis=0)) @ V_T.T[:, 0]))\n",
    "        \n",
    "        ld_sweep_i = linearize_neighbor_trajectories(all_p_sweep[0], FREQUENCY, frequency_module_cell_num, environments[0])\n",
    "\n",
    "        for trajectory in neighbor_trajectories:\n",
    "\n",
    "            axs[cell_i, 2].plot(ld_sweep_i[trajectory], label='{0}'.format((trajectory[0]+1, trajectory[1]+1)))\n",
    "            axs[cell_i, 2].set_title('{0} cell_num: {1}.{2}; PC1_val: {3}'.format('sweeping', FREQUENCY, frequency_module_cell_num, center_both_policies_projected[cell_idx]))\n",
    "            axs[cell_i, 2].legend(bbox_to_anchor=(1, 1))\n",
    "        \n",
    "    else:\n",
    "        \n",
    "        FREQUENCY, frequency_module_cell_num = convert_cell_num(cell_idx - 400)\n",
    "        sim_mat_tuple = plot_sim_mat(all_p_random[0], fig, axs, frequency=FREQUENCY, cell_num=frequency_module_cell_num, environment=environments[0], cell_i=cell_i, zero_trajectory_threshold=0)\n",
    "        \n",
    "        axs[cell_i, 0], min_max = sim_mat_tuple[0], (np.min(sim_mat_tuple[1]), np.max(sim_mat_tuple[1]))\n",
    "        path_eq_vals = decreasing_order(sim_mat_tuple[1])\n",
    "        #print(path_eq_vals.shape)\n",
    "        path_eq_colors = ['tab:blue' if x >= 0 else 'tab:orange' for x in path_eq_vals]\n",
    "        axs[cell_i, 1].bar(np.arange(45), path_eq_vals, color=path_eq_colors)\n",
    "        axs[cell_i, 1].set_ylim(-1, 1)\n",
    "        axs[cell_i, 1].set_title('{0}'.format((path_eq_vals - np.mean(both_policies, axis=0)) @ V_T.T[:, 0]))\n",
    "        \n",
    "        ld_random_i = linearize_neighbor_trajectories(all_p_random[0], FREQUENCY, frequency_module_cell_num, environments[0])\n",
    "\n",
    "        for trajectory in neighbor_trajectories:\n",
    "\n",
    "            axs[cell_i, 2].plot(ld_random_i[trajectory], label='{0}'.format((trajectory[0]+1, trajectory[1]+1)))\n",
    "            axs[cell_i, 2].set_title('{0} cell_num: {1}.{2}; PC1_val: {3}'.format('random', FREQUENCY, frequency_module_cell_num, center_both_policies_projected[cell_idx]))\n",
    "            axs[cell_i, 2].legend(bbox_to_anchor=(1, 1))\n",
    "    \n",
    "# Second half\n",
    "\n",
    "fig, axs = plt.subplots(400, 3, figsize=(30, 800))\n",
    "\n",
    "for cell_i, cell_idx in enumerate(center_both_policies_projected_arg_sorted[400:]):\n",
    "    \n",
    "    if cell_idx < 400:\n",
    "        \n",
    "        FREQUENCY, frequency_module_cell_num = convert_cell_num(cell_idx)\n",
    "        sim_mat_tuple = plot_sim_mat(all_p_sweep[0], fig, axs, frequency=FREQUENCY, cell_num=frequency_module_cell_num, environment=environments[0], cell_i=cell_i, zero_trajectory_threshold=0)\n",
    "        \n",
    "        axs[cell_i, 0], min_max = sim_mat_tuple[0], (np.min(sim_mat_tuple[1]), np.max(sim_mat_tuple[1]))\n",
    "        path_eq_vals = decreasing_order(sim_mat_tuple[1])\n",
    "        #print(path_eq_vals.shape)\n",
    "        path_eq_colors = ['tab:blue' if x >= 0 else 'tab:orange' for x in path_eq_vals]\n",
    "        axs[cell_i, 1].bar(np.arange(45), path_eq_vals, color=path_eq_colors)\n",
    "        axs[cell_i, 1].set_ylim(-1, 1)\n",
    "        axs[cell_i, 1].set_title('{0}'.format((path_eq_vals - np.mean(both_policies, axis=0)) @ V_T.T[:, 0]))\n",
    "        \n",
    "        ld_sweep_i = linearize_neighbor_trajectories(all_p_sweep[0], FREQUENCY, frequency_module_cell_num, environments[0])\n",
    "\n",
    "        for trajectory in neighbor_trajectories:\n",
    "\n",
    "            axs[cell_i, 2].plot(ld_sweep_i[trajectory], label='{0}'.format((trajectory[0]+1, trajectory[1]+1)))\n",
    "            axs[cell_i, 2].set_title('{0} cell_num: {1}.{2}; PC1_val: {3}'.format('sweeping', FREQUENCY, frequency_module_cell_num, center_both_policies_projected[cell_idx]))\n",
    "            axs[cell_i, 2].legend(bbox_to_anchor=(1, 1))\n",
    "        \n",
    "    else:\n",
    "        \n",
    "        FREQUENCY, frequency_module_cell_num = convert_cell_num(cell_idx - 400)\n",
    "        sim_mat_tuple = plot_sim_mat(all_p_random[0], fig, axs, frequency=FREQUENCY, cell_num=frequency_module_cell_num, environment=environments[0], cell_i=cell_i, zero_trajectory_threshold=0)\n",
    "\n",
    "        axs[cell_i, 0], min_max = sim_mat_tuple[0], (np.min(sim_mat_tuple[1]), np.max(sim_mat_tuple[1]))\n",
    "        path_eq_vals = decreasing_order(sim_mat_tuple[1])\n",
    "        #print(path_eq_vals.shape)\n",
    "        path_eq_colors = ['tab:blue' if x >= 0 else 'tab:orange' for x in path_eq_vals]\n",
    "        axs[cell_i, 1].bar(np.arange(45), path_eq_vals, color=path_eq_colors)\n",
    "        axs[cell_i, 1].set_ylim(-1, 1)\n",
    "        axs[cell_i, 1].set_title('{0}'.format((path_eq_vals - np.mean(both_policies, axis=0)) @ V_T.T[:, 0]))\n",
    "        \n",
    "        ld_random_i = linearize_neighbor_trajectories(all_p_random[0], FREQUENCY, frequency_module_cell_num, environments[0])\n",
    "\n",
    "        for trajectory in neighbor_trajectories:\n",
    "\n",
    "            axs[cell_i, 2].plot(ld_random_i[trajectory], label='{0}'.format((trajectory[0]+1, trajectory[1]+1)))\n",
    "            axs[cell_i, 2].set_title('{0} cell_num: {1}.{2}; PC1_val: {3}'.format('random', FREQUENCY, frequency_module_cell_num, center_both_policies_projected[cell_idx]))\n",
    "            axs[cell_i, 2].legend(bbox_to_anchor=(1, 1))"
   ]
  },
  {
   "cell_type": "code",
   "execution_count": null,
   "id": "2059cf70-7ffc-4a96-bbd2-5c3188ad4a02",
   "metadata": {
    "tags": []
   },
   "outputs": [],
   "source": [
    "# Order the cells in terms of PC1 score. Consider cells from both policies\n",
    "\n",
    "center_both_policies_projected_pc2 = np.hstack([projected_sweep_two[:, 1], projected_random_two[:, 1]])\n",
    "center_both_policies_projected_arg_sorted_pc2 = np.argsort(center_both_policies_projected_pc2)\n",
    "\n",
    "# Plot cells in increasing order - cells with idx >= 400 are the second policy (random) - keep track of this in order to use the correct numbering system for plotting\n",
    "\n",
    "fig, axs = plt.subplots(400, 3, figsize=(30, 800))\n",
    "\n",
    "# First half\n",
    "\n",
    "for cell_i, cell_idx in enumerate(center_both_policies_projected_arg_sorted_pc2[:400]):\n",
    "    \n",
    "    if cell_idx < 400:\n",
    "        \n",
    "        FREQUENCY, frequency_module_cell_num = convert_cell_num(cell_idx)\n",
    "        sim_mat_tuple = plot_sim_mat(all_p_sweep[0], fig, axs, frequency=FREQUENCY, cell_num=frequency_module_cell_num, environment=environments[0], cell_i=cell_i, zero_trajectory_threshold=0)\n",
    "        \n",
    "        axs[cell_i, 0], min_max = sim_mat_tuple[0], (np.min(sim_mat_tuple[1]), np.max(sim_mat_tuple[1]))\n",
    "        path_eq_vals = decreasing_order(sim_mat_tuple[1])\n",
    "        #print(path_eq_vals.shape)\n",
    "        path_eq_colors = ['tab:blue' if x >= 0 else 'tab:orange' for x in path_eq_vals]\n",
    "        axs[cell_i, 1].bar(np.arange(45), path_eq_vals, color=path_eq_colors)\n",
    "        axs[cell_i, 1].set_ylim(-1, 1)\n",
    "        axs[cell_i, 1].set_title('{0}'.format((path_eq_vals - np.mean(both_policies, axis=0)) @ V_T.T[:, 1]))\n",
    "        \n",
    "        ld_sweep_i = linearize_neighbor_trajectories(all_p_sweep[0], FREQUENCY, frequency_module_cell_num, environments[0])\n",
    "\n",
    "        for trajectory in neighbor_trajectories:\n",
    "\n",
    "            axs[cell_i, 2].plot(ld_sweep_i[trajectory], label='{0}'.format((trajectory[0]+1, trajectory[1]+1)))\n",
    "            axs[cell_i, 2].set_title('{0} cell_num: {1}.{2}; PC2_val: {3}'.format('sweeping', FREQUENCY, frequency_module_cell_num, center_both_policies_projected_pc2[cell_idx]))\n",
    "            axs[cell_i, 2].legend(bbox_to_anchor=(1, 1))\n",
    "        \n",
    "    else:\n",
    "        \n",
    "        FREQUENCY, frequency_module_cell_num = convert_cell_num(cell_idx - 400)\n",
    "        sim_mat_tuple = plot_sim_mat(all_p_random[0], fig, axs, frequency=FREQUENCY, cell_num=frequency_module_cell_num, environment=environments[0], cell_i=cell_i, zero_trajectory_threshold=0)\n",
    "        \n",
    "        axs[cell_i, 0], min_max = sim_mat_tuple[0], (np.min(sim_mat_tuple[1]), np.max(sim_mat_tuple[1]))\n",
    "        path_eq_vals = decreasing_order(sim_mat_tuple[1])\n",
    "        #print(path_eq_vals.shape)\n",
    "        path_eq_colors = ['tab:blue' if x >= 0 else 'tab:orange' for x in path_eq_vals]\n",
    "        axs[cell_i, 1].bar(np.arange(45), path_eq_vals, color=path_eq_colors)\n",
    "        axs[cell_i, 1].set_ylim(-1, 1)\n",
    "        axs[cell_i, 1].set_title('{0}'.format((path_eq_vals - np.mean(both_policies, axis=0)) @ V_T.T[:, 1]))\n",
    "        \n",
    "        ld_random_i = linearize_neighbor_trajectories(all_p_random[0], FREQUENCY, frequency_module_cell_num, environments[0])\n",
    "\n",
    "        for trajectory in neighbor_trajectories:\n",
    "\n",
    "            axs[cell_i, 2].plot(ld_random_i[trajectory], label='{0}'.format((trajectory[0]+1, trajectory[1]+1)))\n",
    "            axs[cell_i, 2].set_title('{0} cell_num: {1}.{2}; PC2_val: {3}'.format('random', FREQUENCY, frequency_module_cell_num, center_both_policies_projected_pc2[cell_idx]))\n",
    "            axs[cell_i, 2].legend(bbox_to_anchor=(1, 1))\n",
    "    \n",
    "# Second half\n",
    "\n",
    "fig, axs = plt.subplots(400, 3, figsize=(30, 800))\n",
    "\n",
    "for cell_i, cell_idx in enumerate(center_both_policies_projected_arg_sorted_pc2[400:]):\n",
    "    \n",
    "    if cell_idx < 400:\n",
    "        \n",
    "        FREQUENCY, frequency_module_cell_num = convert_cell_num(cell_idx)\n",
    "        sim_mat_tuple = plot_sim_mat(all_p_sweep[0], fig, axs, frequency=FREQUENCY, cell_num=frequency_module_cell_num, environment=environments[0], cell_i=cell_i, zero_trajectory_threshold=0)\n",
    "        \n",
    "        axs[cell_i, 0], min_max = sim_mat_tuple[0], (np.min(sim_mat_tuple[1]), np.max(sim_mat_tuple[1]))\n",
    "        path_eq_vals = decreasing_order(sim_mat_tuple[1])\n",
    "        #print(path_eq_vals.shape)\n",
    "        path_eq_colors = ['tab:blue' if x >= 0 else 'tab:orange' for x in path_eq_vals]\n",
    "        axs[cell_i, 1].bar(np.arange(45), path_eq_vals, color=path_eq_colors)\n",
    "        axs[cell_i, 1].set_ylim(-1, 1)\n",
    "        axs[cell_i, 1].set_title('{0}'.format((path_eq_vals - np.mean(both_policies, axis=0)) @ V_T.T[:, 1]))\n",
    "        \n",
    "        ld_sweep_i = linearize_neighbor_trajectories(all_p_sweep[0], FREQUENCY, frequency_module_cell_num, environments[0])\n",
    "\n",
    "        for trajectory in neighbor_trajectories:\n",
    "\n",
    "            axs[cell_i, 2].plot(ld_sweep_i[trajectory], label='{0}'.format((trajectory[0]+1, trajectory[1]+1)))\n",
    "            axs[cell_i, 2].set_title('{0} cell_num: {1}.{2}; PC2_val: {3}'.format('sweeping', FREQUENCY, frequency_module_cell_num, center_both_policies_projected_pc2[cell_idx]))\n",
    "            axs[cell_i, 2].legend(bbox_to_anchor=(1, 1))\n",
    "        \n",
    "    else:\n",
    "        \n",
    "        FREQUENCY, frequency_module_cell_num = convert_cell_num(cell_idx - 400)\n",
    "        sim_mat_tuple = plot_sim_mat(all_p_random[0], fig, axs, frequency=FREQUENCY, cell_num=frequency_module_cell_num, environment=environments[0], cell_i=cell_i, zero_trajectory_threshold=0)\n",
    "\n",
    "        axs[cell_i, 0], min_max = sim_mat_tuple[0], (np.min(sim_mat_tuple[1]), np.max(sim_mat_tuple[1]))\n",
    "        path_eq_vals = decreasing_order(sim_mat_tuple[1])\n",
    "        #print(path_eq_vals.shape)\n",
    "        path_eq_colors = ['tab:blue' if x >= 0 else 'tab:orange' for x in path_eq_vals]\n",
    "        axs[cell_i, 1].bar(np.arange(45), path_eq_vals, color=path_eq_colors)\n",
    "        axs[cell_i, 1].set_ylim(-1, 1)\n",
    "        axs[cell_i, 1].set_title('{0}'.format((path_eq_vals - np.mean(both_policies, axis=0)) @ V_T.T[:, 1]))\n",
    "        \n",
    "        ld_random_i = linearize_neighbor_trajectories(all_p_random[0], FREQUENCY, frequency_module_cell_num, environments[0])\n",
    "\n",
    "        for trajectory in neighbor_trajectories:\n",
    "\n",
    "            axs[cell_i, 2].plot(ld_random_i[trajectory], label='{0}'.format((trajectory[0]+1, trajectory[1]+1)))\n",
    "            axs[cell_i, 2].set_title('{0} cell_num: {1}.{2}; PC2_val: {3}'.format('random', FREQUENCY, frequency_module_cell_num, center_both_policies_projected_pc2[cell_idx]))\n",
    "            axs[cell_i, 2].legend(bbox_to_anchor=(1, 1))"
   ]
  },
  {
   "cell_type": "code",
   "execution_count": null,
   "id": "7d065f41-eaa1-4176-a198-8fdc14500c6a",
   "metadata": {},
   "outputs": [],
   "source": [
    "def get_sim_vec_order_by_sum_areas(p_env_nonnegative, frequency, cell_num, environment, cell_i=-1, zero_trajectory_threshold=0):\n",
    "    \n",
    "    normalized_overlap_dict = {}\n",
    "    trajectory_dict = analyse.make_trajectory_dict()\n",
    "    neighbor_trajectory_dict = make_neighbor_trajectory_dict(trajectory_dict)\n",
    "    \n",
    "    cell_ld = linearize_neighbor_trajectories(p_env_nonnegative, frequency, cell_num, environments[0])\n",
    "    trace_area_sum_list = []\n",
    "    normalized_overlap_values = []\n",
    "\n",
    "    for trajectory_i, trajectory_a in enumerate(list(trajectory_dict.keys())):\n",
    "        for trajectory_b in list(trajectory_dict.keys())[trajectory_i:]:\n",
    "            if (abs(trajectory_a[0] - trajectory_a[1]) == 1) and (abs(trajectory_b[0] - trajectory_b[1]) == 1) and (trajectory_a != trajectory_b):\n",
    "                trace_a = cell_ld[trajectory_a]\n",
    "                trace_b = cell_ld[trajectory_b]\n",
    "                \n",
    "                traj_a_state_seq = analyse.get_trajectory_states(trajectory_a, environment)\n",
    "                traj_b_state_seq = analyse.get_trajectory_states(trajectory_b, environment)\n",
    "                \n",
    "                unambiguous_trajectory_locations = traj_a_state_seq != traj_b_state_seq\n",
    "                \n",
    "                trace_area_sum_list.append(np.sum(np.abs(trace_a[unambiguous_trajectory_locations])) + np.sum(np.abs(trace_b[unambiguous_trajectory_locations])))\n",
    "                normalized_overlap_values.append(analyse.normalized_overlap_path_equivalence(trajectory_a, trajectory_b, trace_a, trace_b, environment, zero_trajectory_threshold))\n",
    "                #print('{0}, {1}'.format(trajectory_a, trajectory_b))\n",
    "    trace_area_sum_arr = np.array(trace_area_sum_list)\n",
    "    normalized_overlap_values = np.array(normalized_overlap_values)\n",
    "    idxs = np.argsort(trace_area_sum_arr)[::-1]\n",
    "    \n",
    "    # Return only the path eq vals, but sorted by the trace peak vals\n",
    "    \n",
    "    return normalized_overlap_values[idxs]\n"
   ]
  },
  {
   "cell_type": "code",
   "execution_count": null,
   "id": "7380a4d4-6be2-4b99-915f-e27850124fb9",
   "metadata": {},
   "outputs": [],
   "source": [
    "# Test get_sim_vec_order_by_sum_area"
   ]
  },
  {
   "cell_type": "code",
   "execution_count": null,
   "id": "bbb3d19f-2943-49ca-9f67-27f4047ade06",
   "metadata": {},
   "outputs": [],
   "source": [
    "get_sim_vec_order_by_sum_areas(all_p_sweep[0], 3, 27, environments[0]).shape#[:, 5:9]"
   ]
  },
  {
   "cell_type": "code",
   "execution_count": null,
   "id": "e0750515-aace-4fe2-a10e-46f472e35caf",
   "metadata": {},
   "outputs": [],
   "source": [
    "ZERO_TRAJECTORY_THRESHOLD = 0"
   ]
  },
  {
   "cell_type": "code",
   "execution_count": null,
   "id": "6580a371-8766-4940-b3a4-4b99a88eb501",
   "metadata": {},
   "outputs": [],
   "source": [
    "# Repeat PCA analysis by ordering based on sum of peak firings"
   ]
  },
  {
   "cell_type": "code",
   "execution_count": null,
   "id": "cdba08ba-4a82-48bd-bc97-02e3d266961d",
   "metadata": {},
   "outputs": [],
   "source": [
    "sweep_cell_vec_list_area_order = []\n",
    "\n",
    "for frequency in np.arange(5):\n",
    "    for cell_num in np.arange(all_p_sweep[0][frequency][0][0].shape[0]):\n",
    "        sweep_cell_vec_list_area_order.append(get_sim_vec_order_by_sum_areas(all_p_sweep[0], frequency=frequency, cell_num=cell_num, environment=environments[0], zero_trajectory_threshold=ZERO_TRAJECTORY_THRESHOLD))\n",
    "\n",
    "random_cell_vec_list_area_order = []\n",
    "\n",
    "for frequency in np.arange(5):\n",
    "    for cell_num in np.arange(all_p_random[0][frequency][0][0].shape[0]):\n",
    "        random_cell_vec_list_area_order.append(get_sim_vec_order_by_sum_areas(all_p_random[0], frequency=frequency, cell_num=cell_num, environment=environments[0], zero_trajectory_threshold=ZERO_TRAJECTORY_THRESHOLD))\n"
   ]
  },
  {
   "cell_type": "code",
   "execution_count": null,
   "id": "71aee74e-220e-4565-8eec-cc70096c3e70",
   "metadata": {},
   "outputs": [],
   "source": [
    "sweep_cell_vec_list_area_order[0]"
   ]
  },
  {
   "cell_type": "code",
   "execution_count": null,
   "id": "48d349e3-77cb-4c48-af5b-6c25ca6d3c3a",
   "metadata": {},
   "outputs": [],
   "source": [
    "sweep_cell_area_order_stack = sweep_cell_vec_list_area_order[0]\n",
    "for cell in sweep_cell_vec_list_area_order[1:]:\n",
    "    sweep_cell_area_order_stack = np.vstack([sweep_cell_area_order_stack, cell])\n",
    "\n",
    "random_cell_area_order_stack = random_cell_vec_list_area_order[0]\n",
    "for cell in random_cell_vec_list_area_order[1:]:\n",
    "    random_cell_area_order_stack = np.vstack([random_cell_area_order_stack, cell])\n",
    "\n",
    "print(sweep_cell_area_order_stack.shape)\n",
    "print(random_cell_area_order_stack.shape)"
   ]
  },
  {
   "cell_type": "code",
   "execution_count": null,
   "id": "d13fa939-f100-4aee-bccf-4236fd9ed20f",
   "metadata": {},
   "outputs": [],
   "source": [
    "sweep_cell_area_order_stack.shape"
   ]
  },
  {
   "cell_type": "code",
   "execution_count": null,
   "id": "0a3b01ba-9244-4b5d-a08a-37f92deb66d8",
   "metadata": {},
   "outputs": [],
   "source": [
    "random_cell_area_order_stack.shape"
   ]
  },
  {
   "cell_type": "code",
   "execution_count": null,
   "id": "9d575625-bd87-4838-9eac-d1e66c67157a",
   "metadata": {},
   "outputs": [],
   "source": [
    "both_policies_area_order = np.vstack([sweep_cell_area_order_stack, random_cell_area_order_stack])"
   ]
  },
  {
   "cell_type": "code",
   "execution_count": null,
   "id": "ad0a0438-e50c-417c-9895-ff4f82016bae",
   "metadata": {},
   "outputs": [],
   "source": [
    "both_policies_area_order.shape"
   ]
  },
  {
   "cell_type": "code",
   "execution_count": null,
   "id": "0e76552a-02e9-4bac-9351-5071b3d5a23f",
   "metadata": {},
   "outputs": [],
   "source": [
    "center_both_policies_area_order = both_policies_area_order - np.mean(both_policies_area_order, axis=0)"
   ]
  },
  {
   "cell_type": "code",
   "execution_count": null,
   "id": "6f3672a7-03d0-4ed2-9347-32a946780817",
   "metadata": {},
   "outputs": [],
   "source": [
    "print(center_both_policies_area_order.shape)"
   ]
  },
  {
   "cell_type": "code",
   "execution_count": null,
   "id": "01bbabba-6495-4966-89cc-372ee3e820b4",
   "metadata": {},
   "outputs": [],
   "source": [
    "fig, ax = plt.subplots()\n",
    "\n",
    "ax.scatter(center_both_policies_area_order[:, 0], center_both_policies_area_order[:, 1])\n",
    "ax.axvline(np.mean(center_both_policies_area_order[:, 0]))\n",
    "ax.axhline(np.mean(center_both_policies_area_order[:, 1]))"
   ]
  },
  {
   "cell_type": "code",
   "execution_count": null,
   "id": "b2bc6375-4b48-43b0-9abb-ab823de13b68",
   "metadata": {},
   "outputs": [],
   "source": [
    "U, Sigma, V_T = np.linalg.svd(center_both_policies_area_order)"
   ]
  },
  {
   "cell_type": "code",
   "execution_count": null,
   "id": "b6960902-e6fe-4d72-96d9-f0c933233aef",
   "metadata": {},
   "outputs": [],
   "source": [
    "print(U.shape)\n",
    "print(Sigma.shape)\n",
    "print(V_T.shape)"
   ]
  },
  {
   "cell_type": "code",
   "execution_count": null,
   "id": "5d1e2a15-161a-4e3c-b842-fb5f4004d39f",
   "metadata": {},
   "outputs": [],
   "source": [
    "eigs = Sigma**2\n",
    "eigs_frac = eigs / np.sum(eigs)"
   ]
  },
  {
   "cell_type": "code",
   "execution_count": null,
   "id": "d0c12320-2690-4229-a56b-338c1d6e986e",
   "metadata": {},
   "outputs": [],
   "source": [
    "fig, ax = plt.subplots()\n",
    "\n",
    "ax.bar(np.arange(eigs_frac[:10].shape[0]) + 1, eigs_frac[:10])\n",
    "ax.set_ylim(0, 1)\n",
    "ax.set_xlim(0, 11)\n",
    "xticks = ax.set_xticks(np.arange(0, 11))"
   ]
  },
  {
   "cell_type": "code",
   "execution_count": null,
   "id": "126953b5-fa59-4a9d-960c-30a53d61a266",
   "metadata": {},
   "outputs": [],
   "source": [
    "fig, ax = plt.subplots(figsize=(15, 8))\n",
    "\n",
    "ax.plot(V_T.T[:, 0])\n",
    "ax.plot(V_T.T[:, 1])\n",
    "ax.plot(V_T.T[:, 2])\n",
    "x_ticks = ax.set_xticks(np.arange(45))"
   ]
  },
  {
   "cell_type": "code",
   "execution_count": null,
   "id": "8c1ab9d5-a15e-4287-89b0-ea4292afb89b",
   "metadata": {},
   "outputs": [],
   "source": [
    "# Separate the vectors from the sweeping and random policies\n",
    "centered_sweep_vecs = center_both_policies_area_order[:400, :]\n",
    "centered_random_vecs = center_both_policies_area_order[400:, :]\n",
    "\n",
    "# Project onto principal directions\n",
    "projected_sweep_vecs = centered_sweep_vecs @ V_T.T\n",
    "projected_random_vecs = centered_random_vecs @ V_T.T\n",
    "\n",
    "# First two principal components\n",
    "projected_sweep_two = projected_sweep_vecs[:, :2]\n",
    "projected_random_two = projected_random_vecs[:, :2]\n",
    "print(projected_sweep_two.shape)\n",
    "print(projected_random_two.shape)"
   ]
  },
  {
   "cell_type": "code",
   "execution_count": null,
   "id": "e71e6da6-83ff-48bd-9bc4-85d38f99ccf9",
   "metadata": {},
   "outputs": [],
   "source": [
    "fig, ax = plt.subplots(figsize=(20, 15))\n",
    "\n",
    "ax.scatter(projected_sweep_two[:, 0], projected_sweep_two[:, 1], label='projected_sweep', s=120, alpha=0.5)\n",
    "ax.scatter(projected_random_two[:, 0], projected_random_two[:, 1], label='projected_random', s=120, alpha=0.5)\n",
    "\n",
    "sweep_centroid = np.mean(projected_sweep_two, axis=0)\n",
    "random_centroid = np.mean(projected_random_two, axis=0)\n",
    "ax.scatter(sweep_centroid[0], sweep_centroid[1], s=200, label='sweep_centroid')\n",
    "ax.scatter(random_centroid[0], random_centroid[1], s=200, label='random_centroid')\n",
    "ax.set_xlim(-2, 6)\n",
    "ax.set_ylim(-4, 4)\n",
    "#ax.axvline(1)\n",
    "#ax.axhline(-0.3)\n",
    "ax.legend()"
   ]
  },
  {
   "cell_type": "code",
   "execution_count": null,
   "id": "50908aa6-082f-4937-91cf-3fbb2edda721",
   "metadata": {},
   "outputs": [],
   "source": [
    "fig = plt.figure(figsize=(12, 12))\n",
    "ax = fig.add_subplot(projection='3d')\n",
    "#ax.view_init(30, -100)\n",
    "ax.scatter(projected_sweep_vecs[:, 0], projected_sweep_vecs[:, 1], projected_sweep_vecs[:, 2], alpha=0.5)\n",
    "ax.scatter(projected_random_vecs[:, 0], projected_random_vecs[:, 1], projected_random_vecs[:, 2], alpha=0.5)\n",
    "ax.set_xlabel('PC 1: {0}'.format(eigs_frac[0])[:11])\n",
    "ax.set_ylabel('PC 2: {0}'.format(eigs_frac[1])[:11])\n",
    "ax.set_zlabel('PC 3: {0}'.format(eigs_frac[2])[:11])\n",
    "\n",
    "plt.show()"
   ]
  },
  {
   "cell_type": "code",
   "execution_count": null,
   "id": "ce9292c8-312b-4b8e-a929-d463b3e69c2a",
   "metadata": {},
   "outputs": [],
   "source": [
    "area_order_total_variance = np.var(np.vstack([projected_sweep_two[:, 0], projected_random_two[:, 0]])) / eigs_frac[0]\n",
    "area_order_total_variance"
   ]
  },
  {
   "cell_type": "code",
   "execution_count": null,
   "id": "fd2fcf44-6c28-49dd-949e-845b64bb898a",
   "metadata": {},
   "outputs": [],
   "source": [
    "decreasing_total_variance"
   ]
  },
  {
   "cell_type": "code",
   "execution_count": null,
   "id": "79bdc1a4-f0a5-4252-aaca-ae51db68d4c9",
   "metadata": {},
   "outputs": [],
   "source": [
    "eigs_frac_decreasing = 0.8233347504225715"
   ]
  },
  {
   "cell_type": "code",
   "execution_count": null,
   "id": "71435034-589e-4b4a-b57f-f9bdfe455612",
   "metadata": {},
   "outputs": [],
   "source": [
    "eigs_frac_area_order = eigs_frac[0]"
   ]
  },
  {
   "cell_type": "code",
   "execution_count": null,
   "id": "e7e539fc-813a-43e2-be02-30f9f7200fe8",
   "metadata": {},
   "outputs": [],
   "source": [
    "pc1_var_decreasing = eigs_frac_decreasing * decreasing_total_variance"
   ]
  },
  {
   "cell_type": "code",
   "execution_count": null,
   "id": "6faba368-f429-4c2c-9236-ea049489f39d",
   "metadata": {},
   "outputs": [],
   "source": [
    "pc1_var_area_order = eigs_frac_area_order * area_order_total_variance"
   ]
  },
  {
   "cell_type": "code",
   "execution_count": null,
   "id": "333e1da7-240e-468f-8a9f-e1397b2d9dc6",
   "metadata": {},
   "outputs": [],
   "source": [
    "eigs_frac[0] * area_order_total_variance"
   ]
  },
  {
   "cell_type": "code",
   "execution_count": null,
   "id": "42a6f4a0-d724-4f39-a6c9-495bc9afe42a",
   "metadata": {},
   "outputs": [],
   "source": [
    "eigs_frac[0]"
   ]
  },
  {
   "cell_type": "code",
   "execution_count": null,
   "id": "c27d93e7-ce29-44ef-b0a6-fad0c27fff77",
   "metadata": {},
   "outputs": [],
   "source": [
    "print('pc1_var_decreasing: {0}'.format(pc1_var_decreasing))\n",
    "print('pc1_var_area_order: {0}'.format(pc1_var_area_order))"
   ]
  },
  {
   "cell_type": "code",
   "execution_count": null,
   "id": "6f7eb812-336e-4a38-b38e-1809cdb96d58",
   "metadata": {},
   "outputs": [],
   "source": [
    "np.var(np.vstack([projected_sweep_two[:, 0], projected_random_two[:, 0]]))"
   ]
  },
  {
   "cell_type": "code",
   "execution_count": null,
   "id": "b370c8a8-302e-434c-b38f-48d37ef4d2b8",
   "metadata": {},
   "outputs": [],
   "source": [
    "import seaborn as sns\n",
    "sns.distplot(projected_sweep_two[:, 0], bins=np.linspace(np.min(np.hstack([projected_sweep_two[:, 0], projected_random_two[:, 0]])), np.max(np.hstack([projected_sweep_two[:, 0], projected_random_two[:, 0]])), 15))\n",
    "sns.distplot(projected_random_two[:, 0], bins=np.linspace(np.min(np.hstack([projected_sweep_two[:, 0], projected_random_two[:, 0]])), np.max(np.hstack([projected_sweep_two[:, 0], projected_random_two[:, 0]])), 15))"
   ]
  },
  {
   "cell_type": "code",
   "execution_count": null,
   "id": "8f8c64c3-1fd6-474c-97a8-4d1af77a7963",
   "metadata": {},
   "outputs": [],
   "source": [
    "sns.distplot(projected_sweep_two[:, 1], bins=np.linspace(np.min(np.hstack([projected_sweep_two[:, 1], projected_random_two[:, 1]])), np.max(np.hstack([projected_sweep_two[:, 1], projected_random_two[:, 1]])), 15))\n",
    "sns.distplot(projected_random_two[:, 1], bins=np.linspace(np.min(np.hstack([projected_sweep_two[:, 1], projected_random_two[:, 1]])), np.max(np.hstack([projected_sweep_two[:, 1], projected_random_two[:, 1]])), 15))"
   ]
  },
  {
   "cell_type": "code",
   "execution_count": null,
   "id": "ef00a8e0-a6eb-4792-a0a1-71c821350960",
   "metadata": {},
   "outputs": [],
   "source": [
    "np.var(np.hstack([projected_sweep_two[:, 0], projected_random_two[:, 0]]))"
   ]
  },
  {
   "cell_type": "code",
   "execution_count": null,
   "id": "e6a99404-d3e5-46a8-8570-85aa2d3dca37",
   "metadata": {},
   "outputs": [],
   "source": [
    "fig, axs = plt.subplots(2, figsize=(15, 10))\n",
    "sweep_hist = axs[0].hist(projected_sweep_two[:, 0], bins=np.linspace(np.min(np.hstack([projected_sweep_two[:, 0], projected_random_two[:, 0]])), np.max(np.hstack([projected_sweep_two[:, 0], projected_random_two[:, 0]])), 20), label='projected_sweep', alpha=0.8)#, histtype='step', cumulative=True, density=True, color='tab:blue')\n",
    "random_arm_hist = axs[0].hist(projected_random_two[:, 0], bins=np.linspace(np.min(np.hstack([projected_sweep_two[:, 0], projected_random_two[:, 0]])), np.max(np.hstack([projected_sweep_two[:, 0], projected_random_two[:, 0]])), 20), label='projected_random', alpha=0.8)#, histtype='step', cumulative=True, density=True, color='tab:orange')\n",
    "axs[0].set_xlim(np.min(np.hstack([projected_sweep_two[:, 0], projected_random_two[:, 0]])), np.max(np.hstack([projected_sweep_two[:, 0], projected_random_two[:, 0]])))\n",
    "axs[0].set_title('PC 1')\n",
    "\n",
    "sweep_hist = axs[1].hist(projected_sweep_two[:, 1], bins=np.linspace(np.min(np.hstack([projected_sweep_two[:, 1], projected_random_two[:, 1]])), np.max(np.hstack([projected_sweep_two[:, 1], projected_random_two[:, 1]])), 20), label='projected_sweep', alpha=0.8)#, histtype='step', cumulative=True, density=True, color='tab:blue')\n",
    "random_arm_hist = axs[1].hist(projected_random_two[:, 1], bins=np.linspace(np.min(np.hstack([projected_sweep_two[:, 1], projected_random_two[:, 1]])), np.max(np.hstack([projected_sweep_two[:, 1], projected_random_two[:, 1]])), 20), label='projected_random', alpha=0.8)#, histtype='step', cumulative=True, density=True, color='tab:orange')\n",
    "axs[1].set_xlim(np.min(np.hstack([projected_sweep_two[:, 1], projected_random_two[:, 1]])), np.max(np.hstack([projected_sweep_two[:, 1], projected_random_two[:, 1]])))\n",
    "axs[1].set_title('PC 2')\n"
   ]
  },
  {
   "cell_type": "code",
   "execution_count": null,
   "id": "97cbcd22-0dd2-47d4-a224-0a3f55b59a37",
   "metadata": {},
   "outputs": [],
   "source": [
    "fig, ax = plt.subplots(figsize=(20, 10))\n",
    "\n",
    "ax.hist(projected_sweep_two[:, 0], bins=np.linspace(np.min(projected_sweep_two[:, 0]), np.max(projected_sweep_two[:, 0]), 1000), label='projected_sweep', histtype='step', cumulative=True, density=True, color='tab:blue')\n",
    "ax.hist(projected_random_two[:, 0], bins=np.linspace(np.min(projected_sweep_two[:, 0]), np.max(projected_sweep_two[:, 0]), 1000), label='projected_random', histtype='step', cumulative=True, density=True, color='tab:orange')\n",
    "#ax.set_xticks(np.linspace(np.min(projected_sweep_two), np.max(projected_sweep_two),  21))\n",
    "ax.set_xlim(np.min(projected_sweep_two[:, 0]), np.max(projected_sweep_two[:, 0]))\n",
    "sweep_mean = np.mean(projected_sweep_two[:, 0])#, axis=0)\n",
    "random_mean = np.mean(projected_random_two[:, 0])#, axis=0)\n",
    "#ax.axvline(sweep_mean, label='sweep_mean', color='tab:blue')\n",
    "#ax.axvline(random_mean, label='random_mean', color='tab:orange')\n",
    "#ax.axvline(0.22)\n",
    "#ax.axvline(0.26)\n",
    "ax.legend(bbox_to_anchor=(1, 1.1))"
   ]
  },
  {
   "cell_type": "code",
   "execution_count": null,
   "id": "ab9550c9-2c54-4b96-856d-193f6dd97de4",
   "metadata": {},
   "outputs": [],
   "source": [
    "np.max(projected_random_two[:, 1])"
   ]
  },
  {
   "cell_type": "code",
   "execution_count": null,
   "id": "bda15ddb-1184-4856-b395-44292d1f1e0f",
   "metadata": {},
   "outputs": [],
   "source": [
    "fig, ax = plt.subplots(figsize=(20, 10))\n",
    "\n",
    "ax.hist(projected_sweep_two[:, 1], bins=np.linspace(np.min(projected_sweep_two[:, 1]), np.max(projected_sweep_two[:, 1]), 1000), label='projected_sweep', histtype='step', cumulative=True, density=True, color='tab:blue')\n",
    "ax.hist(projected_random_two[:, 1], bins=np.linspace(np.min(projected_sweep_two[:, 1]), np.max(projected_sweep_two[:, 1]), 1000), label='projected_random', histtype='step', cumulative=True, density=True, color='tab:orange')\n",
    "#ax.set_xticks(np.linspace(np.min(projected_sweep_two), np.max(projected_sweep_two),  21))\n",
    "ax.set_xlim(np.min(projected_sweep_two[:, 1]), np.max(projected_sweep_two[:, 1]))\n",
    "sweep_mean = np.mean(projected_sweep_two[:, 1])#, axis=0)\n",
    "random_mean = np.mean(projected_random_two[:, 1])#, axis=0)\n",
    "#ax.axvline(sweep_mean, label='sweep_mean', color='tab:blue')\n",
    "#ax.axvline(random_mean, label='random_mean', color='tab:orange')\n",
    "#ax.axvline(-0.13, color='tab:green')\n",
    "#ax.axhline(-0.3)\n",
    "ax.legend(bbox_to_anchor=(1, 1.1))"
   ]
  },
  {
   "cell_type": "code",
   "execution_count": null,
   "id": "5d814b65-1d43-4729-921c-154426f5b139",
   "metadata": {},
   "outputs": [],
   "source": [
    "### np.count_nonzero(np.logical_and((projected_sweep_two[:, 0] >= 1), (projected_sweep_two[:, 1] <= -0.3)))\n"
   ]
  },
  {
   "cell_type": "code",
   "execution_count": null,
   "id": "ca527d33-5458-40fc-a332-73aca7d2e240",
   "metadata": {},
   "outputs": [],
   "source": [
    "np.count_nonzero(np.logical_and((projected_random_two[:, 0] >= 1), (projected_random_two[:, 1] <= -0.3)))\n"
   ]
  },
  {
   "cell_type": "code",
   "execution_count": null,
   "id": "8beec8ff-5bb0-4d30-8e21-79ecaad448f4",
   "metadata": {},
   "outputs": [],
   "source": [
    "len(all_p_sweep[0][0][0][0])"
   ]
  },
  {
   "cell_type": "code",
   "execution_count": null,
   "id": "dd6c2b3c-24f6-46e8-a763-1d1c9a713376",
   "metadata": {},
   "outputs": [],
   "source": [
    "x = np.sort(projected_random_two[:, 0])[18]\n",
    "x"
   ]
  },
  {
   "cell_type": "code",
   "execution_count": null,
   "id": "392653d8-0722-4278-9f25-f424e32dd4e5",
   "metadata": {},
   "outputs": [],
   "source": [
    "np.argwhere(projected_random_two[:, 0] == x)[:, 0]"
   ]
  },
  {
   "cell_type": "code",
   "execution_count": null,
   "id": "4c5ad890-cfc6-4be8-b1e4-3fb018f108e2",
   "metadata": {},
   "outputs": [],
   "source": [
    "projected_random_two.shape"
   ]
  },
  {
   "cell_type": "code",
   "execution_count": null,
   "id": "85cc3a19-fd38-4e96-8c06-e050afb275c5",
   "metadata": {
    "tags": []
   },
   "outputs": [],
   "source": [
    "# Order the cells in terms of PC1 score. Consider cells from both policies\n",
    "\n",
    "increasing_pc1_lst = []\n",
    "\n",
    "center_both_policies_projected = np.hstack([projected_sweep_two[:, 0], projected_random_two[:, 0]])\n",
    "center_both_policies_projected_arg_sorted = np.argsort(center_both_policies_projected)\n",
    "\n",
    "# Plot cells in increasing order - cells with idx >= 400 are the second policy (random) - keep track of this in order to use the correct numbering system for plotting\n",
    "\n",
    "fig, axs = plt.subplots(400, 3, figsize=(30, 850))\n",
    "\n",
    "# First half\n",
    "\n",
    "for cell_i, cell_idx in enumerate(center_both_policies_projected_arg_sorted[:400]):\n",
    "    \n",
    "    if cell_idx < 400:\n",
    "        \n",
    "        FREQUENCY, frequency_module_cell_num = convert_cell_num(cell_idx)\n",
    "        #print('{0}.{1}'.format(FREQUENCY, frequency_module_cell_num))\n",
    "        sim_mat_tuple = plot_sim_mat(all_p_sweep[0], fig, axs, frequency=FREQUENCY, cell_num=frequency_module_cell_num, environment=environments[0], cell_i=cell_i, zero_trajectory_threshold=0)\n",
    "        \n",
    "        axs[cell_i, 0], min_max = sim_mat_tuple[0], (np.min(sim_mat_tuple[1]), np.max(sim_mat_tuple[1]))\n",
    "        path_eq_vals = get_sim_vec_order_by_sum_areas(all_p_sweep[0], FREQUENCY, frequency_module_cell_num, environment=environments[0], zero_trajectory_threshold=ZERO_TRAJECTORY_THRESHOLD)\n",
    "        #print(path_eq_vals.shape)\n",
    "        #path_eq_colors = ['tab:blue' if x >= 0 else 'tab:orange' for x in path_eq_vals]\n",
    "        axs[cell_i, 1].bar(np.arange(45), path_eq_vals)\n",
    "        axs[cell_i, 1].set_ylim(-1, 1)\n",
    "        axs[cell_i, 1].set_title('{0}'.format(np.sum(path_eq_vals)))\n",
    "        #axs[cell_i, 1].set_title('{0}'.format((path_eq_vals - np.mean(both_policies_area_order, axis=0)) @ V_T.T[:, 0]))\n",
    "        \n",
    "        # Add this cell and its pc1 value to a list\n",
    "        increasing_pc1_lst.append(('sweep', '{0}.{1}'.format(FREQUENCY, frequency_module_cell_num), center_both_policies_projected[cell_idx]))\n",
    "        \n",
    "        ld_sweep_i = linearize_neighbor_trajectories(all_p_sweep[0], FREQUENCY, frequency_module_cell_num, environments[0])\n",
    "\n",
    "        for trajectory in neighbor_trajectories:\n",
    "\n",
    "            axs[cell_i, 2].plot(ld_sweep_i[trajectory], label='{0}'.format((trajectory[0]+1, trajectory[1]+1)))\n",
    "            axs[cell_i, 2].set_title('{0} cell_num: {1}.{2}; PC1_val: {3}'.format('sweeping', FREQUENCY, frequency_module_cell_num, center_both_policies_projected[cell_idx]))\n",
    "            axs[cell_i, 2].legend(bbox_to_anchor=(1, 1))\n",
    "        \n",
    "    else:\n",
    "        \n",
    "        FREQUENCY, frequency_module_cell_num = convert_cell_num(cell_idx - 400)\n",
    "        #print('{0}.{1}'.format(FREQUENCY, frequency_module_cell_num))\n",
    "        sim_mat_tuple = plot_sim_mat(all_p_random[0], fig, axs, frequency=FREQUENCY, cell_num=frequency_module_cell_num, environment=environments[0], cell_i=cell_i, zero_trajectory_threshold=0)\n",
    "        \n",
    "        axs[cell_i, 0], min_max = sim_mat_tuple[0], (np.min(sim_mat_tuple[1]), np.max(sim_mat_tuple[1]))\n",
    "        path_eq_vals = get_sim_vec_order_by_sum_areas(all_p_random[0], FREQUENCY, frequency_module_cell_num, environment=environments[0], zero_trajectory_threshold=ZERO_TRAJECTORY_THRESHOLD)\n",
    "        #print(path_eq_vals.shape)\n",
    "        #path_eq_colors = ['tab:blue' if x >= 0 else 'tab:orange' for x in path_eq_vals]\n",
    "        axs[cell_i, 1].bar(np.arange(45), path_eq_vals)\n",
    "        axs[cell_i, 1].set_ylim(-1, 1)\n",
    "        axs[cell_i, 1].set_title('{0}'.format(np.sum(path_eq_vals)))\n",
    "        #axs[cell_i, 1].set_title('{0}'.format((path_eq_vals - np.mean(both_policies_area_order, axis=0)) @ V_T.T[:, 0]))\n",
    "        \n",
    "        # Add this cell and its pc1 value to a list\n",
    "        increasing_pc1_lst.append(('random', '{0}.{1}'.format(FREQUENCY, frequency_module_cell_num), center_both_policies_projected[cell_idx]))\n",
    "        \n",
    "        ld_random_i = linearize_neighbor_trajectories(all_p_random[0], FREQUENCY, frequency_module_cell_num, environments[0])\n",
    "\n",
    "        for trajectory in neighbor_trajectories:\n",
    "\n",
    "            axs[cell_i, 2].plot(ld_random_i[trajectory], label='{0}'.format((trajectory[0]+1, trajectory[1]+1)))\n",
    "            axs[cell_i, 2].set_title('{0} cell_num: {1}.{2}; PC1_val: {3}'.format('random', FREQUENCY, frequency_module_cell_num, center_both_policies_projected[cell_idx]))\n",
    "            axs[cell_i, 2].legend(bbox_to_anchor=(1, 1))\n",
    "            \n",
    "    #print('{0}.{1}'.format(FREQUENCY, cell_i))\n",
    "          \n",
    "# Second half\n",
    "\n",
    "fig, axs = plt.subplots(400, 3, figsize=(30, 850))\n",
    "\n",
    "for cell_i, cell_idx in enumerate(center_both_policies_projected_arg_sorted[400:]):\n",
    "    \n",
    "    if cell_idx < 400:\n",
    "        \n",
    "        FREQUENCY, frequency_module_cell_num = convert_cell_num(cell_idx)\n",
    "        #print('{0}.{1}'.format(FREQUENCY, frequency_module_cell_num))\n",
    "        sim_mat_tuple = plot_sim_mat(all_p_sweep[0], fig, axs, frequency=FREQUENCY, cell_num=frequency_module_cell_num, environment=environments[0], cell_i=cell_i, zero_trajectory_threshold=0)\n",
    "        \n",
    "        axs[cell_i, 0], min_max = sim_mat_tuple[0], (np.min(sim_mat_tuple[1]), np.max(sim_mat_tuple[1]))\n",
    "        path_eq_vals = get_sim_vec_order_by_sum_areas(all_p_sweep[0], FREQUENCY, frequency_module_cell_num, environment=environments[0], zero_trajectory_threshold=ZERO_TRAJECTORY_THRESHOLD)\n",
    "        #print(path_eq_vals.shape)\n",
    "        #path_eq_colors = ['tab:blue' if x >= 0 else 'tab:orange' for x in path_eq_vals]\n",
    "        axs[cell_i, 1].bar(np.arange(45), path_eq_vals)\n",
    "        axs[cell_i, 1].set_ylim(-1, 1)\n",
    "        axs[cell_i, 1].set_title('{0}'.format(np.sum(path_eq_vals)))\n",
    "        #axs[cell_i, 1].set_title('{0}'.format((path_eq_vals - np.mean(both_policies_area_order, axis=0)) @ V_T.T[:, 0]))\n",
    "        \n",
    "        # Add this cell and its pc1 value to a list\n",
    "        increasing_pc1_lst.append(('sweep', '{0}.{1}'.format(FREQUENCY, frequency_module_cell_num), center_both_policies_projected[cell_idx]))\n",
    "        \n",
    "        ld_sweep_i = linearize_neighbor_trajectories(all_p_sweep[0], FREQUENCY, frequency_module_cell_num, environments[0])\n",
    "\n",
    "        for trajectory in neighbor_trajectories:\n",
    "\n",
    "            axs[cell_i, 2].plot(ld_sweep_i[trajectory], label='{0}'.format((trajectory[0]+1, trajectory[1]+1)))\n",
    "            axs[cell_i, 2].set_title('{0} cell_num: {1}.{2}; PC1_val: {3}'.format('sweeping', FREQUENCY, frequency_module_cell_num, center_both_policies_projected[cell_idx]))\n",
    "            axs[cell_i, 2].legend(bbox_to_anchor=(1, 1))\n",
    "        \n",
    "    else:\n",
    "        \n",
    "        FREQUENCY, frequency_module_cell_num = convert_cell_num(cell_idx - 400)\n",
    "        #print('{0}.{1}'.format(FREQUENCY, frequency_module_cell_num))\n",
    "        sim_mat_tuple = plot_sim_mat(all_p_random[0], fig, axs, frequency=FREQUENCY, cell_num=frequency_module_cell_num, environment=environments[0], cell_i=cell_i, zero_trajectory_threshold=0)\n",
    "\n",
    "        axs[cell_i, 0], min_max = sim_mat_tuple[0], (np.min(sim_mat_tuple[1]), np.max(sim_mat_tuple[1]))\n",
    "        path_eq_vals = get_sim_vec_order_by_sum_areas(all_p_random[0], FREQUENCY, frequency_module_cell_num,environment=environments[0], zero_trajectory_threshold=ZERO_TRAJECTORY_THRESHOLD)\n",
    "        #print(path_eq_vals.shape)\n",
    "        #path_eq_colors = ['tab:blue' if x >= 0 else 'tab:orange' for x in path_eq_vals]\n",
    "        axs[cell_i, 1].bar(np.arange(45), path_eq_vals)\n",
    "        axs[cell_i, 1].set_ylim(-1, 1)\n",
    "        axs[cell_i, 1].set_title('{0}'.format(np.sum(path_eq_vals)))\n",
    "        #axs[cell_i, 1].set_title('{0}'.format((path_eq_vals - np.mean(both_policies_area_order, axis=0)) @ V_T.T[:, 0]))\n",
    "        \n",
    "        # Add this cell and its pc1 value to a list\n",
    "        increasing_pc1_lst.append(('random', '{0}.{1}'.format(FREQUENCY, frequency_module_cell_num), center_both_policies_projected[cell_idx]))\n",
    "        \n",
    "        ld_random_i = linearize_neighbor_trajectories(all_p_random[0], FREQUENCY, frequency_module_cell_num, environments[0])\n",
    "\n",
    "        for trajectory in neighbor_trajectories:\n",
    "\n",
    "            axs[cell_i, 2].plot(ld_random_i[trajectory], label='{0}'.format((trajectory[0]+1, trajectory[1]+1)))\n",
    "            axs[cell_i, 2].set_title('{0} cell_num: {1}.{2}; PC1_val: {3}'.format('random', FREQUENCY, frequency_module_cell_num, center_both_policies_projected[cell_idx]))\n",
    "            axs[cell_i, 2].legend(bbox_to_anchor=(1, 1))\n",
    "            \n"
   ]
  },
  {
   "cell_type": "code",
   "execution_count": null,
   "id": "9346c8d8-dab5-42b6-8f66-013f5af33e94",
   "metadata": {},
   "outputs": [],
   "source": [
    "increasing_pc1_lst[-60:]"
   ]
  },
  {
   "cell_type": "code",
   "execution_count": null,
   "id": "ec3732fa-ea0f-4948-9df5-bc9c8f294084",
   "metadata": {
    "tags": []
   },
   "outputs": [],
   "source": [
    "# Order the cells in terms of PC1 score. Consider cells from both policies\n",
    "\n",
    "increasing_pc2_lst = []\n",
    "\n",
    "center_both_policies_projected_pc2 = np.hstack([projected_sweep_two[:, 1], projected_random_two[:, 1]])\n",
    "center_both_policies_projected_arg_sorted_pc2 = np.argsort(center_both_policies_projected_pc2)\n",
    "\n",
    "# Plot cells in increasing order - cells with idx >= 400 are the second policy (random) - keep track of this in order to use the correct numbering system for plotting\n",
    "\n",
    "fig, axs = plt.subplots(400, 3, figsize=(30, 850))\n",
    "\n",
    "# First half\n",
    "\n",
    "for cell_i, cell_idx in enumerate(center_both_policies_projected_arg_sorted_pc2[:400]):\n",
    "    \n",
    "    if cell_idx < 400:\n",
    "        \n",
    "        FREQUENCY, frequency_module_cell_num = convert_cell_num(cell_idx)\n",
    "        #print('{0}.{1}'.format(FREQUENCY, frequency_module_cell_num))\n",
    "        sim_mat_tuple = plot_sim_mat(all_p_sweep[0], fig, axs, frequency=FREQUENCY, cell_num=frequency_module_cell_num, environment=environments[0], cell_i=cell_i, zero_trajectory_threshold=0)\n",
    "        \n",
    "        axs[cell_i, 0], min_max = sim_mat_tuple[0], (np.min(sim_mat_tuple[1]), np.max(sim_mat_tuple[1]))\n",
    "        path_eq_vals = get_sim_vec_order_by_sum_areas(all_p_sweep[0], FREQUENCY, frequency_module_cell_num, environment=environments[0], zero_trajectory_threshold=ZERO_TRAJECTORY_THRESHOLD)\n",
    "        #print(path_eq_vals.shape)\n",
    "        #path_eq_colors = ['tab:blue' if x >= 0 else 'tab:orange' for x in path_eq_vals]\n",
    "        axs[cell_i, 1].bar(np.arange(45), path_eq_vals)\n",
    "        axs[cell_i, 1].set_ylim(-1, 1)\n",
    "        axs[cell_i, 1].set_title('{0}'.format(np.sum(path_eq_vals)))\n",
    "        #axs[cell_i, 1].set_title('{0}'.format((path_eq_vals - np.mean(both_policies_area_order, axis=0)) @ V_T.T[:, 0]))\n",
    "        \n",
    "        # Add this cell and its pc1 value to a list\n",
    "        increasing_pc2_lst.append(('sweep', '{0}.{1}'.format(FREQUENCY, frequency_module_cell_num), center_both_policies_projected_pc2[cell_idx]))\n",
    "        \n",
    "        ld_sweep_i = linearize_neighbor_trajectories(all_p_sweep[0], FREQUENCY, frequency_module_cell_num, environments[0])\n",
    "\n",
    "        for trajectory in neighbor_trajectories:\n",
    "\n",
    "            axs[cell_i, 2].plot(ld_sweep_i[trajectory], label='{0}'.format((trajectory[0]+1, trajectory[1]+1)))\n",
    "            axs[cell_i, 2].set_title('{0} cell_num: {1}.{2}; PC2_val: {3}'.format('sweeping', FREQUENCY, frequency_module_cell_num, center_both_policies_projected_pc2[cell_idx]))\n",
    "            axs[cell_i, 2].legend(bbox_to_anchor=(1, 1))\n",
    "        \n",
    "    else:\n",
    "        \n",
    "        FREQUENCY, frequency_module_cell_num = convert_cell_num(cell_idx - 400)\n",
    "        #print('{0}.{1}'.format(FREQUENCY, frequency_module_cell_num))\n",
    "        sim_mat_tuple = plot_sim_mat(all_p_random[0], fig, axs, frequency=FREQUENCY, cell_num=frequency_module_cell_num, environment=environments[0], cell_i=cell_i, zero_trajectory_threshold=0)\n",
    "        \n",
    "        axs[cell_i, 0], min_max = sim_mat_tuple[0], (np.min(sim_mat_tuple[1]), np.max(sim_mat_tuple[1]))\n",
    "        path_eq_vals = get_sim_vec_order_by_sum_areas(all_p_random[0], FREQUENCY, frequency_module_cell_num, environment=environments[0], zero_trajectory_threshold=ZERO_TRAJECTORY_THRESHOLD)\n",
    "        #print(path_eq_vals.shape)\n",
    "        #path_eq_colors = ['tab:blue' if x >= 0 else 'tab:orange' for x in path_eq_vals]\n",
    "        axs[cell_i, 1].bar(np.arange(45), path_eq_vals)\n",
    "        axs[cell_i, 1].set_ylim(-1, 1)\n",
    "        axs[cell_i, 1].set_title('{0}'.format(np.sum(path_eq_vals)))\n",
    "        #axs[cell_i, 1].set_title('{0}'.format((path_eq_vals - np.mean(both_policies_area_order, axis=0)) @ V_T.T[:, 0]))\n",
    "        \n",
    "        # Add this cell and its pc1 value to a list\n",
    "        increasing_pc2_lst.append(('random', '{0}.{1}'.format(FREQUENCY, frequency_module_cell_num), center_both_policies_projected_pc2[cell_idx]))\n",
    "        \n",
    "        ld_random_i = linearize_neighbor_trajectories(all_p_random[0], FREQUENCY, frequency_module_cell_num, environments[0])\n",
    "\n",
    "        for trajectory in neighbor_trajectories:\n",
    "\n",
    "            axs[cell_i, 2].plot(ld_random_i[trajectory], label='{0}'.format((trajectory[0]+1, trajectory[1]+1)))\n",
    "            axs[cell_i, 2].set_title('{0} cell_num: {1}.{2}; PC2_val: {3}'.format('random', FREQUENCY, frequency_module_cell_num, center_both_policies_projected_pc2[cell_idx]))\n",
    "            axs[cell_i, 2].legend(bbox_to_anchor=(1, 1))\n",
    "            \n",
    "    #print('{0}.{1}'.format(FREQUENCY, cell_i))\n",
    "          \n",
    "# Second half\n",
    "\n",
    "fig, axs = plt.subplots(400, 3, figsize=(30, 850))\n",
    "\n",
    "for cell_i, cell_idx in enumerate(center_both_policies_projected_arg_sorted_pc2[400:]):\n",
    "    \n",
    "    if cell_idx < 400:\n",
    "        \n",
    "        FREQUENCY, frequency_module_cell_num = convert_cell_num(cell_idx)\n",
    "        #print('{0}.{1}'.format(FREQUENCY, frequency_module_cell_num))\n",
    "        sim_mat_tuple = plot_sim_mat(all_p_sweep[0], fig, axs, frequency=FREQUENCY, cell_num=frequency_module_cell_num, environment=environments[0], cell_i=cell_i, zero_trajectory_threshold=0)\n",
    "        \n",
    "        axs[cell_i, 0], min_max = sim_mat_tuple[0], (np.min(sim_mat_tuple[1]), np.max(sim_mat_tuple[1]))\n",
    "        path_eq_vals = get_sim_vec_order_by_sum_areas(all_p_sweep[0], FREQUENCY, frequency_module_cell_num, environment=environments[0], zero_trajectory_threshold=ZERO_TRAJECTORY_THRESHOLD)\n",
    "        #print(path_eq_vals.shape)\n",
    "        #path_eq_colors = ['tab:blue' if x >= 0 else 'tab:orange' for x in path_eq_vals]\n",
    "        axs[cell_i, 1].bar(np.arange(45), path_eq_vals)\n",
    "        axs[cell_i, 1].set_ylim(-1, 1)\n",
    "        axs[cell_i, 1].set_title('{0}'.format(np.sum(path_eq_vals)))\n",
    "        #axs[cell_i, 1].set_title('{0}'.format((path_eq_vals - np.mean(both_policies_area_order, axis=0)) @ V_T.T[:, 0]))\n",
    "        \n",
    "        # Add this cell and its pc1 value to a list\n",
    "        increasing_pc2_lst.append(('sweep', '{0}.{1}'.format(FREQUENCY, frequency_module_cell_num), center_both_policies_projected_pc2[cell_idx]))\n",
    "        \n",
    "        ld_sweep_i = linearize_neighbor_trajectories(all_p_sweep[0], FREQUENCY, frequency_module_cell_num, environments[0])\n",
    "\n",
    "        for trajectory in neighbor_trajectories:\n",
    "\n",
    "            axs[cell_i, 2].plot(ld_sweep_i[trajectory], label='{0}'.format((trajectory[0]+1, trajectory[1]+1)))\n",
    "            axs[cell_i, 2].set_title('{0} cell_num: {1}.{2}; PC2_val: {3}'.format('sweeping', FREQUENCY, frequency_module_cell_num, center_both_policies_projected_pc2[cell_idx]))\n",
    "            axs[cell_i, 2].legend(bbox_to_anchor=(1, 1))\n",
    "        \n",
    "    else:\n",
    "        \n",
    "        FREQUENCY, frequency_module_cell_num = convert_cell_num(cell_idx - 400)\n",
    "        #print('{0}.{1}'.format(FREQUENCY, frequency_module_cell_num))\n",
    "        sim_mat_tuple = plot_sim_mat(all_p_random[0], fig, axs, frequency=FREQUENCY, cell_num=frequency_module_cell_num, environment=environments[0], cell_i=cell_i, zero_trajectory_threshold=0)\n",
    "\n",
    "        axs[cell_i, 0], min_max = sim_mat_tuple[0], (np.min(sim_mat_tuple[1]), np.max(sim_mat_tuple[1]))\n",
    "        path_eq_vals = get_sim_vec_order_by_sum_areas(all_p_random[0], FREQUENCY, frequency_module_cell_num, environment=environments[0], zero_trajectory_threshold=ZERO_TRAJECTORY_THRESHOLD)\n",
    "        #print(path_eq_vals.shape)\n",
    "        #path_eq_colors = ['tab:blue' if x >= 0 else 'tab:orange' for x in path_eq_vals]\n",
    "        axs[cell_i, 1].bar(np.arange(45), path_eq_vals)\n",
    "        axs[cell_i, 1].set_ylim(-1, 1)\n",
    "        axs[cell_i, 1].set_title('{0}'.format(np.sum(path_eq_vals)))\n",
    "        #axs[cell_i, 1].set_title('{0}'.format((path_eq_vals - np.mean(both_policies_area_order, axis=0)) @ V_T.T[:, 0]))\n",
    "\n",
    "        # Add this cell and its pc1 value to a list\n",
    "        increasing_pc2_lst.append(('random', '{0}.{1}'.format(FREQUENCY, frequency_module_cell_num), center_both_policies_projected_pc2[cell_idx]))\n",
    "        \n",
    "        ld_random_i = linearize_neighbor_trajectories(all_p_random[0], FREQUENCY, frequency_module_cell_num, environments[0])\n",
    "\n",
    "        for trajectory in neighbor_trajectories:\n",
    "\n",
    "            axs[cell_i, 2].plot(ld_random_i[trajectory], label='{0}'.format((trajectory[0]+1, trajectory[1]+1)))\n",
    "            axs[cell_i, 2].set_title('{0} cell_num: {1}.{2}; PC2_val: {3}'.format('random', FREQUENCY, frequency_module_cell_num, center_both_policies_projected_pc2[cell_idx]))\n",
    "            axs[cell_i, 2].legend(bbox_to_anchor=(1, 1))\n",
    "            \n",
    "\n"
   ]
  },
  {
   "cell_type": "code",
   "execution_count": null,
   "id": "f6f4ab13-d8f6-4aa7-abac-08277f40aeef",
   "metadata": {},
   "outputs": [],
   "source": [
    "increasing_pc1_lst[-60:]"
   ]
  },
  {
   "cell_type": "code",
   "execution_count": null,
   "id": "702299c7-9b3e-4d4a-915d-305e0e9ea1a1",
   "metadata": {},
   "outputs": [],
   "source": [
    "linearize_neighbor_trajectories(all_p_sweep[0], 1, 4, environments[0])"
   ]
  },
  {
   "cell_type": "code",
   "execution_count": null,
   "id": "8e9ed255-2ce1-4353-b149-a6d866b1f7f3",
   "metadata": {},
   "outputs": [],
   "source": [
    "reload(analyse)"
   ]
  },
  {
   "cell_type": "code",
   "execution_count": null,
   "id": "b3e9962e-e580-49a1-9879-5c424d2209d8",
   "metadata": {},
   "outputs": [],
   "source": [
    "3"
   ]
  },
  {
   "cell_type": "code",
   "execution_count": null,
   "id": "891d306c-9bdb-46ba-8493-8753a438b690",
   "metadata": {},
   "outputs": [],
   "source": [
    "def get_path_dependence_vector(all_p_env, frequency, cell_num, environment, zero_trajectory_threshold=0, impute_val=1, verbose=False):\n",
    "    \n",
    "    linearized_dict = linearize_neighbor_trajectories(all_p_env, frequency, cell_num, environment)\n",
    "    \n",
    "    flip_direction = []\n",
    "    flip_direction_sum_list = []\n",
    "    \n",
    "    same_end = []\n",
    "    same_end_sum_list = []\n",
    "    \n",
    "    same_start = []\n",
    "    same_start_sum_list = []\n",
    "    \n",
    "    trajectory_dict = make_trajectory_dict\n",
    "    \n",
    "    which_trajectories_flip = []\n",
    "    which_trajectories_same_start = []\n",
    "    which_trajectories_same_end = []\n",
    "    #print(linearized_dict)\n",
    "    # Collect values for reverse-direction trajectories\n",
    "    for traj_i, traj_a_ident in enumerate(neighbor_trajectories):\n",
    "        for traj_b_ident in neighbor_trajectories[traj_i:]:\n",
    "            all_arms = traj_a_ident + traj_b_ident\n",
    "            if (min(traj_a_ident) <= min(traj_b_ident)) and (max(all_arms) - min(all_arms) <= 2) and (traj_a_ident != traj_b_ident):\n",
    "                traj_a_state_seq = np.array(analyse.get_trajectory_states(traj_a_ident, environment))\n",
    "                traj_b_state_seq = np.array(analyse.get_trajectory_states(traj_b_ident, environment))\n",
    "                #if verbose:\n",
    "                    #print(traj_a_state_seq)\n",
    "                shared_trajectory_locations = traj_a_state_seq == traj_b_state_seq\n",
    "                \n",
    "                trace_a = linearized_dict[traj_a_ident]\n",
    "                trace_b = linearized_dict[traj_b_ident]\n",
    "                \n",
    "                if traj_a_ident == traj_b_ident[::-1]:\n",
    "                    flip_direction_sum_list.append(np.max(np.sum(np.abs(trace_a[1:-1])), np.sum(np.abs(trace_b[1:-1]))))\n",
    "                    flip_direction.append(analyse.normalized_overlap_path_dependence(traj_a_ident, traj_b_ident, trace_a, trace_b, environment, zero_trajectory_threshold, impute_val))\n",
    "                    which_trajectories_flip.append(str(np.array((traj_a_ident, traj_b_ident)) + 1))\n",
    "                elif traj_a_ident[0] == traj_b_ident[0]:\n",
    "                    same_start_sum_list.append(np.max(np.sum(np.abs(trace_a[shared_trajectory_locations])), np.sum(np.abs(trace_b[shared_trajectory_locations]))))\n",
    "                    same_start.append(analyse.normalized_overlap_path_dependence(traj_a_ident, traj_b_ident, trace_a, trace_b, environment, zero_trajectory_threshold, impute_val))\n",
    "                    #if verbose:\n",
    "                        #print('shared_start'.format(shared_trajectory_locations))\n",
    "                    which_trajectories_same_start.append(str(np.array((traj_a_ident, traj_b_ident)) + 1))\n",
    "                elif traj_a_ident[1] == traj_b_ident[1]:\n",
    "                    #print('!: {0}'.format(trace_a[shared_trajectory_locations].shape))\n",
    "                    #print(trace_a[shared_trajectory_locations])\n",
    "                    #print(trace_b[shared_trajectory_locations])\n",
    "                    #print(shared_trajectory_locations)\n",
    "                    #print('{0}: {1}, {2}: {3}'.format(traj_a_ident, np.sum(np.abs(trace_a[shared_trajectory_locations])), traj_b_ident, np.sum(np.abs(trace_b[shared_trajectory_locations]))))\n",
    "                    same_end_sum_list.append(np.max(np.sum(np.abs(trace_a[shared_trajectory_locations])), np.sum(np.abs(trace_b[shared_trajectory_locations]))))\n",
    "                    same_end.append(analyse.normalized_overlap_path_dependence(traj_a_ident, traj_b_ident, trace_a, trace_b, environment, zero_trajectory_threshold, impute_val))\n",
    "                    #if verbose:\n",
    "                        #print('shared_end'.format(shared_trajectory_locations))\n",
    "                    which_trajectories_same_end.append(str(np.array((traj_a_ident, traj_b_ident)) + 1))\n",
    "                    \n",
    "    flip_direction_sum_arr = np.array(flip_direction_sum_list)\n",
    "    flip_direction = np.array(flip_direction)\n",
    "    flip_direction_idxs = np.argsort(flip_direction_sum_arr)[::-1]\n",
    "    which_trajectories_flip = np.array(which_trajectories_flip)\n",
    "    \n",
    "    if verbose:\n",
    "        print(which_trajectories_flip.shape)\n",
    "    \n",
    "    same_start_sum_arr = np.array(same_start_sum_list)\n",
    "    same_start = np.array(same_start)\n",
    "    same_start_idxs = np.argsort(same_start_sum_arr)[::-1]\n",
    "    which_trajectories_same_start = np.array(which_trajectories_same_start)\n",
    "    \n",
    "    if verbose:\n",
    "        print(which_trajectories_same_start.shape)\n",
    "        print('which_trajectories_same_start: {0}'.format(which_trajectories_same_start[same_start_idxs]))\n",
    "        print('same_start_sum_arr: {0}'.format(same_start_sum_arr[same_start_idxs]))\n",
    "        \n",
    "    same_end_sum_arr = np.array(same_end_sum_list)\n",
    "    same_end = np.array(same_end)\n",
    "    same_end_idxs = np.argsort(same_end_sum_arr)[::-1]\n",
    "    which_trajectories_same_end = np.array(which_trajectories_same_end)\n",
    "    if verbose:\n",
    "        print(which_trajectories_same_end.shape)\n",
    "        print('which_trajectories_same_end: {0}'.format(which_trajectories_same_end[same_end_idxs]))\n",
    "        print('same_end_sum_arr: {0}'.format(same_end_sum_arr[same_end_idxs]))\n",
    "    #return np.hstack([flip_direction[flip_direction_idxs], same_start[same_start_idxs], same_end[same_end_idxs]]), np.hstack([which_trajectories_flip[flip_direction_idxs], which_trajectories_same_start[same_start_idxs], which_trajectories_same_end[same_end_idxs]])\n",
    "    \n",
    "    return np.hstack([flip_direction[flip_direction_idxs], same_start[same_start_idxs], same_end[same_end_idxs]])\n"
   ]
  },
  {
   "cell_type": "code",
   "execution_count": null,
   "id": "0363e23d-52d4-4b5a-a018-9f3a7c371929",
   "metadata": {},
   "outputs": [],
   "source": [
    "get_path_dependence_vector(all_p_sweep[0], 1, 29, environments[0], zero_trajectory_threshold=0, verbose=True)"
   ]
  },
  {
   "cell_type": "code",
   "execution_count": null,
   "id": "ea38d2df-7498-435f-b7bc-7ec82527db46",
   "metadata": {},
   "outputs": [],
   "source": [
    "fig, ax = plt.subplots()\n",
    "\n",
    "plot_same_start(all_p_sweep[0], 1, 29, environments[0], ax)\n",
    "ax.set_ylim(-0.000005, 0.000005)"
   ]
  },
  {
   "cell_type": "code",
   "execution_count": null,
   "id": "fa23e0ee-9dc7-49d6-b2eb-0c592b6e6577",
   "metadata": {},
   "outputs": [],
   "source": [
    "FREQUENCY, cell_num = 3, 4\n",
    "\n",
    "fig, ax = plt.subplots()\n",
    "\n",
    "ld = linearize_neighbor_trajectories(all_p_sweep[0], FREQUENCY, cell_num, environments[0])\n",
    "\n",
    "for trajectory in neighbor_trajectories:\n",
    "\n",
    "    ax.plot(ld[trajectory], label='{0}'.format((trajectory[0]+1, trajectory[1]+1)))\n",
    "    ax.set_title('{0} cell_num: {1}.{2}'.format('sweep', FREQUENCY, cell_num))\n",
    "    ax.legend(bbox_to_anchor=(1, 1))"
   ]
  },
  {
   "cell_type": "code",
   "execution_count": null,
   "id": "256419fd-11f9-4495-b79c-f1f88808c41f",
   "metadata": {},
   "outputs": [],
   "source": [
    "FREQUENCY, cell_num = 1, 29\n",
    "\n",
    "fig, ax = plt.subplots()\n",
    "\n",
    "ld = linearize_neighbor_trajectories(all_p_sweep[0], FREQUENCY, cell_num, environments[0])\n",
    "\n",
    "for trajectory in neighbor_trajectories:\n",
    "\n",
    "    ax.plot(ld[trajectory], label='{0}'.format((trajectory[0]+1, trajectory[1]+1)))\n",
    "    ax.set_title('{0} cell_num: {1}.{2}'.format('sweep', FREQUENCY, cell_num))\n",
    "    ax.legend(bbox_to_anchor=(1, 1))\n",
    "\n",
    "ax.set_ylim(-0.00035, 0.0002)\n",
    "print(np.min(ld[(4, 5)]))"
   ]
  },
  {
   "cell_type": "code",
   "execution_count": null,
   "id": "273f1d8f-6c8f-44c0-9846-d7aee39485ec",
   "metadata": {},
   "outputs": [],
   "source": [
    "vec = get_path_dependence_vector(all_p_sweep[0], FREQUENCY, cell_num, environments[0], zero_trajectory_threshold=0, verbose=True)\n",
    "#print(vec[:5])\n",
    "#print(which_traj[:5])\n",
    "#print(vec[5:9])\n",
    "#print(which_traj[5:9])\n",
    "#print(vec[9:])\n",
    "#print(which_traj[9:])"
   ]
  },
  {
   "cell_type": "code",
   "execution_count": null,
   "id": "8599b3e9-e6ac-437f-888a-f85cd6bf665c",
   "metadata": {},
   "outputs": [],
   "source": [
    "get_path_dependence_vector(all_p_sweep[0], FREQUENCY, cell_num, environments[0], zero_trajectory_threshold=0, verbose=True)"
   ]
  },
  {
   "cell_type": "code",
   "execution_count": null,
   "id": "1dddf6a8-7c31-4039-bacf-41a36e846f06",
   "metadata": {},
   "outputs": [],
   "source": [
    "FREQUENCY, cell_num = 1, 29\n",
    "\n",
    "fig, ax = plt.subplots()\n",
    "\n",
    "ld = linearize_neighbor_trajectories(all_p_sweep[0], FREQUENCY, cell_num, environments[0])\n",
    "\n",
    "for trajectory in neighbor_trajectories:\n",
    "\n",
    "    ax.plot(ld[trajectory], label='{0}'.format((trajectory[0]+1, trajectory[1]+1)))\n",
    "    ax.set_title('{0} cell_num: {1}.{2}'.format('sweep', FREQUENCY, cell_num))\n",
    "    ax.legend(bbox_to_anchor=(1, 1))"
   ]
  },
  {
   "cell_type": "code",
   "execution_count": null,
   "id": "6f19e535-84ce-47b0-9703-f5860824be8f",
   "metadata": {},
   "outputs": [],
   "source": [
    "def plot_path_dependence(all_p_env, frequency, cell_num, environment, fig, axs):\n",
    "    \n",
    "    "
   ]
  },
  {
   "cell_type": "code",
   "execution_count": null,
   "id": "65befdb8-884a-4665-92c5-bdecc5f00f61",
   "metadata": {
    "tags": []
   },
   "outputs": [],
   "source": [
    "# Path Dependence metrics"
   ]
  },
  {
   "cell_type": "code",
   "execution_count": null,
   "id": "4df18c24-94a7-4ca4-b1d4-4decea307405",
   "metadata": {},
   "outputs": [],
   "source": [
    "def plot_opposite_direction(all_p_env, frequency, cell_num, environment, ax):\n",
    "    \n",
    "    linearized_dict = linearize_neighbor_trajectories(all_p_env, frequency, cell_num, environment)\n",
    "    \n",
    "    for left_arm in np.arange(5):\n",
    "        \n",
    "        trajectory = (left_arm, left_arm+1)\n",
    "        reverse_trajectory = trajectory[::-1]\n",
    "        \n",
    "        ax.plot(linearized_dict[trajectory][:-1], label='{0}'.format((trajectory[0]+1, trajectory[1]+1)))\n",
    "        ax.plot(linearized_dict[reverse_trajectory][:-1][::-1], label='{0}'.format((trajectory[0]+1, trajectory[1]+1)))\n",
    "        \n",
    "    ax.legend(bbox_to_anchor=(1.1, 1))\n",
    "    \n",
    "    return ax"
   ]
  },
  {
   "cell_type": "code",
   "execution_count": null,
   "id": "7143d16c-1468-4959-ad7d-c8ff49e994f0",
   "metadata": {},
   "outputs": [],
   "source": [
    "def plot_same_start(all_p_env, frequency, cell_num, environment, ax):\n",
    "    \n",
    "    linearized_dict = linearize_neighbor_trajectories(all_p_env, frequency, cell_num, environment)\n",
    "\n",
    "    for arm1 in np.arange(1, 5):\n",
    "        \n",
    "        to_left = (arm1, arm1-1)\n",
    "        to_right = (arm1, arm1+1)\n",
    "        ax.plot(linearized_dict[to_left][:3], label='{0}'.format((to_left[0]+1, to_left[1]+1)))\n",
    "        ax.plot(linearized_dict[to_right][:3], label='{0}'.format((to_right[0]+1, to_right[1]+1)))\n",
    "        ax.set_xticks(np.arange(3))\n",
    "        \n",
    "    ax.legend()\n",
    "    \n",
    "    return ax"
   ]
  },
  {
   "cell_type": "code",
   "execution_count": null,
   "id": "cad89801-8d7c-43c7-b6f8-bf83a1bb21f1",
   "metadata": {},
   "outputs": [],
   "source": [
    "def plot_same_end(all_p_env, frequency, cell_num, environment, ax):\n",
    "    \n",
    "    linearized_dict = linearize_neighbor_trajectories(all_p_env, frequency, cell_num, environment)\n",
    "\n",
    "    for arm2 in np.arange(1, 5):\n",
    "        \n",
    "        from_left = (arm2-1, arm2)\n",
    "        from_right = (arm2+1, arm2)\n",
    "        ax.plot(linearized_dict[from_left][4:], label='{0}'.format((from_left[0]+1, from_left[1]+1)))\n",
    "        ax.plot(linearized_dict[from_right][4:], label='{0}'.format((from_right[0]+1, from_right[1]+1)))\n",
    "        xticks = ax.set_xticks(np.arange(4))\n",
    "        ax.set_xticklabels(np.arange(4, 8))\n",
    "        \n",
    "    ax.legend()\n",
    "    \n",
    "    return ax"
   ]
  },
  {
   "cell_type": "code",
   "execution_count": null,
   "id": "0eda24ef-bd6e-410c-9258-74fbbbf2da74",
   "metadata": {},
   "outputs": [],
   "source": [
    "fig, axs = plt.subplots(3, figsize=(15, 20))\n",
    "\n",
    "\n",
    "plot_opposite_direction(all_p_sweep[0], 1, 29, environments[0], axs[0])\n",
    "plot_same_start(all_p_sweep[0], 1, 29, environments[0], axs[1])\n",
    "plot_same_end(all_p_sweep[0], 1, 29, environments[0], axs[2])"
   ]
  },
  {
   "cell_type": "code",
   "execution_count": null,
   "id": "dc0a6b30-0057-4061-a543-91cd016ea5e3",
   "metadata": {},
   "outputs": [],
   "source": [
    "len(which_traj)"
   ]
  },
  {
   "cell_type": "code",
   "execution_count": null,
   "id": "3170c726-9392-48c3-ac23-1f6a183c1716",
   "metadata": {},
   "outputs": [],
   "source": [
    "sweep_cell_pd_vec_list_area_order = []\n",
    "\n",
    "for FREQUENCY in np.arange(5):\n",
    "    for cell_num in np.arange(all_p_sweep[0][FREQUENCY][0][0].shape[0]):\n",
    "        sweep_cell_pd_vec_list_area_order.append(get_path_dependence_vector(all_p_sweep[0], frequency=FREQUENCY, cell_num=cell_num, environment=environments[0], zero_trajectory_threshold=ZERO_TRAJECTORY_THRESHOLD, verbose=False))\n",
    "                                  \n",
    "random_cell_pd_vec_list_area_order = []\n",
    "\n",
    "for FREQUENCY in np.arange(5):\n",
    "    for cell_num in np.arange(all_p_random[0][FREQUENCY][0][0].shape[0]):\n",
    "        random_cell_pd_vec_list_area_order.append(get_path_dependence_vector(all_p_random[0], frequency=FREQUENCY, cell_num=cell_num, environment=environments[0], zero_trajectory_threshold=ZERO_TRAJECTORY_THRESHOLD, verbose=False))\n"
   ]
  },
  {
   "cell_type": "code",
   "execution_count": null,
   "id": "2eb48e73-4a27-47a7-b8b4-37f1d74a7230",
   "metadata": {},
   "outputs": [],
   "source": [
    "sweep_cell_pd_vec_list_area_order[0]"
   ]
  },
  {
   "cell_type": "code",
   "execution_count": null,
   "id": "79c28916-6ab1-41f5-a971-35670ecb5b36",
   "metadata": {},
   "outputs": [],
   "source": [
    "sweep_cell_pd_vec_area_order_stack = sweep_cell_pd_vec_list_area_order[0]\n",
    "for cell in sweep_cell_pd_vec_list_area_order[1:]:\n",
    "    sweep_cell_pd_vec_area_order_stack = np.vstack([sweep_cell_pd_vec_area_order_stack, cell])\n",
    "\n",
    "random_cell_pd_vec_area_order_stack = random_cell_pd_vec_list_area_order[0]\n",
    "for cell in random_cell_pd_vec_list_area_order[1:]:\n",
    "    random_cell_pd_vec_area_order_stack = np.vstack([random_cell_pd_vec_area_order_stack, cell])\n",
    "\n",
    "print(sweep_cell_pd_vec_area_order_stack.shape)\n",
    "print(random_cell_pd_vec_area_order_stack.shape)"
   ]
  },
  {
   "cell_type": "code",
   "execution_count": null,
   "id": "bdccdad1-994b-4d5f-a67f-d049ccac731f",
   "metadata": {},
   "outputs": [],
   "source": [
    "sweep_cell_pd_vec_area_order_stack.shape"
   ]
  },
  {
   "cell_type": "code",
   "execution_count": null,
   "id": "b0e4911c-a676-49d7-a0e6-fe61b27da225",
   "metadata": {},
   "outputs": [],
   "source": [
    "random_cell_pd_vec_area_order_stack.shape"
   ]
  },
  {
   "cell_type": "code",
   "execution_count": null,
   "id": "0e6a65eb-b2ff-4a14-87a1-ae2e0ec13e3a",
   "metadata": {},
   "outputs": [],
   "source": [
    "both_policies_area_order = np.vstack([sweep_cell_pd_vec_area_order_stack, random_cell_pd_vec_area_order_stack])"
   ]
  },
  {
   "cell_type": "code",
   "execution_count": null,
   "id": "0525d470-8932-44cc-82c2-da838485fd42",
   "metadata": {},
   "outputs": [],
   "source": [
    "both_policies_area_order.shape"
   ]
  },
  {
   "cell_type": "code",
   "execution_count": null,
   "id": "37a97ef1-36bb-4bc3-9da2-a59fa9786daa",
   "metadata": {},
   "outputs": [],
   "source": [
    "center_both_policies_area_order = both_policies_area_order - np.mean(both_policies_area_order, axis=0)"
   ]
  },
  {
   "cell_type": "code",
   "execution_count": null,
   "id": "b9f14ba1-4054-4b1c-a414-b8742fefa65e",
   "metadata": {},
   "outputs": [],
   "source": [
    "print(center_both_policies_area_order.shape)"
   ]
  },
  {
   "cell_type": "code",
   "execution_count": null,
   "id": "42e944b1-c50d-43b8-bae9-986a477b34e0",
   "metadata": {},
   "outputs": [],
   "source": [
    "fig, ax = plt.subplots()\n",
    "\n",
    "ax.scatter(center_both_policies_area_order[:, 0], center_both_policies_area_order[:, 1])\n",
    "ax.axvline(np.mean(center_both_policies_area_order[:, 0]))\n",
    "ax.axhline(np.mean(center_both_policies_area_order[:, 1]))"
   ]
  },
  {
   "cell_type": "code",
   "execution_count": null,
   "id": "ae48c307-601c-42dd-b28a-c7da602b5db2",
   "metadata": {},
   "outputs": [],
   "source": [
    "U, Sigma, V_T = np.linalg.svd(center_both_policies_area_order)"
   ]
  },
  {
   "cell_type": "code",
   "execution_count": null,
   "id": "a0d3c5bf-76a6-4e0e-a2ad-a9d4db66d4b5",
   "metadata": {},
   "outputs": [],
   "source": [
    "print(U.shape)\n",
    "print(Sigma.shape)\n",
    "print(V_T.shape)"
   ]
  },
  {
   "cell_type": "code",
   "execution_count": null,
   "id": "7e804332-c532-4d30-b7d3-760736586867",
   "metadata": {},
   "outputs": [],
   "source": [
    "eigs = Sigma**2\n",
    "eigs_frac = eigs / np.sum(eigs)"
   ]
  },
  {
   "cell_type": "code",
   "execution_count": null,
   "id": "edfb1a78-c3ae-4bdf-9ddd-f112227ff1f6",
   "metadata": {},
   "outputs": [],
   "source": [
    "fig, ax = plt.subplots()\n",
    "\n",
    "ax.bar(np.arange(eigs_frac[:10].shape[0]) + 1, eigs_frac[:10])\n",
    "ax.set_ylim(0, 1)\n",
    "ax.set_xlim(0, 11)\n",
    "xticks = ax.set_xticks(np.arange(0, 11))"
   ]
  },
  {
   "cell_type": "code",
   "execution_count": null,
   "id": "ecce0299-3c3c-4458-8c36-c02cd6630dea",
   "metadata": {},
   "outputs": [],
   "source": [
    "np.sum(eigs_frac[:2])"
   ]
  },
  {
   "cell_type": "code",
   "execution_count": null,
   "id": "35211c36-8904-46bc-9980-00d8ec39869c",
   "metadata": {},
   "outputs": [],
   "source": [
    "fig, ax = plt.subplots(figsize=(15, 8))\n",
    "\n",
    "ax.plot(V_T.T[:, 0])\n",
    "ax.plot(V_T.T[:, 1])\n",
    "ax.plot(V_T.T[:, 2])\n",
    "x_ticks = ax.set_xticks(np.arange(13))"
   ]
  },
  {
   "cell_type": "code",
   "execution_count": null,
   "id": "7750706c-05ea-4481-b06a-620df03b6de2",
   "metadata": {},
   "outputs": [],
   "source": [
    "np.linalg.norm(V_T.T[:, 0])"
   ]
  },
  {
   "cell_type": "code",
   "execution_count": null,
   "id": "00e51622-75c1-4943-bba3-57976e253e80",
   "metadata": {},
   "outputs": [],
   "source": [
    "# Separate the vectors from the sweeping and random policies\n",
    "centered_sweep_vecs = center_both_policies_area_order[:400, :]\n",
    "centered_random_vecs = center_both_policies_area_order[400:, :]\n",
    "\n",
    "# Project onto principal directions\n",
    "projected_sweep_vecs = centered_sweep_vecs @ V_T.T\n",
    "projected_random_vecs = centered_random_vecs @ V_T.T\n",
    "\n",
    "# First two principal components\n",
    "projected_sweep_three = projected_sweep_vecs[:, :3]\n",
    "projected_random_three = projected_random_vecs[:, :3]\n",
    "print(projected_sweep_three.shape)\n",
    "print(projected_random_three.shape)"
   ]
  },
  {
   "cell_type": "code",
   "execution_count": null,
   "id": "b5150669-2540-4624-a415-2362507faab4",
   "metadata": {},
   "outputs": [],
   "source": [
    "fig, ax = plt.subplots(figsize=(20, 15))\n",
    "\n",
    "ax.scatter(projected_sweep_three[:, 0], projected_sweep_three[:, 1], label='projected_sweep', s=120, alpha=0.5)\n",
    "ax.scatter(projected_random_three[:, 0], projected_random_three[:, 1], label='projected_random', s=120, alpha=0.5)\n",
    "\n",
    "sweep_centroid = np.mean(projected_sweep_three, axis=0)\n",
    "random_centroid = np.mean(projected_random_three, axis=0)\n",
    "ax.scatter(sweep_centroid[0], sweep_centroid[1], s=200, label='sweep_centroid')\n",
    "ax.scatter(random_centroid[0], random_centroid[1], s=200, label='random_centroid')\n",
    "#ax.set_xlim(-2, 6)\n",
    "#ax.set_ylim(-4, 4)\n",
    "#ax.axvline(1)\n",
    "#ax.axhline(-0.3)\n",
    "ax.legend()"
   ]
  },
  {
   "cell_type": "code",
   "execution_count": null,
   "id": "81a3205d-7f79-47be-bba3-cc6b6734b6f6",
   "metadata": {},
   "outputs": [],
   "source": [
    "fig, ax = plt.subplots(figsize=(20, 15))\n",
    "\n",
    "ax.scatter(projected_sweep_three[:, 0], projected_sweep_three[:, 2], label='projected_sweep', s=120, alpha=0.5)\n",
    "ax.scatter(projected_random_three[:, 0], projected_random_three[:, 2], label='projected_random', s=120, alpha=0.5)\n",
    "\n",
    "sweep_centroid = np.mean(projected_sweep_three, axis=0)\n",
    "random_centroid = np.mean(projected_random_three, axis=0)\n",
    "ax.scatter(sweep_centroid[0], sweep_centroid[1], s=200, label='sweep_centroid')\n",
    "ax.scatter(random_centroid[0], random_centroid[1], s=200, label='random_centroid')\n",
    "#ax.set_xlim(-2, 6)\n",
    "#ax.set_ylim(-4, 4)\n",
    "#ax.axvline(1)\n",
    "#ax.axhline(-0.3)\n",
    "ax.legend()"
   ]
  },
  {
   "cell_type": "code",
   "execution_count": null,
   "id": "8b8368f6-4c9f-4fbf-9138-848c97d69fd1",
   "metadata": {},
   "outputs": [],
   "source": [
    "fig, ax = plt.subplots(figsize=(20, 15))\n",
    "\n",
    "ax.scatter(projected_sweep_three[:, 1], projected_sweep_three[:, 2], label='projected_sweep', s=120, alpha=0.5)\n",
    "ax.scatter(projected_random_three[:, 1], projected_random_three[:, 2], label='projected_random', s=120, alpha=0.5)\n",
    "\n",
    "sweep_centroid = np.mean(projected_sweep_three, axis=0)\n",
    "random_centroid = np.mean(projected_random_three, axis=0)\n",
    "ax.scatter(sweep_centroid[0], sweep_centroid[1], s=200, label='sweep_centroid')\n",
    "ax.scatter(random_centroid[0], random_centroid[1], s=200, label='random_centroid')\n",
    "#ax.set_xlim(-2, 6)\n",
    "#ax.set_ylim(-4, 4)\n",
    "#ax.axvline(1)\n",
    "#ax.axhline(-0.3)\n",
    "ax.legend()"
   ]
  },
  {
   "cell_type": "code",
   "execution_count": null,
   "id": "783386ee-5250-4664-a3e3-f4bef64d95ac",
   "metadata": {},
   "outputs": [],
   "source": [
    "fig = plt.figure(figsize=(12, 12))\n",
    "ax = fig.add_subplot(projection='3d')\n",
    "#ax.view_init(30, -100)\n",
    "ax.scatter(projected_sweep_three[:, 0], projected_sweep_three[:, 1], projected_sweep_three[:, 2], alpha=0.5)\n",
    "ax.scatter(projected_random_three[:, 0], projected_random_three[:, 1], projected_random_three[:, 2], alpha=0.5)\n",
    "ax.set_xlabel('PC 1: {0}'.format(eigs_frac[0])[:11])\n",
    "ax.set_ylabel('PC 2: {0}'.format(eigs_frac[1])[:11])\n",
    "ax.set_zlabel('PC 3: {0}'.format(eigs_frac[2])[:11])\n",
    "\n",
    "plt.show()"
   ]
  },
  {
   "cell_type": "code",
   "execution_count": null,
   "id": "bccbdd62-fd44-453e-bbb5-ec9587cff0bc",
   "metadata": {},
   "outputs": [],
   "source": [
    "area_order_total_variance = np.var(np.vstack([projected_sweep_three[:, 0], projected_random_three[:, 0]])) / eigs_frac[0]\n",
    "area_order_total_variance"
   ]
  },
  {
   "cell_type": "code",
   "execution_count": null,
   "id": "7086d45f-6809-4bd4-b396-c140dbe689ee",
   "metadata": {},
   "outputs": [],
   "source": [
    "decreasing_total_variance"
   ]
  },
  {
   "cell_type": "code",
   "execution_count": null,
   "id": "3d2c947b-cde1-4fbc-ade6-ebb26f645f66",
   "metadata": {},
   "outputs": [],
   "source": [
    "eigs_frac_decreasing = 0.8233347504225715"
   ]
  },
  {
   "cell_type": "code",
   "execution_count": null,
   "id": "9ba755d2-ecbb-4fc4-bfe7-b588b9ee9d4a",
   "metadata": {},
   "outputs": [],
   "source": [
    "eigs_frac_area_order = eigs_frac[0]"
   ]
  },
  {
   "cell_type": "code",
   "execution_count": null,
   "id": "f16ec94f-eba5-416e-8506-8959a4d4dd15",
   "metadata": {},
   "outputs": [],
   "source": [
    "pc1_var_decreasing = eigs_frac_decreasing * decreasing_total_variance"
   ]
  },
  {
   "cell_type": "code",
   "execution_count": null,
   "id": "29bdec36-ae82-41d0-a0b0-3bb495154cd0",
   "metadata": {},
   "outputs": [],
   "source": [
    "pc1_var_area_order = eigs_frac_area_order * area_order_total_variance"
   ]
  },
  {
   "cell_type": "code",
   "execution_count": null,
   "id": "dd75b51a-8b94-44c1-ac3d-3c5f071bebc3",
   "metadata": {},
   "outputs": [],
   "source": [
    "eigs_frac[0] * area_order_total_variance"
   ]
  },
  {
   "cell_type": "code",
   "execution_count": null,
   "id": "16d6cb1c-df69-4acb-8164-57553bdc83ce",
   "metadata": {},
   "outputs": [],
   "source": [
    "eigs_frac[0]"
   ]
  },
  {
   "cell_type": "code",
   "execution_count": null,
   "id": "d6d17c44-50bd-480c-b742-00e52017d06a",
   "metadata": {},
   "outputs": [],
   "source": [
    "print('pc1_var_decreasing: {0}'.format(pc1_var_decreasing))\n",
    "print('pc1_var_area_order: {0}'.format(pc1_var_area_order))"
   ]
  },
  {
   "cell_type": "code",
   "execution_count": null,
   "id": "feaa1d73-c950-4a56-9aa8-699b6982a81e",
   "metadata": {},
   "outputs": [],
   "source": [
    "np.var(np.vstack([projected_sweep_three[:, 0], projected_random_three[:, 0]]))"
   ]
  },
  {
   "cell_type": "code",
   "execution_count": null,
   "id": "7171795d-e906-4d8d-8275-7872d05fd948",
   "metadata": {},
   "outputs": [],
   "source": [
    "import seaborn as sns\n",
    "sns.distplot(projected_sweep_three[:, 0], bins=np.linspace(np.min(np.hstack([projected_sweep_three[:, 0], projected_random_three[:, 0]])), np.max(np.hstack([projected_sweep_three[:, 0], projected_random_three[:, 0]])), 15))\n",
    "sns.distplot(projected_random_three[:, 0], bins=np.linspace(np.min(np.hstack([projected_sweep_three[:, 0], projected_random_three[:, 0]])), np.max(np.hstack([projected_sweep_three[:, 0], projected_random_three[:, 0]])), 15))"
   ]
  },
  {
   "cell_type": "code",
   "execution_count": null,
   "id": "6cc9d953-337c-4533-8f4f-ee90a5949f8c",
   "metadata": {},
   "outputs": [],
   "source": [
    "np.var(np.hstack([projected_sweep_three[:, 0], projected_random_three[:, 0]]))"
   ]
  },
  {
   "cell_type": "code",
   "execution_count": null,
   "id": "7e425f6e-c5a0-4f98-9521-6326ec0a19c2",
   "metadata": {},
   "outputs": [],
   "source": [
    "sns.distplot(projected_sweep_three[:, 1], bins=np.linspace(np.min(np.hstack([projected_sweep_three[:, 1], projected_random_three[:, 1]])), np.max(np.hstack([projected_sweep_three[:, 1], projected_random_three[:, 1]])), 15))\n",
    "sns.distplot(projected_random_three[:, 1], bins=np.linspace(np.min(np.hstack([projected_sweep_three[:, 1], projected_random_three[:, 1]])), np.max(np.hstack([projected_sweep_three[:, 1], projected_random_three[:, 1]])), 15))"
   ]
  },
  {
   "cell_type": "code",
   "execution_count": null,
   "id": "2095d82f-d26e-41fd-a705-dd6c8f12220f",
   "metadata": {},
   "outputs": [],
   "source": [
    "np.var(np.hstack([projected_sweep_three[:, 1], projected_random_three[:, 1]]))"
   ]
  },
  {
   "cell_type": "code",
   "execution_count": null,
   "id": "274ec182-981a-4ab6-a9fe-830244ad1344",
   "metadata": {},
   "outputs": [],
   "source": [
    "sns.distplot(projected_sweep_three[:, 2], bins=np.linspace(np.min(np.hstack([projected_sweep_three[:, 2], projected_random_three[:, 2]])), np.max(np.hstack([projected_sweep_three[:, 2], projected_random_three[:, 2]])), 15))\n",
    "sns.distplot(projected_random_three[:, 2], bins=np.linspace(np.min(np.hstack([projected_sweep_three[:, 2], projected_random_three[:, 2]])), np.max(np.hstack([projected_sweep_three[:, 2], projected_random_three[:, 2]])), 15))"
   ]
  },
  {
   "cell_type": "code",
   "execution_count": null,
   "id": "732484aa-5136-40de-a3f5-431be22359d8",
   "metadata": {},
   "outputs": [],
   "source": [
    "np.var(np.hstack([projected_sweep_three[:, 2], projected_random_three[:, 2]]))"
   ]
  },
  {
   "cell_type": "code",
   "execution_count": null,
   "id": "bcfdb3ad-3a94-4c84-a16d-7a84f32ff1db",
   "metadata": {},
   "outputs": [],
   "source": [
    "fig, axs = plt.subplots(3, figsize=(15, 15))\n",
    "sweep_hist = axs[0].hist(projected_sweep_three[:, 0], bins=np.linspace(np.min(np.hstack([projected_sweep_three[:, 0], projected_random_three[:, 0]])), np.max(np.hstack([projected_sweep_three[:, 0], projected_random_three[:, 0]])), 10), label='projected_sweep', alpha=0.8)#, histtype='step', cumulative=True, density=True, color='tab:blue')\n",
    "random_arm_hist = axs[0].hist(projected_random_three[:, 0], bins=np.linspace(np.min(np.hstack([projected_sweep_three[:, 0], projected_random_three[:, 0]])), np.max(np.hstack([projected_sweep_three[:, 0], projected_random_three[:, 0]])), 10), label='projected_random', alpha=0.8)#, histtype='step', cumulative=True, density=True, color='tab:orange')\n",
    "axs[0].set_xlim(np.min(np.hstack([projected_sweep_three[:, 0], projected_random_three[:, 0]])), np.max(np.hstack([projected_sweep_three[:, 0], projected_random_three[:, 0]])))\n",
    "axs[0].set_title('PC 1')\n",
    "\n",
    "sweep_hist = axs[1].hist(projected_sweep_three[:, 1], bins=np.linspace(np.min(np.hstack([projected_sweep_three[:, 1], projected_random_three[:, 1]])), np.max(np.hstack([projected_sweep_three[:, 1], projected_random_three[:, 1]])), 10), label='projected_sweep', alpha=0.8)#, histtype='step', cumulative=True, density=True, color='tab:blue')\n",
    "random_arm_hist = axs[1].hist(projected_random_three[:, 1], bins=np.linspace(np.min(np.hstack([projected_sweep_three[:, 1], projected_random_three[:, 1]])), np.max(np.hstack([projected_sweep_three[:, 1], projected_random_three[:, 1]])), 10), label='projected_random', alpha=0.8)#, histtype='step', cumulative=True, density=True, color='tab:orange')\n",
    "axs[1].set_xlim(np.min(np.hstack([projected_sweep_three[:, 1], projected_random_three[:, 1]])), np.max(np.hstack([projected_sweep_three[:, 1], projected_random_three[:, 1]])))\n",
    "axs[1].set_title('PC 2')\n",
    "\n",
    "sweep_hist = axs[2].hist(projected_sweep_three[:, 2], bins=np.linspace(np.min(np.hstack([projected_sweep_three[:, 2], projected_random_three[:, 2]])), np.max(np.hstack([projected_sweep_three[:, 2], projected_random_three[:, 1]])), 10), label='projected_sweep', alpha=0.8)#, histtype='step', cumulative=True, density=True, color='tab:blue')\n",
    "random_arm_hist = axs[2].hist(projected_random_three[:, 2], bins=np.linspace(np.min(np.hstack([projected_sweep_three[:, 2], projected_random_three[:, 2]])), np.max(np.hstack([projected_sweep_three[:, 2], projected_random_three[:, 1]])), 10), label='projected_random', alpha=0.8)#, histtype='step', cumulative=True, density=True, color='tab:orange')\n",
    "axs[2].set_xlim(np.min(np.hstack([projected_sweep_three[:, 2], projected_random_three[:, 2]])), np.max(np.hstack([projected_sweep_three[:, 2], projected_random_three[:, 2]])))\n",
    "axs[2].set_title('PC 3')\n"
   ]
  },
  {
   "cell_type": "code",
   "execution_count": null,
   "id": "389046de-4644-4a58-91ca-615c14fb8c63",
   "metadata": {},
   "outputs": [],
   "source": [
    "fig, ax = plt.subplots(figsize=(20, 10))\n",
    "\n",
    "ax.hist(projected_sweep_three[:, 0], bins=np.linspace(np.min(projected_sweep_three[:, 0]), np.max(projected_sweep_three[:, 0]), 1500), label='projected_sweep', histtype='step', cumulative=True, density=True, color='tab:blue')\n",
    "ax.hist(projected_random_three[:, 0], bins=np.linspace(np.min(projected_sweep_three[:, 0]), np.max(projected_sweep_three[:, 0]), 1500), label='projected_random', histtype='step', cumulative=True, density=True, color='tab:orange')\n",
    "#ax.set_xticks(np.linspace(np.min(projected_sweep_two), np.max(projected_sweep_two),  21))\n",
    "ax.set_xlim(np.min(projected_sweep_three[:, 0]), np.max(projected_sweep_three[:, 0]))\n",
    "sweep_mean = np.mean(projected_sweep_three[:, 0])#, axis=0)\n",
    "random_mean = np.mean(projected_random_three[:, 0])#, axis=0)\n",
    "#ax.axvline(sweep_mean, label='sweep_mean', color='tab:blue')\n",
    "#ax.axvline(random_mean, label='random_mean', color='tab:orange')\n",
    "#ax.axvline(0.22)\n",
    "#ax.axvline(0.26)\n",
    "ax.legend(bbox_to_anchor=(1, 1.1))"
   ]
  },
  {
   "cell_type": "code",
   "execution_count": null,
   "id": "c1ae9007-840a-4f60-9ddc-943cf6aaaa2e",
   "metadata": {},
   "outputs": [],
   "source": [
    "np.max(projected_random_two[:, 1])"
   ]
  },
  {
   "cell_type": "code",
   "execution_count": null,
   "id": "79a22241-d49c-434c-9ac1-f9d9ed22094e",
   "metadata": {},
   "outputs": [],
   "source": [
    "fig, ax = plt.subplots(figsize=(20, 10))\n",
    "\n",
    "ax.hist(projected_sweep_three[:, 1], bins=np.linspace(np.min(projected_sweep_three[:, 1]), np.max(projected_sweep_three[:, 1]), 1500), label='projected_sweep', histtype='step', cumulative=True, density=True, color='tab:blue')\n",
    "ax.hist(projected_random_three[:, 1], bins=np.linspace(np.min(projected_sweep_three[:, 1]), np.max(projected_sweep_three[:, 1]), 1500), label='projected_random', histtype='step', cumulative=True, density=True, color='tab:orange')\n",
    "#ax.set_xticks(np.linspace(np.min(projected_sweep_two), np.max(projected_sweep_two),  21))\n",
    "ax.set_xlim(np.min(projected_sweep_three[:, 1]), np.max(projected_sweep_three[:, 1]))\n",
    "sweep_mean = np.mean(projected_sweep_three[:, 1])#, axis=0)\n",
    "random_mean = np.mean(projected_random_three[:, 1])#, axis=0)\n",
    "#ax.axvline(sweep_mean, label='sweep_mean', color='tab:blue')\n",
    "#ax.axvline(random_mean, label='random_mean', color='tab:orange')\n",
    "#ax.axvline(-0.13, color='tab:green')\n",
    "#ax.axhline(-0.3)\n",
    "ax.legend(bbox_to_anchor=(1, 1.1))"
   ]
  },
  {
   "cell_type": "code",
   "execution_count": null,
   "id": "818903a1-d0ac-4076-bad6-15379d2b1f8a",
   "metadata": {},
   "outputs": [],
   "source": [
    "fig, ax = plt.subplots(figsize=(20, 10))\n",
    "\n",
    "ax.hist(projected_sweep_three[:, 2], bins=np.linspace(np.min(projected_sweep_three[:, 2]), np.max(projected_sweep_three[:, 2]), 1500), label='projected_sweep', histtype='step', cumulative=True, density=True, color='tab:blue')\n",
    "ax.hist(projected_random_three[:, 2], bins=np.linspace(np.min(projected_sweep_three[:, 2]), np.max(projected_sweep_three[:, 2]), 1500), label='projected_random', histtype='step', cumulative=True, density=True, color='tab:orange')\n",
    "#ax.set_xticks(np.linspace(np.min(projected_sweep_two), np.max(projected_sweep_two),  21))\n",
    "ax.set_xlim(np.min(projected_sweep_three[:, 2]), np.max(projected_sweep_three[:, 2]))\n",
    "sweep_mean = np.mean(projected_sweep_three[:, 2])#, axis=0)\n",
    "random_mean = np.mean(projected_random_three[:, 2])#, axis=0)\n",
    "#ax.axvline(sweep_mean, label='sweep_mean', color='tab:blue')\n",
    "#ax.axvline(random_mean, label='random_mean', color='tab:orange')\n",
    "#ax.axvline(-0.13, color='tab:green')\n",
    "#ax.axhline(-0.3)\n",
    "ax.legend(bbox_to_anchor=(1, 1.1))"
   ]
  },
  {
   "cell_type": "code",
   "execution_count": null,
   "id": "cf1839ad-4c6c-478a-a333-c42fef58571c",
   "metadata": {},
   "outputs": [],
   "source": [
    "def flip_direction(all_p_env, frequency, cell_num, environment):\n",
    "    \n",
    "    \n",
    "\n",
    "def same_end_xy(all_p_env, frequency, cell_num, environment):\n",
    "    \n",
    "    ld = linearize_neighbor_trajectories(all_p_env, frequency, cell_num, environment)\n",
    "    \n",
    "    for trajectory_a in neighbor_trajectories:\n",
    "        for trajectory_b in neighbor_trajectories:\n",
    "            \n",
    "            \n",
    "            \n",
    "def same_start_xy()(all_p_env, frequency, cell_num, environment):\n",
    "    \n",
    "    \n",
    "        \n",
    "    "
   ]
  },
  {
   "cell_type": "code",
   "execution_count": null,
   "id": "ed4fd1a8-81d4-4150-b7dd-a531ded993b7",
   "metadata": {
    "tags": []
   },
   "outputs": [],
   "source": [
    "# Order the cells in terms of PC1 score. Consider cells from both policies\n",
    "\n",
    "increasing_pc1_lst = []\n",
    "\n",
    "center_both_policies_projected = np.hstack([projected_sweep_three[:, 0], projected_random_three[:, 0]])\n",
    "center_both_policies_projected_arg_sorted = np.argsort(center_both_policies_projected)\n",
    "\n",
    "# Plot cells in increasing order - cells with idx >= 400 are the second policy (random) - keep track of this in order to use the correct numbering system for plotting\n",
    "\n",
    "fig, axs = plt.subplots(400, 4, figsize=(30, 850))\n",
    "\n",
    "# First half\n",
    "\n",
    "for cell_i, cell_idx in enumerate(center_both_policies_projected_arg_sorted[:400]):\n",
    "    \n",
    "    if cell_idx < 400:\n",
    "        \n",
    "        FREQUENCY, frequency_module_cell_num = convert_cell_num(cell_idx)\n",
    "        #print('{0}.{1}'.format(FREQUENCY, frequency_module_cell_num))\n",
    "        #sim_mat_tuple = plot_sim_mat(all_p_sweep[0], fig, axs, frequency=FREQUENCY, cell_num=frequency_module_cell_num, environment=environments[0], cell_i=cell_i, zero_trajectory_threshold=0)\n",
    "        \n",
    "        #axs[cell_i, 0], min_max = sim_mat_tuple[0], (np.min(sim_mat_tuple[1]), np.max(sim_mat_tuple[1]))\n",
    "        path_eq_vals = get_path_dependence_vector(all_p_sweep[0], FREQUENCY, frequency_module_cell_num, environment=environments[0], zero_trajectory_threshold=ZERO_TRAJECTORY_THRESHOLD)\n",
    "        #print(path_eq_vals.shape)\n",
    "        #path_eq_colors = ['tab:blue' if x >= 0 else 'tab:orange' for x in path_eq_vals]\n",
    "        axs[cell_i, 0].bar(np.arange(13), path_eq_vals)\n",
    "        axs[cell_i, 0].set_ylim(-1, 1)\n",
    "        axs[cell_i, 0].set_title('{0} cell_num: {1}.{2}; PC1_val: {3}'.format('sweep', FREQUENCY, frequency_module_cell_num, center_both_policies_projected[cell_idx]))\n",
    "        #axs[cell_i, 1].set_title('{0}'.format((path_eq_vals - np.mean(both_policies_area_order, axis=0)) @ V_T.T[:, 0]))\n",
    "        \n",
    "        # Add this cell and its pc1 value to a list\n",
    "        increasing_pc1_lst.append(('sweep', '{0}.{1}'.format(FREQUENCY, frequency_module_cell_num), center_both_policies_projected[cell_idx]))\n",
    "        \n",
    "        #ld_sweep_i = linearize_neighbor_trajectories(all_p_sweep[0], FREQUENCY, frequency_module_cell_num, environments[0])\n",
    "        \n",
    "        plot_opposite_direction(all_p_sweep[0], FREQUENCY, frequency_module_cell_num, environments[0], axs[cell_i, 1])\n",
    "        plot_same_start(all_p_sweep[0], FREQUENCY, frequency_module_cell_num, environments[0], axs[cell_i, 2])\n",
    "        plot_same_end(all_p_sweep[0], FREQUENCY, frequency_module_cell_num, environments[0], axs[cell_i, 3])\n",
    "        \n",
    "        #for trajectory in neighbor_trajectories:\n",
    "\n",
    "            #axs[cell_i, 2].plot(ld_sweep_i[trajectory], label='{0}'.format((trajectory[0]+1, trajectory[1]+1)))\n",
    "            #axs[cell_i, 2].set_title('{0} cell_num: {1}.{2}; PC1_val: {3}'.format('sweeping', FREQUENCY, frequency_module_cell_num, center_both_policies_projected[cell_idx]))\n",
    "            #axs[cell_i, 2].legend(bbox_to_anchor=(1, 1))\n",
    "        \n",
    "    else:\n",
    "        \n",
    "        FREQUENCY, frequency_module_cell_num = convert_cell_num(cell_idx - 400)\n",
    "        #print('{0}.{1}'.format(FREQUENCY, frequency_module_cell_num))\n",
    "        #sim_mat_tuple = plot_sim_mat(all_p_random[0], fig, axs, frequency=FREQUENCY, cell_num=frequency_module_cell_num, environment=environments[0], cell_i=cell_i, zero_trajectory_threshold=0)\n",
    "        \n",
    "        #axs[cell_i, 0], min_max = sim_mat_tuple[0], (np.min(sim_mat_tuple[1]), np.max(sim_mat_tuple[1]))\n",
    "        path_eq_vals = get_path_dependence_vector(all_p_random[0], FREQUENCY, frequency_module_cell_num, environment=environments[0], zero_trajectory_threshold=ZERO_TRAJECTORY_THRESHOLD)\n",
    "        #print(path_eq_vals.shape)\n",
    "        #path_eq_colors = ['tab:blue' if x >= 0 else 'tab:orange' for x in path_eq_vals]\n",
    "        axs[cell_i, 0].bar(np.arange(13), path_eq_vals)\n",
    "        axs[cell_i, 0].set_ylim(-1, 1)\n",
    "        axs[cell_i, 0].set_title('{0} cell_num: {1}.{2}; PC1_val: {3}'.format('random', FREQUENCY, frequency_module_cell_num, center_both_policies_projected[cell_idx]))\n",
    "        #axs[cell_i, 1].set_title('{0}'.format((path_eq_vals - np.mean(both_policies_area_order, axis=0)) @ V_T.T[:, 0]))\n",
    "        \n",
    "        # Add this cell and its pc1 value to a list\n",
    "        increasing_pc1_lst.append(('random', '{0}.{1}'.format(FREQUENCY, frequency_module_cell_num), center_both_policies_projected[cell_idx]))\n",
    "        \n",
    "        #ld_random_i = linearize_neighbor_trajectories(all_p_random[0], FREQUENCY, frequency_module_cell_num, environments[0])\n",
    "\n",
    "        plot_opposite_direction(all_p_random[0], FREQUENCY, frequency_module_cell_num, environments[0], axs[cell_i, 1])\n",
    "        plot_same_start(all_p_random[0], FREQUENCY, frequency_module_cell_num, environments[0], axs[cell_i, 2])\n",
    "        plot_same_end(all_p_random[0], FREQUENCY, frequency_module_cell_num, environments[0], axs[cell_i, 3])\n",
    "        \n",
    "        #for trajectory in neighbor_trajectories:\n",
    "\n",
    "            #axs[cell_i, 2].plot(ld_random_i[trajectory], label='{0}'.format((trajectory[0]+1, trajectory[1]+1)))\n",
    "            #axs[cell_i, 2].set_title('{0} cell_num: {1}.{2}; PC1_val: {3}'.format('random', FREQUENCY, frequency_module_cell_num, center_both_policies_projected[cell_idx]))\n",
    "            #axs[cell_i, 2].legend(bbox_to_anchor=(1, 1))\n",
    "            \n",
    "    #print('{0}.{1}'.format(FREQUENCY, cell_i))\n",
    "          \n",
    "# Second half\n",
    "\n",
    "fig, axs = plt.subplots(400, 4, figsize=(30, 850))\n",
    "\n",
    "for cell_i, cell_idx in enumerate(center_both_policies_projected_arg_sorted[400:]):\n",
    "    \n",
    "    if cell_idx < 400:\n",
    "        \n",
    "        FREQUENCY, frequency_module_cell_num = convert_cell_num(cell_idx)\n",
    "        #print('{0}.{1}'.format(FREQUENCY, frequency_module_cell_num))\n",
    "        #sim_mat_tuple = plot_sim_mat(all_p_sweep[0], fig, axs, frequency=FREQUENCY, cell_num=frequency_module_cell_num, environment=environments[0], cell_i=cell_i, zero_trajectory_threshold=0)\n",
    "        \n",
    "        #axs[cell_i, 0], min_max = sim_mat_tuple[0], (np.min(sim_mat_tuple[1]), np.max(sim_mat_tuple[1]))\n",
    "        path_eq_vals = get_path_dependence_vector(all_p_sweep[0], FREQUENCY, frequency_module_cell_num, environment=environments[0], zero_trajectory_threshold=ZERO_TRAJECTORY_THRESHOLD)\n",
    "        #print(path_eq_vals.shape)\n",
    "        #path_eq_colors = ['tab:blue' if x >= 0 else 'tab:orange' for x in path_eq_vals]\n",
    "        axs[cell_i, 0].bar(np.arange(13), path_eq_vals)\n",
    "        axs[cell_i, 0].set_ylim(-1, 1)\n",
    "        axs[cell_i, 0].set_title('{0} cell_num: {1}.{2}; PC1_val: {3}'.format('sweep', FREQUENCY, frequency_module_cell_num, center_both_policies_projected[cell_idx]))\n",
    "        #axs[cell_i, 1].set_title('{0}'.format((path_eq_vals - np.mean(both_policies_area_order, axis=0)) @ V_T.T[:, 0]))\n",
    "        \n",
    "        # Add this cell and its pc1 value to a list\n",
    "        increasing_pc1_lst.append(('sweep', '{0}.{1}'.format(FREQUENCY, frequency_module_cell_num), center_both_policies_projected[cell_idx]))\n",
    "        \n",
    "        #ld_sweep_i = linearize_neighbor_trajectories(all_p_sweep[0], FREQUENCY, frequency_module_cell_num, environments[0])\n",
    "        \n",
    "        plot_opposite_direction(all_p_sweep[0], FREQUENCY, frequency_module_cell_num, environments[0], axs[cell_i, 1])\n",
    "        plot_same_start(all_p_sweep[0], FREQUENCY, frequency_module_cell_num, environments[0], axs[cell_i, 2])\n",
    "        plot_same_end(all_p_sweep[0], FREQUENCY, frequency_module_cell_num, environments[0], axs[cell_i, 3])\n",
    "        \n",
    "        #for trajectory in neighbor_trajectories:\n",
    "\n",
    "            #axs[cell_i, 2].plot(ld_sweep_i[trajectory], label='{0}'.format((trajectory[0]+1, trajectory[1]+1)))\n",
    "            #axs[cell_i, 2].set_title('{0} cell_num: {1}.{2}; PC1_val: {3}'.format('sweeping', FREQUENCY, frequency_module_cell_num, center_both_policies_projected[cell_idx]))\n",
    "            #axs[cell_i, 2].legend(bbox_to_anchor=(1, 1))\n",
    "        \n",
    "    else:\n",
    "        \n",
    "        FREQUENCY, frequency_module_cell_num = convert_cell_num(cell_idx - 400)\n",
    "        #print('{0}.{1}'.format(FREQUENCY, frequency_module_cell_num))\n",
    "        #sim_mat_tuple = plot_sim_mat(all_p_random[0], fig, axs, frequency=FREQUENCY, cell_num=frequency_module_cell_num, environment=environments[0], cell_i=cell_i, zero_trajectory_threshold=0)\n",
    "\n",
    "        #axs[cell_i, 0], min_max = sim_mat_tuple[0], (np.min(sim_mat_tuple[1]), np.max(sim_mat_tuple[1]))\n",
    "        path_eq_vals = get_path_dependence_vector(all_p_random[0], FREQUENCY, frequency_module_cell_num,environment=environments[0], zero_trajectory_threshold=ZERO_TRAJECTORY_THRESHOLD)\n",
    "        #print(path_eq_vals.shape)\n",
    "        #path_eq_colors = ['tab:blue' if x >= 0 else 'tab:orange' for x in path_eq_vals]\n",
    "        axs[cell_i, 0].bar(np.arange(13), path_eq_vals)\n",
    "        axs[cell_i, 0].set_ylim(-1, 1)\n",
    "        axs[cell_i, 0].set_title('{0} cell_num: {1}.{2}; PC1_val: {3}'.format('random', FREQUENCY, frequency_module_cell_num, center_both_policies_projected[cell_idx]))\n",
    "        #axs[cell_i, 1].set_title('{0}'.format((path_eq_vals - np.mean(both_policies_area_order, axis=0)) @ V_T.T[:, 0]))\n",
    "        \n",
    "        # Add this cell and its pc1 value to a list\n",
    "        increasing_pc1_lst.append(('random', '{0}.{1}'.format(FREQUENCY, frequency_module_cell_num), center_both_policies_projected[cell_idx]))\n",
    "        \n",
    "        #ld_random_i = linearize_neighbor_trajectories(all_p_random[0], FREQUENCY, frequency_module_cell_num, environments[0])\n",
    "        \n",
    "        plot_opposite_direction(all_p_random[0], FREQUENCY, frequency_module_cell_num, environments[0], axs[cell_i, 1])\n",
    "        plot_same_start(all_p_random[0], FREQUENCY, frequency_module_cell_num, environments[0], axs[cell_i, 2])\n",
    "        plot_same_end(all_p_random[0], FREQUENCY, frequency_module_cell_num, environments[0], axs[cell_i, 3])\n",
    "        \n",
    "        #for trajectory in neighbor_trajectories:\n",
    "\n",
    "            #axs[cell_i, 2].plot(ld_random_i[trajectory], label='{0}'.format((trajectory[0]+1, trajectory[1]+1)))\n",
    "            #axs[cell_i, 2].set_title('{0} cell_num: {1}.{2}; PC1_val: {3}'.format('random', FREQUENCY, frequency_module_cell_num, center_both_policies_projected[cell_idx]))\n",
    "            #axs[cell_i, 2].legend(bbox_to_anchor=(1, 1))\n",
    "            \n"
   ]
  },
  {
   "cell_type": "code",
   "execution_count": null,
   "id": "3c66ded2-908e-449d-b6ef-5597f07a2914",
   "metadata": {},
   "outputs": [],
   "source": [
    "# Is there anything that justifies splitting? for example, if they seem like obvious categories"
   ]
  },
  {
   "cell_type": "code",
   "execution_count": null,
   "id": "f41ac98f-b026-419c-969e-35a05f459588",
   "metadata": {
    "tags": []
   },
   "outputs": [],
   "source": [
    "# Order the cells in terms of PC2 score. Consider cells from both policies\n",
    "\n",
    "increasing_pc2_lst = []\n",
    "\n",
    "center_both_policies_projected_pc2 = np.hstack([projected_sweep_three[:, 1], projected_random_three[:, 1]])\n",
    "center_both_policies_projected_arg_sorted_pc2 = np.argsort(center_both_policies_projected_pc2)\n",
    "\n",
    "# Plot cells in increasing order - cells with idx >= 400 are the second policy (random) - keep track of this in order to use the correct numbering system for plotting\n",
    "\n",
    "fig, axs = plt.subplots(400, 4, figsize=(30, 850))\n",
    "\n",
    "# First half\n",
    "\n",
    "for cell_i, cell_idx in enumerate(center_both_policies_projected_arg_sorted_pc2[:400]):\n",
    "    \n",
    "    if cell_idx < 400:\n",
    "        \n",
    "        FREQUENCY, frequency_module_cell_num = convert_cell_num(cell_idx)\n",
    "        #print('{0}.{1}'.format(FREQUENCY, frequency_module_cell_num))\n",
    "        #sim_mat_tuple = plot_sim_mat(all_p_sweep[0], fig, axs, frequency=FREQUENCY, cell_num=frequency_module_cell_num, environment=environments[0], cell_i=cell_i, zero_trajectory_threshold=0)\n",
    "        \n",
    "        #axs[cell_i, 0], min_max = sim_mat_tuple[0], (np.min(sim_mat_tuple[1]), np.max(sim_mat_tuple[1]))\n",
    "        path_eq_vals = get_path_dependence_vector(all_p_sweep[0], FREQUENCY, frequency_module_cell_num, environment=environments[0], zero_trajectory_threshold=ZERO_TRAJECTORY_THRESHOLD)\n",
    "        #print(path_eq_vals.shape)\n",
    "        #path_eq_colors = ['tab:blue' if x >= 0 else 'tab:orange' for x in path_eq_vals]\n",
    "        axs[cell_i, 0].bar(np.arange(13), path_eq_vals)\n",
    "        axs[cell_i, 0].set_ylim(-1, 1)\n",
    "        axs[cell_i, 0].set_title('{0} cell_num: {1}.{2}; PC2_val: {3}'.format('sweep', FREQUENCY, frequency_module_cell_num, center_both_policies_projected_pc2[cell_idx]))\n",
    "        #axs[cell_i, 1].set_title('{0}'.format((path_eq_vals - np.mean(both_policies_area_order, axis=0)) @ V_T.T[:, 0]))\n",
    "        \n",
    "        # Add this cell and its pc1 value to a list\n",
    "        increasing_pc2_lst.append(('sweep', '{0}.{1}'.format(FREQUENCY, frequency_module_cell_num), center_both_policies_projected_pc2[cell_idx]))\n",
    "        \n",
    "        #ld_sweep_i = linearize_neighbor_trajectories(all_p_sweep[0], FREQUENCY, frequency_module_cell_num, environments[0])\n",
    "        \n",
    "        plot_opposite_direction(all_p_sweep[0], FREQUENCY, frequency_module_cell_num, environments[0], axs[cell_i, 1])\n",
    "        plot_same_start(all_p_sweep[0], FREQUENCY, frequency_module_cell_num, environments[0], axs[cell_i, 2])\n",
    "        plot_same_end(all_p_sweep[0], FREQUENCY, frequency_module_cell_num, environments[0], axs[cell_i, 3])\n",
    "        \n",
    "        #for trajectory in neighbor_trajectories:\n",
    "\n",
    "            #axs[cell_i, 2].plot(ld_sweep_i[trajectory], label='{0}'.format((trajectory[0]+1, trajectory[1]+1)))\n",
    "            #axs[cell_i, 2].set_title('{0} cell_num: {1}.{2}; PC2_val: {3}'.format('sweeping', FREQUENCY, frequency_module_cell_num, center_both_policies_projected_pc2[cell_idx]))\n",
    "            #axs[cell_i, 2].legend(bbox_to_anchor=(1, 1))\n",
    "        \n",
    "    else:\n",
    "        \n",
    "        FREQUENCY, frequency_module_cell_num = convert_cell_num(cell_idx - 400)\n",
    "        #print('{0}.{1}'.format(FREQUENCY, frequency_module_cell_num))\n",
    "        #sim_mat_tuple = plot_sim_mat(all_p_random[0], fig, axs, frequency=FREQUENCY, cell_num=frequency_module_cell_num, environment=environments[0], cell_i=cell_i, zero_trajectory_threshold=0)\n",
    "        \n",
    "        #axs[cell_i, 0], min_max = sim_mat_tuple[0], (np.min(sim_mat_tuple[1]), np.max(sim_mat_tuple[1]))\n",
    "        path_eq_vals = get_path_dependence_vector(all_p_random[0], FREQUENCY, frequency_module_cell_num, environment=environments[0], zero_trajectory_threshold=ZERO_TRAJECTORY_THRESHOLD)\n",
    "        #print(path_eq_vals.shape)\n",
    "        #path_eq_colors = ['tab:blue' if x >= 0 else 'tab:orange' for x in path_eq_vals]\n",
    "        axs[cell_i, 0].bar(np.arange(13), path_eq_vals)\n",
    "        axs[cell_i, 0].set_ylim(-1, 1)\n",
    "        axs[cell_i, 0].set_title('{0} cell_num: {1}.{2}; PC2_val: {3}'.format('random', FREQUENCY, frequency_module_cell_num, center_both_policies_projected_pc2[cell_idx]))\n",
    "        #axs[cell_i, 1].set_title('{0}'.format((path_eq_vals - np.mean(both_policies_area_order, axis=0)) @ V_T.T[:, 0]))\n",
    "        \n",
    "        # Add this cell and its pc1 value to a list\n",
    "        increasing_pc2_lst.append(('random', '{0}.{1}'.format(FREQUENCY, frequency_module_cell_num), center_both_policies_projected_pc2[cell_idx]))\n",
    "        \n",
    "        #ld_random_i = linearize_neighbor_trajectories(all_p_random[0], FREQUENCY, frequency_module_cell_num, environments[0])\n",
    "        \n",
    "        plot_opposite_direction(all_p_random[0], FREQUENCY, frequency_module_cell_num, environments[0], axs[cell_i, 1])\n",
    "        plot_same_start(all_p_random[0], FREQUENCY, frequency_module_cell_num, environments[0], axs[cell_i, 2])\n",
    "        plot_same_end(all_p_random[0], FREQUENCY, frequency_module_cell_num, environments[0], axs[cell_i, 3])\n",
    "        \n",
    "        #for trajectory in neighbor_trajectories:\n",
    "\n",
    "            #axs[cell_i, 2].plot(ld_random_i[trajectory], label='{0}'.format((trajectory[0]+1, trajectory[1]+1)))\n",
    "            #axs[cell_i, 2].set_title('{0} cell_num: {1}.{2}; PC2_val: {3}'.format('random', FREQUENCY, frequency_module_cell_num, center_both_policies_projected_pc2[cell_idx]))\n",
    "            #axs[cell_i, 2].legend(bbox_to_anchor=(1, 1))\n",
    "            \n",
    "    #print('{0}.{1}'.format(FREQUENCY, cell_i))\n",
    "          \n",
    "# Second half\n",
    "\n",
    "fig, axs = plt.subplots(400, 4, figsize=(30, 850))\n",
    "\n",
    "for cell_i, cell_idx in enumerate(center_both_policies_projected_arg_sorted_pc2[400:]):\n",
    "    \n",
    "    if cell_idx < 400:\n",
    "        \n",
    "        FREQUENCY, frequency_module_cell_num = convert_cell_num(cell_idx)\n",
    "        #print('{0}.{1}'.format(FREQUENCY, frequency_module_cell_num))\n",
    "        #sim_mat_tuple = plot_sim_mat(all_p_sweep[0], fig, axs, frequency=FREQUENCY, cell_num=frequency_module_cell_num, environment=environments[0], cell_i=cell_i, zero_trajectory_threshold=0)\n",
    "        \n",
    "        #axs[cell_i, 0], min_max = sim_mat_tuple[0], (np.min(sim_mat_tuple[1]), np.max(sim_mat_tuple[1]))\n",
    "        path_eq_vals = get_path_dependence_vector(all_p_sweep[0], FREQUENCY, frequency_module_cell_num, environment=environments[0], zero_trajectory_threshold=ZERO_TRAJECTORY_THRESHOLD)\n",
    "        #print(path_eq_vals.shape)\n",
    "        #path_eq_colors = ['tab:blue' if x >= 0 else 'tab:orange' for x in path_eq_vals]\n",
    "        axs[cell_i, 0].bar(np.arange(13), path_eq_vals)\n",
    "        axs[cell_i, 0].set_ylim(-1, 1)\n",
    "        axs[cell_i, 0].set_title('{0} cell_num: {1}.{2}; PC2_val: {3}'.format('sweep', FREQUENCY, frequency_module_cell_num, center_both_policies_projected_pc2[cell_idx]))\n",
    "        #axs[cell_i, 1].set_title('{0}'.format((path_eq_vals - np.mean(both_policies_area_order, axis=0)) @ V_T.T[:, 0]))\n",
    "        \n",
    "        # Add this cell and its pc1 value to a list\n",
    "        increasing_pc2_lst.append(('sweep', '{0}.{1}'.format(FREQUENCY, frequency_module_cell_num), center_both_policies_projected_pc2[cell_idx]))\n",
    "        \n",
    "        #ld_sweep_i = linearize_neighbor_trajectories(all_p_sweep[0], FREQUENCY, frequency_module_cell_num, environments[0])\n",
    "        \n",
    "        plot_opposite_direction(all_p_sweep[0], FREQUENCY, frequency_module_cell_num, environments[0], axs[cell_i, 1])\n",
    "        plot_same_start(all_p_sweep[0], FREQUENCY, frequency_module_cell_num, environments[0], axs[cell_i, 2])\n",
    "        plot_same_end(all_p_sweep[0], FREQUENCY, frequency_module_cell_num, environments[0], axs[cell_i, 3])\n",
    "        \n",
    "        #for trajectory in neighbor_trajectories:\n",
    "\n",
    "            #axs[cell_i, 2].plot(ld_sweep_i[trajectory], label='{0}'.format((trajectory[0]+1, trajectory[1]+1)))\n",
    "            #axs[cell_i, 2].set_title('{0} cell_num: {1}.{2}; PC2_val: {3}'.format('sweeping', FREQUENCY, frequency_module_cell_num, center_both_policies_projected_pc2[cell_idx]))\n",
    "            #axs[cell_i, 2].legend(bbox_to_anchor=(1, 1))\n",
    "        \n",
    "    else:\n",
    "        \n",
    "        FREQUENCY, frequency_module_cell_num = convert_cell_num(cell_idx - 400)\n",
    "        #print('{0}.{1}'.format(FREQUENCY, frequency_module_cell_num))\n",
    "        #sim_mat_tuple = plot_sim_mat(all_p_random[0], fig, axs, frequency=FREQUENCY, cell_num=frequency_module_cell_num, environment=environments[0], cell_i=cell_i, zero_trajectory_threshold=0)\n",
    "\n",
    "        #axs[cell_i, 0], min_max = sim_mat_tuple[0], (np.min(sim_mat_tuple[1]), np.max(sim_mat_tuple[1]))\n",
    "        path_eq_vals = get_path_dependence_vector(all_p_random[0], FREQUENCY, frequency_module_cell_num, environment=environments[0], zero_trajectory_threshold=ZERO_TRAJECTORY_THRESHOLD)\n",
    "        #print(path_eq_vals.shape)\n",
    "        #path_eq_colors = ['tab:blue' if x >= 0 else 'tab:orange' for x in path_eq_vals]\n",
    "        axs[cell_i, 0].bar(np.arange(13), path_eq_vals)\n",
    "        axs[cell_i, 0].set_ylim(-1, 1)\n",
    "        axs[cell_i, 0].set_title('{0} cell_num: {1}.{2}; PC2_val: {3}'.format('random', FREQUENCY, frequency_module_cell_num, center_both_policies_projected_pc2[cell_idx]))\n",
    "        #axs[cell_i, 1].set_title('{0}'.format((path_eq_vals - np.mean(both_policies_area_order, axis=0)) @ V_T.T[:, 0]))\n",
    "\n",
    "        # Add this cell and its pc1 value to a list\n",
    "        increasing_pc2_lst.append(('random', '{0}.{1}'.format(FREQUENCY, frequency_module_cell_num), center_both_policies_projected_pc2[cell_idx]))\n",
    "        \n",
    "        #ld_random_i = linearize_neighbor_trajectories(all_p_random[0], FREQUENCY, frequency_module_cell_num, environments[0])\n",
    "        \n",
    "        plot_opposite_direction(all_p_random[0], FREQUENCY, frequency_module_cell_num, environments[0], axs[cell_i, 1])\n",
    "        plot_same_start(all_p_random[0], FREQUENCY, frequency_module_cell_num, environments[0], axs[cell_i, 2])\n",
    "        plot_same_end(all_p_random[0], FREQUENCY, frequency_module_cell_num, environments[0], axs[cell_i, 3])\n",
    "        \n",
    "        #for trajectory in neighbor_trajectories:\n",
    "\n",
    "            #axs[cell_i, 2].plot(ld_random_i[trajectory], label='{0}'.format((trajectory[0]+1, trajectory[1]+1)))\n",
    "            #axs[cell_i, 2].set_title('{0} cell_num: {1}.{2}; PC2_val: {3}'.format('random', FREQUENCY, frequency_module_cell_num, center_both_policies_projected_pc2[cell_idx]))\n",
    "            #axs[cell_i, 2].legend(bbox_to_anchor=(1, 1))\n",
    "            \n",
    "\n"
   ]
  },
  {
   "cell_type": "code",
   "execution_count": null,
   "id": "0bf31946-c55d-42d0-937e-924690a7ad2a",
   "metadata": {
    "scrolled": true,
    "tags": []
   },
   "outputs": [],
   "source": [
    "# Order the cells in terms of PC2 score. Consider cells from both policies\n",
    "\n",
    "increasing_pc3_lst = []\n",
    "\n",
    "center_both_policies_projected_pc3 = np.hstack([projected_sweep_three[:, 2], projected_random_three[:, 2]])\n",
    "center_both_policies_projected_arg_sorted_pc3 = np.argsort(center_both_policies_projected_pc3)\n",
    "\n",
    "# Plot cells in increasing order - cells with idx >= 400 are the second policy (random) - keep track of this in order to use the correct numbering system for plotting\n",
    "\n",
    "fig, axs = plt.subplots(400, 4, figsize=(30, 850))\n",
    "\n",
    "# First half\n",
    "\n",
    "for cell_i, cell_idx in enumerate(center_both_policies_projected_arg_sorted_pc3[:400]):\n",
    "    \n",
    "    if cell_idx < 400:\n",
    "        \n",
    "        FREQUENCY, frequency_module_cell_num = convert_cell_num(cell_idx)\n",
    "        #print('{0}.{1}'.format(FREQUENCY, frequency_module_cell_num))\n",
    "        #sim_mat_tuple = plot_sim_mat(all_p_sweep[0], fig, axs, frequency=FREQUENCY, cell_num=frequency_module_cell_num, environment=environments[0], cell_i=cell_i, zero_trajectory_threshold=0)\n",
    "        \n",
    "        #axs[cell_i, 0], min_max = sim_mat_tuple[0], (np.min(sim_mat_tuple[1]), np.max(sim_mat_tuple[1]))\n",
    "        path_eq_vals = get_path_dependence_vector(all_p_sweep[0], FREQUENCY, frequency_module_cell_num, environment=environments[0], zero_trajectory_threshold=ZERO_TRAJECTORY_THRESHOLD)\n",
    "        #print(path_eq_vals.shape)\n",
    "        #path_eq_colors = ['tab:blue' if x >= 0 else 'tab:orange' for x in path_eq_vals]\n",
    "        axs[cell_i, 0].bar(np.arange(13), path_eq_vals)\n",
    "        axs[cell_i, 0].set_ylim(-1, 1)\n",
    "        axs[cell_i, 0].set_title('{0} cell_num: {1}.{2}; PC3_val: {3}'.format('sweep', FREQUENCY, frequency_module_cell_num, center_both_policies_projected_pc3[cell_idx]))\n",
    "        #axs[cell_i, 1].set_title('{0}'.format((path_eq_vals - np.mean(both_policies_area_order, axis=0)) @ V_T.T[:, 0]))\n",
    "        \n",
    "        # Add this cell and its pc1 value to a list\n",
    "        increasing_pc3_lst.append(('sweep', '{0}.{1}'.format(FREQUENCY, frequency_module_cell_num), center_both_policies_projected_pc3[cell_idx]))\n",
    "        \n",
    "        #ld_sweep_i = linearize_neighbor_trajectories(all_p_sweep[0], FREQUENCY, frequency_module_cell_num, environments[0])\n",
    "        \n",
    "        plot_opposite_direction(all_p_sweep[0], FREQUENCY, frequency_module_cell_num, environments[0], axs[cell_i, 1])\n",
    "        plot_same_start(all_p_sweep[0], FREQUENCY, frequency_module_cell_num, environments[0], axs[cell_i, 2])\n",
    "        plot_same_end(all_p_sweep[0], FREQUENCY, frequency_module_cell_num, environments[0], axs[cell_i, 3])\n",
    "        \n",
    "        #for trajectory in neighbor_trajectories:\n",
    "\n",
    "            #axs[cell_i, 2].plot(ld_sweep_i[trajectory], label='{0}'.format((trajectory[0]+1, trajectory[1]+1)))\n",
    "            #axs[cell_i, 2].set_title('{0} cell_num: {1}.{2}; PC2_val: {3}'.format('sweeping', FREQUENCY, frequency_module_cell_num, center_both_policies_projected_pc2[cell_idx]))\n",
    "            #axs[cell_i, 2].legend(bbox_to_anchor=(1, 1))\n",
    "        \n",
    "    else:\n",
    "        \n",
    "        FREQUENCY, frequency_module_cell_num = convert_cell_num(cell_idx - 400)\n",
    "        #print('{0}.{1}'.format(FREQUENCY, frequency_module_cell_num))\n",
    "        #sim_mat_tuple = plot_sim_mat(all_p_random[0], fig, axs, frequency=FREQUENCY, cell_num=frequency_module_cell_num, environment=environments[0], cell_i=cell_i, zero_trajectory_threshold=0)\n",
    "        \n",
    "        #axs[cell_i, 0], min_max = sim_mat_tuple[0], (np.min(sim_mat_tuple[1]), np.max(sim_mat_tuple[1]))\n",
    "        path_eq_vals = get_path_dependence_vector(all_p_random[0], FREQUENCY, frequency_module_cell_num, environment=environments[0], zero_trajectory_threshold=ZERO_TRAJECTORY_THRESHOLD)\n",
    "        #print(path_eq_vals.shape)\n",
    "        #path_eq_colors = ['tab:blue' if x >= 0 else 'tab:orange' for x in path_eq_vals]\n",
    "        axs[cell_i, 0].bar(np.arange(13), path_eq_vals)\n",
    "        axs[cell_i, 0].set_ylim(-1, 1)\n",
    "        axs[cell_i, 0].set_title('{0} cell_num: {1}.{2}; PC3_val: {3}'.format('random', FREQUENCY, frequency_module_cell_num, center_both_policies_projected_pc3[cell_idx]))\n",
    "        #axs[cell_i, 1].set_title('{0}'.format((path_eq_vals - np.mean(both_policies_area_order, axis=0)) @ V_T.T[:, 0]))\n",
    "        \n",
    "        # Add this cell and its pc1 value to a list\n",
    "        increasing_pc3_lst.append(('random', '{0}.{1}'.format(FREQUENCY, frequency_module_cell_num), center_both_policies_projected_pc3[cell_idx]))\n",
    "        \n",
    "        #ld_random_i = linearize_neighbor_trajectories(all_p_random[0], FREQUENCY, frequency_module_cell_num, environments[0])\n",
    "        \n",
    "        plot_opposite_direction(all_p_random[0], FREQUENCY, frequency_module_cell_num, environments[0], axs[cell_i, 1])\n",
    "        plot_same_start(all_p_random[0], FREQUENCY, frequency_module_cell_num, environments[0], axs[cell_i, 2])\n",
    "        plot_same_end(all_p_random[0], FREQUENCY, frequency_module_cell_num, environments[0], axs[cell_i, 3])\n",
    "        \n",
    "        #for trajectory in neighbor_trajectories:\n",
    "\n",
    "            #axs[cell_i, 2].plot(ld_random_i[trajectory], label='{0}'.format((trajectory[0]+1, trajectory[1]+1)))\n",
    "            #axs[cell_i, 2].set_title('{0} cell_num: {1}.{2}; PC2_val: {3}'.format('random', FREQUENCY, frequency_module_cell_num, center_both_policies_projected_pc2[cell_idx]))\n",
    "            #axs[cell_i, 2].legend(bbox_to_anchor=(1, 1))\n",
    "            \n",
    "    #print('{0}.{1}'.format(FREQUENCY, cell_i))\n",
    "          \n",
    "# Second half\n",
    "\n",
    "fig, axs = plt.subplots(400, 4, figsize=(30, 850))\n",
    "\n",
    "for cell_i, cell_idx in enumerate(center_both_policies_projected_arg_sorted_pc3[400:]):\n",
    "    \n",
    "    if cell_idx < 400:\n",
    "        \n",
    "        FREQUENCY, frequency_module_cell_num = convert_cell_num(cell_idx)\n",
    "        #print('{0}.{1}'.format(FREQUENCY, frequency_module_cell_num))\n",
    "        #sim_mat_tuple = plot_sim_mat(all_p_sweep[0], fig, axs, frequency=FREQUENCY, cell_num=frequency_module_cell_num, environment=environments[0], cell_i=cell_i, zero_trajectory_threshold=0)\n",
    "        \n",
    "        #axs[cell_i, 0], min_max = sim_mat_tuple[0], (np.min(sim_mat_tuple[1]), np.max(sim_mat_tuple[1]))\n",
    "        path_eq_vals = get_path_dependence_vector(all_p_sweep[0], FREQUENCY, frequency_module_cell_num, environment=environments[0], zero_trajectory_threshold=ZERO_TRAJECTORY_THRESHOLD)\n",
    "        #print(path_eq_vals.shape)\n",
    "        #path_eq_colors = ['tab:blue' if x >= 0 else 'tab:orange' for x in path_eq_vals]\n",
    "        axs[cell_i, 0].bar(np.arange(13), path_eq_vals)\n",
    "        axs[cell_i, 0].set_ylim(-1, 1)\n",
    "        axs[cell_i, 0].set_title('{0} cell_num: {1}.{2}; PC3_val: {3}'.format('sweep', FREQUENCY, frequency_module_cell_num, center_both_policies_projected_pc3[cell_idx]))\n",
    "        #axs[cell_i, 1].set_title('{0}'.format((path_eq_vals - np.mean(both_policies_area_order, axis=0)) @ V_T.T[:, 0]))\n",
    "        \n",
    "        # Add this cell and its pc1 value to a list\n",
    "        increasing_pc3_lst.append(('sweep', '{0}.{1}'.format(FREQUENCY, frequency_module_cell_num), center_both_policies_projected_pc3[cell_idx]))\n",
    "        \n",
    "        #ld_sweep_i = linearize_neighbor_trajectories(all_p_sweep[0], FREQUENCY, frequency_module_cell_num, environments[0])\n",
    "        \n",
    "        plot_opposite_direction(all_p_sweep[0], FREQUENCY, frequency_module_cell_num, environments[0], axs[cell_i, 1])\n",
    "        plot_same_start(all_p_sweep[0], FREQUENCY, frequency_module_cell_num, environments[0], axs[cell_i, 2])\n",
    "        plot_same_end(all_p_sweep[0], FREQUENCY, frequency_module_cell_num, environments[0], axs[cell_i, 3])\n",
    "        \n",
    "        #for trajectory in neighbor_trajectories:\n",
    "\n",
    "            #axs[cell_i, 2].plot(ld_sweep_i[trajectory], label='{0}'.format((trajectory[0]+1, trajectory[1]+1)))\n",
    "            #axs[cell_i, 2].set_title('{0} cell_num: {1}.{2}; PC2_val: {3}'.format('sweeping', FREQUENCY, frequency_module_cell_num, center_both_policies_projected_pc2[cell_idx]))\n",
    "            #axs[cell_i, 2].legend(bbox_to_anchor=(1, 1))\n",
    "        \n",
    "    else:\n",
    "        \n",
    "        FREQUENCY, frequency_module_cell_num = convert_cell_num(cell_idx - 400)\n",
    "        #print('{0}.{1}'.format(FREQUENCY, frequency_module_cell_num))\n",
    "        #sim_mat_tuple = plot_sim_mat(all_p_random[0], fig, axs, frequency=FREQUENCY, cell_num=frequency_module_cell_num, environment=environments[0], cell_i=cell_i, zero_trajectory_threshold=0)\n",
    "\n",
    "        #axs[cell_i, 0], min_max = sim_mat_tuple[0], (np.min(sim_mat_tuple[1]), np.max(sim_mat_tuple[1]))\n",
    "        path_eq_vals = get_path_dependence_vector(all_p_random[0], FREQUENCY, frequency_module_cell_num, environment=environments[0], zero_trajectory_threshold=ZERO_TRAJECTORY_THRESHOLD)\n",
    "        #print(path_eq_vals.shape)\n",
    "        #path_eq_colors = ['tab:blue' if x >= 0 else 'tab:orange' for x in path_eq_vals]\n",
    "        axs[cell_i, 0].bar(np.arange(13), path_eq_vals)\n",
    "        axs[cell_i, 0].set_ylim(-1, 1)\n",
    "        axs[cell_i, 0].set_title('{0} cell_num: {1}.{2}; PC3_val: {3}'.format('random', FREQUENCY, frequency_module_cell_num, center_both_policies_projected_pc3[cell_idx]))\n",
    "        #axs[cell_i, 1].set_title('{0}'.format((path_eq_vals - np.mean(both_policies_area_order, axis=0)) @ V_T.T[:, 0]))\n",
    "\n",
    "        # Add this cell and its pc1 value to a list\n",
    "        increasing_pc3_lst.append(('random', '{0}.{1}'.format(FREQUENCY, frequency_module_cell_num), center_both_policies_projected_pc3[cell_idx]))\n",
    "        \n",
    "        #ld_random_i = linearize_neighbor_trajectories(all_p_random[0], FREQUENCY, frequency_module_cell_num, environments[0])\n",
    "        \n",
    "        plot_opposite_direction(all_p_random[0], FREQUENCY, frequency_module_cell_num, environments[0], axs[cell_i, 1])\n",
    "        plot_same_start(all_p_random[0], FREQUENCY, frequency_module_cell_num, environments[0], axs[cell_i, 2])\n",
    "        plot_same_end(all_p_random[0], FREQUENCY, frequency_module_cell_num, environments[0], axs[cell_i, 3])\n",
    "        \n",
    "        #for trajectory in neighbor_trajectories:\n",
    "\n",
    "            #axs[cell_i, 2].plot(ld_random_i[trajectory], label='{0}'.format((trajectory[0]+1, trajectory[1]+1)))\n",
    "            #axs[cell_i, 2].set_title('{0} cell_num: {1}.{2}; PC2_val: {3}'.format('random', FREQUENCY, frequency_module_cell_num, center_both_policies_projected_pc2[cell_idx]))\n",
    "            #axs[cell_i, 2].legend(bbox_to_anchor=(1, 1))\n",
    "            \n",
    "\n"
   ]
  },
  {
   "cell_type": "code",
   "execution_count": null,
   "id": "bc6ee3dd-d119-4c83-9e37-7730282ecb0e",
   "metadata": {},
   "outputs": [],
   "source": []
  },
  {
   "cell_type": "code",
   "execution_count": null,
   "id": "5f9b64d3-c6a4-4d95-9797-8efc4d7b369a",
   "metadata": {},
   "outputs": [],
   "source": [
    "def get_path_dependence_vector_only_max_firing(all_p_env, frequency, cell_num, environment, zero_trajectory_threshold=0, impute_val=1, verbose=False):\n",
    "    \n",
    "    linearized_dict = linearize_neighbor_trajectories(all_p_env, frequency, cell_num, environment)\n",
    "    \n",
    "    flip_direction = []\n",
    "    flip_direction_sum_list = []\n",
    "    \n",
    "    same_end = []\n",
    "    same_end_sum_list = []\n",
    "    \n",
    "    same_start = []\n",
    "    same_start_sum_list = []\n",
    "    \n",
    "    trajectory_dict = make_trajectory_dict\n",
    "    \n",
    "    which_trajectories_flip = []\n",
    "    which_trajectories_same_start = []\n",
    "    which_trajectories_same_end = []\n",
    "    #print(linearized_dict)\n",
    "    # Collect values for reverse-direction trajectories\n",
    "    for traj_i, traj_a_ident in enumerate(neighbor_trajectories):\n",
    "        for traj_b_ident in neighbor_trajectories[traj_i:]:\n",
    "            all_arms = traj_a_ident + traj_b_ident\n",
    "            if (min(traj_a_ident) <= min(traj_b_ident)) and (max(all_arms) - min(all_arms) <= 2) and (traj_a_ident != traj_b_ident):\n",
    "                traj_a_state_seq = np.array(analyse.get_trajectory_states(traj_a_ident, environment))\n",
    "                traj_b_state_seq = np.array(analyse.get_trajectory_states(traj_b_ident, environment))\n",
    "                #if verbose:\n",
    "                    #print(traj_a_state_seq)\n",
    "                shared_trajectory_locations = traj_a_state_seq == traj_b_state_seq\n",
    "                \n",
    "                trace_a = linearized_dict[traj_a_ident]\n",
    "                trace_b = linearized_dict[traj_b_ident]\n",
    "                \n",
    "                if traj_a_ident == traj_b_ident[::-1]:\n",
    "                    flip_direction_sum_list.append(np.sum(np.abs(trace_a[1:-1])) + np.sum(np.abs(trace_b[1:-1])))\n",
    "                    flip_direction.append(analyse.normalized_overlap_path_dependence(traj_a_ident, traj_b_ident, trace_a, trace_b, environment, zero_trajectory_threshold, impute_val))\n",
    "                    which_trajectories_flip.append(str(np.array((traj_a_ident, traj_b_ident)) + 1))\n",
    "                elif traj_a_ident[0] == traj_b_ident[0]:\n",
    "                    same_start_sum_list.append(np.sum(np.abs(trace_a[shared_trajectory_locations])) + np.sum(np.abs(trace_b[shared_trajectory_locations])))\n",
    "                    same_start.append(analyse.normalized_overlap_path_dependence(traj_a_ident, traj_b_ident, trace_a, trace_b, environment, zero_trajectory_threshold, impute_val))\n",
    "                    #if verbose:\n",
    "                        #print('shared_start'.format(shared_trajectory_locations))\n",
    "                    which_trajectories_same_start.append(str(np.array((traj_a_ident, traj_b_ident)) + 1))\n",
    "                elif traj_a_ident[1] == traj_b_ident[1]:\n",
    "                    #print('!: {0}'.format(trace_a[shared_trajectory_locations].shape))\n",
    "                    #print(trace_a[shared_trajectory_locations])\n",
    "                    #print(trace_b[shared_trajectory_locations])\n",
    "                    #print(shared_trajectory_locations)\n",
    "                    #print('{0}: {1}, {2}: {3}'.format(traj_a_ident, np.sum(np.abs(trace_a[shared_trajectory_locations])), traj_b_ident, np.sum(np.abs(trace_b[shared_trajectory_locations]))))\n",
    "                    same_end_sum_list.append(np.sum(np.abs(trace_a[shared_trajectory_locations])) + np.sum(np.abs(trace_b[shared_trajectory_locations])))\n",
    "                    same_end.append(analyse.normalized_overlap_path_dependence(traj_a_ident, traj_b_ident, trace_a, trace_b, environment, zero_trajectory_threshold, impute_val))\n",
    "                    #if verbose:\n",
    "                        #print('shared_end'.format(shared_trajectory_locations))\n",
    "                    which_trajectories_same_end.append(str(np.array((traj_a_ident, traj_b_ident)) + 1))\n",
    "                    \n",
    "    flip_direction_sum_arr = np.array(flip_direction_sum_list)\n",
    "    flip_direction = np.array(flip_direction)\n",
    "    flip_direction_idxs = np.argsort(flip_direction_sum_arr)[::-1]\n",
    "    which_trajectories_flip = np.array(which_trajectories_flip)\n",
    "    \n",
    "    if verbose:\n",
    "        print(which_trajectories_flip.shape)\n",
    "    \n",
    "    same_start_sum_arr = np.array(same_start_sum_list)\n",
    "    same_start = np.array(same_start)\n",
    "    same_start_idxs = np.argsort(same_start_sum_arr)[::-1]\n",
    "    which_trajectories_same_start = np.array(which_trajectories_same_start)\n",
    "    \n",
    "    if verbose:\n",
    "        print(which_trajectories_same_start.shape)\n",
    "        print('which_trajectories_same_start: {0}'.format(which_trajectories_same_start[same_start_idxs]))\n",
    "        print('same_start_sum_arr: {0}'.format(same_start_sum_arr[same_start_idxs]))\n",
    "        \n",
    "    same_end_sum_arr = np.array(same_end_sum_list)\n",
    "    same_end = np.array(same_end)\n",
    "    same_end_idxs = np.argsort(same_end_sum_arr)[::-1]\n",
    "    which_trajectories_same_end = np.array(which_trajectories_same_end)\n",
    "    if verbose:\n",
    "        print(which_trajectories_same_end.shape)\n",
    "        print('which_trajectories_same_end: {0}'.format(which_trajectories_same_end[same_end_idxs]))\n",
    "        print('same_end_sum_arr: {0}'.format(same_end_sum_arr[same_end_idxs]))\n",
    "    #return np.hstack([flip_direction[flip_direction_idxs], same_start[same_start_idxs], same_end[same_end_idxs]]), np.hstack([which_trajectories_flip[flip_direction_idxs], which_trajectories_same_start[same_start_idxs], which_trajectories_same_end[same_end_idxs]])\n",
    "    \n",
    "    return np.hstack([flip_direction[flip_direction_idxs][0], same_start[same_start_idxs][0], same_end[same_end_idxs][0]])\n"
   ]
  },
  {
   "cell_type": "code",
   "execution_count": null,
   "id": "4c2738c2-fa71-4906-83b6-82cc736d50ff",
   "metadata": {},
   "outputs": [],
   "source": []
  }
 ],
 "metadata": {
  "kernelspec": {
   "display_name": "Python 3",
   "language": "python",
   "name": "python3"
  },
  "language_info": {
   "codemirror_mode": {
    "name": "ipython",
    "version": 3
   },
   "file_extension": ".py",
   "mimetype": "text/x-python",
   "name": "python",
   "nbconvert_exporter": "python",
   "pygments_lexer": "ipython3",
   "version": "3.9.7"
  }
 },
 "nbformat": 4,
 "nbformat_minor": 5
}
